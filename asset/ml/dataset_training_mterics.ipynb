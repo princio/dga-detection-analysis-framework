{
 "cells": [
  {
   "cell_type": "code",
   "execution_count": 1,
   "id": "4a6c733f-8357-4260-8a9d-c937657c3e89",
   "metadata": {},
   "outputs": [],
   "source": [
    "import pandas as pd\n",
    "\n",
    "df = pd.read_csv(\"dataset_training.csv\")\n"
   ]
  },
  {
   "cell_type": "code",
   "execution_count": 7,
   "id": "f51c6874-45da-4056-a5d4-e98fe8f8acb6",
   "metadata": {},
   "outputs": [
    {
     "name": "stdout",
     "output_type": "stream",
     "text": [
      "dgas 337500\n",
      "legits 337398\n"
     ]
    }
   ],
   "source": [
    "dgas = (df.legit == \"dga\").sum()\n",
    "legits = (df.legit != \"dga\").sum()\n",
    "\n",
    "print(\"dgas\", dgas)\n",
    "print(\"legits\", legits)\n",
    "\n"
   ]
  },
  {
   "cell_type": "code",
   "execution_count": 13,
   "id": "d66224a0-2603-4d4a-b702-f9d9c00dfb35",
   "metadata": {},
   "outputs": [
    {
     "data": {
      "text/html": [
       "<div>\n",
       "<style scoped>\n",
       "    .dataframe tbody tr th:only-of-type {\n",
       "        vertical-align: middle;\n",
       "    }\n",
       "\n",
       "    .dataframe tbody tr th {\n",
       "        vertical-align: top;\n",
       "    }\n",
       "\n",
       "    .dataframe thead th {\n",
       "        text-align: right;\n",
       "    }\n",
       "</style>\n",
       "<table border=\"1\" class=\"dataframe\">\n",
       "  <thead>\n",
       "    <tr style=\"text-align: right;\">\n",
       "      <th></th>\n",
       "      <th>class</th>\n",
       "      <th>dn</th>\n",
       "      <th>count</th>\n",
       "    </tr>\n",
       "    <tr>\n",
       "      <th>legit</th>\n",
       "      <th></th>\n",
       "      <th></th>\n",
       "      <th></th>\n",
       "    </tr>\n",
       "  </thead>\n",
       "  <tbody>\n",
       "    <tr>\n",
       "      <th>legit</th>\n",
       "      <td>61</td>\n",
       "      <td>61</td>\n",
       "      <td>61</td>\n",
       "    </tr>\n",
       "  </tbody>\n",
       "</table>\n",
       "</div>"
      ],
      "text/plain": [
       "       class  dn  count\n",
       "legit                  \n",
       "legit     61  61     61"
      ]
     },
     "execution_count": 13,
     "metadata": {},
     "output_type": "execute_result"
    }
   ],
   "source": [
    "duplicates = df.value_counts()\n",
    "duplicates = duplicates[duplicates > 1]\n",
    "duplicates.reset_index().groupby(\"legit\").count()"
   ]
  },
  {
   "cell_type": "code",
   "execution_count": 16,
   "id": "ec1b75f9-0b2c-4346-9d8e-ff1e219bf002",
   "metadata": {},
   "outputs": [
    {
     "name": "stdout",
     "output_type": "stream",
     "text": [
      "26\n"
     ]
    },
    {
     "data": {
      "text/plain": [
       "class\n",
       "alexa           337398\n",
       "gozi             13500\n",
       "nymaim           13500\n",
       "suppobox         13500\n",
       "rovnix           13500\n",
       "padcrypt         13500\n",
       "conficker        13500\n",
       "vawtrak          13500\n",
       "ramdo            13500\n",
       "cryptolocker     13500\n",
       "murofet          13500\n",
       "tinba            13500\n",
       "pykspa           13500\n",
       "ramnit           13500\n",
       "corebot          13500\n",
       "kraken           13500\n",
       "qadars           13500\n",
       "pushdo           13500\n",
       "fobber           13500\n",
       "simda            13500\n",
       "matsnu           13500\n",
       "dircrypt         13500\n",
       "emotet           13500\n",
       "symmi            13500\n",
       "ranbyus          13500\n",
       "necurs           13500\n",
       "Name: count, dtype: int64"
      ]
     },
     "execution_count": 16,
     "metadata": {},
     "output_type": "execute_result"
    }
   ],
   "source": [
    "print(df[\"class\"].value_counts().shape[0])\n",
    "df[\"class\"].value_counts()"
   ]
  }
 ],
 "metadata": {
  "kernelspec": {
   "display_name": "Python 3 (ipykernel)",
   "language": "python",
   "name": "python3"
  },
  "language_info": {
   "codemirror_mode": {
    "name": "ipython",
    "version": 3
   },
   "file_extension": ".py",
   "mimetype": "text/x-python",
   "name": "python",
   "nbconvert_exporter": "python",
   "pygments_lexer": "ipython3",
   "version": "3.12.0"
  }
 },
 "nbformat": 4,
 "nbformat_minor": 5
}
