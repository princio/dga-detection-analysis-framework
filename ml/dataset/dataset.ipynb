{
 "cells": [
  {
   "cell_type": "code",
   "execution_count": 8,
   "metadata": {},
   "outputs": [],
   "source": [
    "from math import floor\n",
    "import math\n",
    "import pandas as pd\n",
    "from sklearn.ensemble import RandomForestClassifier\n",
    "from sklearn.svm import OneClassSVM\n",
    "from sklearn.metrics import confusion_matrix, classification_report, make_scorer\n",
    "from sklearn.model_selection import train_test_split, StratifiedKFold, cross_val_predict\n",
    "import numpy as np\n",
    "import common # type: ignore\n",
    "from sklearn.feature_selection import VarianceThreshold\n",
    "from mlxtend.feature_selection import SequentialFeatureSelector\n",
    "from IPython.display import display, Markdown, Latex, HTML\n",
    "import matplotlib.pyplot as plt\n",
    "import matplotlib.colors as mpcolors\n",
    "from sqlalchemy import create_engine, text\n",
    "import math\n",
    "import common\n",
    "\n",
    "EPS_TH = 0.5\n",
    "DATASET = \"CTU-13\"\n",
    "database = common.Database()\n",
    "\n",
    "pcaps = pd.read_sql(\"SELECT * FROM pcapmw\", database.engine)\n",
    "\n",
    "pcaps.insert(0, \"selected\", 0)\n",
    "\n",
    "with open(\"pcaps.md\", \"w\") as fp:\n",
    "    fp.write(pcaps.to_markdown(index=False))"
   ]
  },
  {
   "cell_type": "code",
   "execution_count": null,
   "metadata": {},
   "outputs": [],
   "source": [
    "from sqlalchemy.orm import sessionmaker\n",
    "\n",
    "# Crea una sessione\n",
    "Session = sessionmaker(bind=database.engine)\n",
    "session = Session()\n",
    "\n",
    "try:\n",
    "    # Esegui il comando di refresh\n",
    "    session.execute('REFRESH MATERIALIZED VIEW pcapmw')\n",
    "    session.commit()\n",
    "    print(\"Materialized view refreshed successfully\")\n",
    "except Exception as e:\n",
    "    session.rollback()\n",
    "    print(f\"Error refreshing materialized view: {e}\")\n",
    "finally:\n",
    "    session.close()"
   ]
  }
 ],
 "metadata": {
  "kernelspec": {
   "display_name": "scikitlearn",
   "language": "python",
   "name": "python3"
  },
  "language_info": {
   "codemirror_mode": {
    "name": "ipython",
    "version": 3
   },
   "file_extension": ".py",
   "mimetype": "text/x-python",
   "name": "python",
   "nbconvert_exporter": "python",
   "pygments_lexer": "ipython3",
   "version": "3.12.0"
  }
 },
 "nbformat": 4,
 "nbformat_minor": 2
}
