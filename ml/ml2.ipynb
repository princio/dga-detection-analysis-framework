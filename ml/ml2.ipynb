{
 "cells": [
  {
   "cell_type": "code",
   "execution_count": 1,
   "metadata": {},
   "outputs": [
    {
     "name": "stdout",
     "output_type": "stream",
     "text": [
      "True\n"
     ]
    },
    {
     "data": {
      "text/plain": [
       "MultiIndex([('llr', 'TLD', '1000000')],\n",
       "           )"
      ]
     },
     "execution_count": 1,
     "metadata": {},
     "output_type": "execute_result"
    }
   ],
   "source": [
    "import pandas as pd\n",
    "from sklearn.ensemble import RandomForestClassifier\n",
    "from sklearn.svm import OneClassSVM\n",
    "from sklearn.metrics import confusion_matrix, classification_report, make_scorer\n",
    "from sklearn.model_selection import train_test_split, StratifiedKFold, cross_val_predict\n",
    "import numpy as np\n",
    "import common # type: ignore\n",
    "from sklearn.feature_selection import VarianceThreshold\n",
    "from mlxtend.feature_selection import SequentialFeatureSelector\n",
    "import warnings\n",
    "import pickle\n",
    "from pprint import pprint\n",
    "\n",
    "dataset = common.Dataset()\n",
    "\n",
    "dataset.label().value_counts()\n",
    "\n",
    "flags = common.DatasetFlags.ONLY_1M ^ common.DatasetFlags.ONLY_TLD\n",
    "\n",
    "print(common.DatasetFlags.ONLY_1M in flags)\n",
    "dataset.feature(flags).columns\n"
   ]
  },
  {
   "cell_type": "code",
   "execution_count": null,
   "metadata": {},
   "outputs": [],
   "source": []
  }
 ],
 "metadata": {
  "kernelspec": {
   "display_name": "scikitlearn",
   "language": "python",
   "name": "python3"
  },
  "language_info": {
   "codemirror_mode": {
    "name": "ipython",
    "version": 3
   },
   "file_extension": ".py",
   "mimetype": "text/x-python",
   "name": "python",
   "nbconvert_exporter": "python",
   "pygments_lexer": "ipython3",
   "version": "3.12.0"
  }
 },
 "nbformat": 4,
 "nbformat_minor": 2
}
