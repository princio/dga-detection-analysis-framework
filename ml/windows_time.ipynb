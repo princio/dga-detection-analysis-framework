{
 "cells": [
  {
   "cell_type": "code",
   "execution_count": 1,
   "metadata": {},
   "outputs": [
    {
     "data": {
      "text/html": [
       "<div>\n",
       "<style scoped>\n",
       "    .dataframe tbody tr th:only-of-type {\n",
       "        vertical-align: middle;\n",
       "    }\n",
       "\n",
       "    .dataframe tbody tr th {\n",
       "        vertical-align: top;\n",
       "    }\n",
       "\n",
       "    .dataframe thead th {\n",
       "        text-align: right;\n",
       "    }\n",
       "</style>\n",
       "<table border=\"1\" class=\"dataframe\">\n",
       "  <thead>\n",
       "    <tr style=\"text-align: right;\">\n",
       "      <th></th>\n",
       "      <th>source_id</th>\n",
       "      <th>9</th>\n",
       "      <th>10</th>\n",
       "      <th>11</th>\n",
       "      <th>12</th>\n",
       "      <th>13</th>\n",
       "      <th>14</th>\n",
       "      <th>15</th>\n",
       "      <th>16</th>\n",
       "      <th>17</th>\n",
       "      <th>18</th>\n",
       "      <th>...</th>\n",
       "      <th>49</th>\n",
       "      <th>50</th>\n",
       "      <th>51</th>\n",
       "      <th>52</th>\n",
       "      <th>53</th>\n",
       "      <th>54</th>\n",
       "      <th>55</th>\n",
       "      <th>56</th>\n",
       "      <th>57</th>\n",
       "      <th>58</th>\n",
       "    </tr>\n",
       "    <tr>\n",
       "      <th></th>\n",
       "      <th>slot</th>\n",
       "      <th></th>\n",
       "      <th></th>\n",
       "      <th></th>\n",
       "      <th></th>\n",
       "      <th></th>\n",
       "      <th></th>\n",
       "      <th></th>\n",
       "      <th></th>\n",
       "      <th></th>\n",
       "      <th></th>\n",
       "      <th></th>\n",
       "      <th></th>\n",
       "      <th></th>\n",
       "      <th></th>\n",
       "      <th></th>\n",
       "      <th></th>\n",
       "      <th></th>\n",
       "      <th></th>\n",
       "      <th></th>\n",
       "      <th></th>\n",
       "      <th></th>\n",
       "    </tr>\n",
       "  </thead>\n",
       "  <tbody>\n",
       "    <tr>\n",
       "      <th rowspan=\"11\" valign=\"top\">q</th>\n",
       "      <th>0.0</th>\n",
       "      <td>1072.0</td>\n",
       "      <td>1500.0</td>\n",
       "      <td>4750.0</td>\n",
       "      <td>8606.0</td>\n",
       "      <td>35750.0</td>\n",
       "      <td>4400.0</td>\n",
       "      <td>1950.0</td>\n",
       "      <td>4500.0</td>\n",
       "      <td>1700.0</td>\n",
       "      <td>6650.0</td>\n",
       "      <td>...</td>\n",
       "      <td>2950.0</td>\n",
       "      <td>631.0</td>\n",
       "      <td>857.0</td>\n",
       "      <td>28650.0</td>\n",
       "      <td>1700.0</td>\n",
       "      <td>50.0</td>\n",
       "      <td>1050.0</td>\n",
       "      <td>1600.0</td>\n",
       "      <td>0.0</td>\n",
       "      <td>0.0</td>\n",
       "    </tr>\n",
       "    <tr>\n",
       "      <th>1.0</th>\n",
       "      <td>0.0</td>\n",
       "      <td>159.0</td>\n",
       "      <td>5250.0</td>\n",
       "      <td>0.0</td>\n",
       "      <td>16294.0</td>\n",
       "      <td>6450.0</td>\n",
       "      <td>500.0</td>\n",
       "      <td>1725.0</td>\n",
       "      <td>1900.0</td>\n",
       "      <td>7050.0</td>\n",
       "      <td>...</td>\n",
       "      <td>3300.0</td>\n",
       "      <td>0.0</td>\n",
       "      <td>0.0</td>\n",
       "      <td>32250.0</td>\n",
       "      <td>1350.0</td>\n",
       "      <td>0.0</td>\n",
       "      <td>1400.0</td>\n",
       "      <td>1400.0</td>\n",
       "      <td>0.0</td>\n",
       "      <td>0.0</td>\n",
       "    </tr>\n",
       "    <tr>\n",
       "      <th>2.0</th>\n",
       "      <td>0.0</td>\n",
       "      <td>0.0</td>\n",
       "      <td>4150.0</td>\n",
       "      <td>0.0</td>\n",
       "      <td>0.0</td>\n",
       "      <td>1435.0</td>\n",
       "      <td>550.0</td>\n",
       "      <td>0.0</td>\n",
       "      <td>1050.0</td>\n",
       "      <td>6350.0</td>\n",
       "      <td>...</td>\n",
       "      <td>3050.0</td>\n",
       "      <td>0.0</td>\n",
       "      <td>0.0</td>\n",
       "      <td>32800.0</td>\n",
       "      <td>1850.0</td>\n",
       "      <td>0.0</td>\n",
       "      <td>1750.0</td>\n",
       "      <td>1650.0</td>\n",
       "      <td>0.0</td>\n",
       "      <td>0.0</td>\n",
       "    </tr>\n",
       "    <tr>\n",
       "      <th>3.0</th>\n",
       "      <td>0.0</td>\n",
       "      <td>0.0</td>\n",
       "      <td>833.0</td>\n",
       "      <td>0.0</td>\n",
       "      <td>0.0</td>\n",
       "      <td>0.0</td>\n",
       "      <td>1200.0</td>\n",
       "      <td>0.0</td>\n",
       "      <td>3600.0</td>\n",
       "      <td>5350.0</td>\n",
       "      <td>...</td>\n",
       "      <td>3000.0</td>\n",
       "      <td>0.0</td>\n",
       "      <td>0.0</td>\n",
       "      <td>34700.0</td>\n",
       "      <td>1250.0</td>\n",
       "      <td>50.0</td>\n",
       "      <td>1350.0</td>\n",
       "      <td>1350.0</td>\n",
       "      <td>0.0</td>\n",
       "      <td>0.0</td>\n",
       "    </tr>\n",
       "    <tr>\n",
       "      <th>4.0</th>\n",
       "      <td>0.0</td>\n",
       "      <td>0.0</td>\n",
       "      <td>0.0</td>\n",
       "      <td>0.0</td>\n",
       "      <td>0.0</td>\n",
       "      <td>0.0</td>\n",
       "      <td>1309.0</td>\n",
       "      <td>0.0</td>\n",
       "      <td>2200.0</td>\n",
       "      <td>811.0</td>\n",
       "      <td>...</td>\n",
       "      <td>2900.0</td>\n",
       "      <td>0.0</td>\n",
       "      <td>0.0</td>\n",
       "      <td>30000.0</td>\n",
       "      <td>2850.0</td>\n",
       "      <td>0.0</td>\n",
       "      <td>1800.0</td>\n",
       "      <td>1700.0</td>\n",
       "      <td>0.0</td>\n",
       "      <td>0.0</td>\n",
       "    </tr>\n",
       "    <tr>\n",
       "      <th>...</th>\n",
       "      <td>...</td>\n",
       "      <td>...</td>\n",
       "      <td>...</td>\n",
       "      <td>...</td>\n",
       "      <td>...</td>\n",
       "      <td>...</td>\n",
       "      <td>...</td>\n",
       "      <td>...</td>\n",
       "      <td>...</td>\n",
       "      <td>...</td>\n",
       "      <td>...</td>\n",
       "      <td>...</td>\n",
       "      <td>...</td>\n",
       "      <td>...</td>\n",
       "      <td>...</td>\n",
       "      <td>...</td>\n",
       "      <td>...</td>\n",
       "      <td>...</td>\n",
       "      <td>...</td>\n",
       "      <td>...</td>\n",
       "      <td>...</td>\n",
       "    </tr>\n",
       "    <tr>\n",
       "      <th>1696.0</th>\n",
       "      <td>0.0</td>\n",
       "      <td>0.0</td>\n",
       "      <td>0.0</td>\n",
       "      <td>0.0</td>\n",
       "      <td>0.0</td>\n",
       "      <td>0.0</td>\n",
       "      <td>0.0</td>\n",
       "      <td>0.0</td>\n",
       "      <td>0.0</td>\n",
       "      <td>0.0</td>\n",
       "      <td>...</td>\n",
       "      <td>0.0</td>\n",
       "      <td>0.0</td>\n",
       "      <td>0.0</td>\n",
       "      <td>0.0</td>\n",
       "      <td>0.0</td>\n",
       "      <td>0.0</td>\n",
       "      <td>0.0</td>\n",
       "      <td>0.0</td>\n",
       "      <td>0.0</td>\n",
       "      <td>0.0</td>\n",
       "    </tr>\n",
       "    <tr>\n",
       "      <th>1699.0</th>\n",
       "      <td>0.0</td>\n",
       "      <td>0.0</td>\n",
       "      <td>0.0</td>\n",
       "      <td>0.0</td>\n",
       "      <td>0.0</td>\n",
       "      <td>0.0</td>\n",
       "      <td>0.0</td>\n",
       "      <td>0.0</td>\n",
       "      <td>0.0</td>\n",
       "      <td>0.0</td>\n",
       "      <td>...</td>\n",
       "      <td>0.0</td>\n",
       "      <td>0.0</td>\n",
       "      <td>0.0</td>\n",
       "      <td>0.0</td>\n",
       "      <td>0.0</td>\n",
       "      <td>0.0</td>\n",
       "      <td>0.0</td>\n",
       "      <td>0.0</td>\n",
       "      <td>0.0</td>\n",
       "      <td>0.0</td>\n",
       "    </tr>\n",
       "    <tr>\n",
       "      <th>1701.0</th>\n",
       "      <td>0.0</td>\n",
       "      <td>0.0</td>\n",
       "      <td>0.0</td>\n",
       "      <td>0.0</td>\n",
       "      <td>0.0</td>\n",
       "      <td>0.0</td>\n",
       "      <td>0.0</td>\n",
       "      <td>0.0</td>\n",
       "      <td>0.0</td>\n",
       "      <td>0.0</td>\n",
       "      <td>...</td>\n",
       "      <td>0.0</td>\n",
       "      <td>0.0</td>\n",
       "      <td>0.0</td>\n",
       "      <td>0.0</td>\n",
       "      <td>0.0</td>\n",
       "      <td>0.0</td>\n",
       "      <td>0.0</td>\n",
       "      <td>0.0</td>\n",
       "      <td>0.0</td>\n",
       "      <td>0.0</td>\n",
       "    </tr>\n",
       "    <tr>\n",
       "      <th>1703.0</th>\n",
       "      <td>0.0</td>\n",
       "      <td>0.0</td>\n",
       "      <td>0.0</td>\n",
       "      <td>0.0</td>\n",
       "      <td>0.0</td>\n",
       "      <td>0.0</td>\n",
       "      <td>0.0</td>\n",
       "      <td>0.0</td>\n",
       "      <td>0.0</td>\n",
       "      <td>0.0</td>\n",
       "      <td>...</td>\n",
       "      <td>0.0</td>\n",
       "      <td>0.0</td>\n",
       "      <td>0.0</td>\n",
       "      <td>0.0</td>\n",
       "      <td>0.0</td>\n",
       "      <td>0.0</td>\n",
       "      <td>0.0</td>\n",
       "      <td>0.0</td>\n",
       "      <td>0.0</td>\n",
       "      <td>0.0</td>\n",
       "    </tr>\n",
       "    <tr>\n",
       "      <th>1704.0</th>\n",
       "      <td>0.0</td>\n",
       "      <td>0.0</td>\n",
       "      <td>0.0</td>\n",
       "      <td>0.0</td>\n",
       "      <td>0.0</td>\n",
       "      <td>0.0</td>\n",
       "      <td>0.0</td>\n",
       "      <td>0.0</td>\n",
       "      <td>0.0</td>\n",
       "      <td>0.0</td>\n",
       "      <td>...</td>\n",
       "      <td>0.0</td>\n",
       "      <td>0.0</td>\n",
       "      <td>0.0</td>\n",
       "      <td>0.0</td>\n",
       "      <td>0.0</td>\n",
       "      <td>0.0</td>\n",
       "      <td>0.0</td>\n",
       "      <td>0.0</td>\n",
       "      <td>0.0</td>\n",
       "      <td>0.0</td>\n",
       "    </tr>\n",
       "  </tbody>\n",
       "</table>\n",
       "<p>1420 rows × 50 columns</p>\n",
       "</div>"
      ],
      "text/plain": [
       "source_id      9       10      11      12       13      14      15      16  \\\n",
       "  slot                                                                       \n",
       "q 0.0      1072.0  1500.0  4750.0  8606.0  35750.0  4400.0  1950.0  4500.0   \n",
       "  1.0         0.0   159.0  5250.0     0.0  16294.0  6450.0   500.0  1725.0   \n",
       "  2.0         0.0     0.0  4150.0     0.0      0.0  1435.0   550.0     0.0   \n",
       "  3.0         0.0     0.0   833.0     0.0      0.0     0.0  1200.0     0.0   \n",
       "  4.0         0.0     0.0     0.0     0.0      0.0     0.0  1309.0     0.0   \n",
       "...           ...     ...     ...     ...      ...     ...     ...     ...   \n",
       "  1696.0      0.0     0.0     0.0     0.0      0.0     0.0     0.0     0.0   \n",
       "  1699.0      0.0     0.0     0.0     0.0      0.0     0.0     0.0     0.0   \n",
       "  1701.0      0.0     0.0     0.0     0.0      0.0     0.0     0.0     0.0   \n",
       "  1703.0      0.0     0.0     0.0     0.0      0.0     0.0     0.0     0.0   \n",
       "  1704.0      0.0     0.0     0.0     0.0      0.0     0.0     0.0     0.0   \n",
       "\n",
       "source_id      17      18  ...      49     50     51       52      53    54  \\\n",
       "  slot                     ...                                                \n",
       "q 0.0      1700.0  6650.0  ...  2950.0  631.0  857.0  28650.0  1700.0  50.0   \n",
       "  1.0      1900.0  7050.0  ...  3300.0    0.0    0.0  32250.0  1350.0   0.0   \n",
       "  2.0      1050.0  6350.0  ...  3050.0    0.0    0.0  32800.0  1850.0   0.0   \n",
       "  3.0      3600.0  5350.0  ...  3000.0    0.0    0.0  34700.0  1250.0  50.0   \n",
       "  4.0      2200.0   811.0  ...  2900.0    0.0    0.0  30000.0  2850.0   0.0   \n",
       "...           ...     ...  ...     ...    ...    ...      ...     ...   ...   \n",
       "  1696.0      0.0     0.0  ...     0.0    0.0    0.0      0.0     0.0   0.0   \n",
       "  1699.0      0.0     0.0  ...     0.0    0.0    0.0      0.0     0.0   0.0   \n",
       "  1701.0      0.0     0.0  ...     0.0    0.0    0.0      0.0     0.0   0.0   \n",
       "  1703.0      0.0     0.0  ...     0.0    0.0    0.0      0.0     0.0   0.0   \n",
       "  1704.0      0.0     0.0  ...     0.0    0.0    0.0      0.0     0.0   0.0   \n",
       "\n",
       "source_id      55      56   57   58  \n",
       "  slot                               \n",
       "q 0.0      1050.0  1600.0  0.0  0.0  \n",
       "  1.0      1400.0  1400.0  0.0  0.0  \n",
       "  2.0      1750.0  1650.0  0.0  0.0  \n",
       "  3.0      1350.0  1350.0  0.0  0.0  \n",
       "  4.0      1800.0  1700.0  0.0  0.0  \n",
       "...           ...     ...  ...  ...  \n",
       "  1696.0      0.0     0.0  0.0  0.0  \n",
       "  1699.0      0.0     0.0  0.0  0.0  \n",
       "  1701.0      0.0     0.0  0.0  0.0  \n",
       "  1703.0      0.0     0.0  0.0  0.0  \n",
       "  1704.0      0.0     0.0  0.0  0.0  \n",
       "\n",
       "[1420 rows x 50 columns]"
      ]
     },
     "execution_count": 1,
     "metadata": {},
     "output_type": "execute_result"
    }
   ],
   "source": [
    "from math import floor\n",
    "import math\n",
    "import pandas as pd\n",
    "from sklearn.ensemble import RandomForestClassifier\n",
    "from sklearn.svm import OneClassSVM\n",
    "from sklearn.metrics import confusion_matrix, classification_report, make_scorer\n",
    "from sklearn.model_selection import train_test_split, StratifiedKFold, cross_val_predict\n",
    "import numpy as np\n",
    "import common # type: ignore\n",
    "from sklearn.feature_selection import VarianceThreshold\n",
    "from mlxtend.feature_selection import SequentialFeatureSelector\n",
    "import warnings\n",
    "import pickle\n",
    "from pprint import pprint\n",
    "from IPython.display import display, Markdown, Latex\n",
    "import matplotlib.pyplot as plt\n",
    "\n",
    "dataset = common.Dataset()\n",
    "dataset.slot()\n",
    "dataset.df[[\"source_id\", \"slot\"]].reset_index(drop=True).value_counts().unstack().T.fillna(0)\n",
    "dataset.slot_sum([\"q\", \"source_id\"], [\"source_id\"])"
   ]
  },
  {
   "cell_type": "code",
   "execution_count": 9,
   "metadata": {},
   "outputs": [
    {
     "data": {
      "text/plain": [
       "[]"
      ]
     },
     "execution_count": 9,
     "metadata": {},
     "output_type": "execute_result"
    },
    {
     "data": {
      "image/png": "[encoded data removed]",
      "text/plain": [
       "<Figure size 640x480 with 1 Axes>"
      ]
     },
     "metadata": {},
     "output_type": "display_data"
    }
   ],
   "source": [
    "dataset.slot()\n",
    "dataset.th(0.5, \"NONE\")\n",
    "\n",
    "dataset.df[[\"source_id\", \"q\", \"slot\"]].groupby([\"slot\", \"source_id\"]).sum().reset_index()#.reset_index(level=0, drop=True).reset_index()\n",
    "\n",
    "tmp = dataset.slot_sum([\"q\", \"source_id\"], [\"source_id\"], days=5)\n",
    "\n",
    "ax = tmp.plot(kind=\"bar\", width=1, stacked=True, logy=True, legend=False)\n",
    "\n",
    "ax.set_xticks([])\n"
   ]
  },
  {
   "cell_type": "code",
   "execution_count": 50,
   "metadata": {},
   "outputs": [
    {
     "data": {
      "text/markdown": [
       "# Così è fuorviante perché le stesse request vengono contate in più slots."
      ],
      "text/plain": [
       "<IPython.core.display.Markdown object>"
      ]
     },
     "metadata": {},
     "output_type": "display_data"
    },
    {
     "data": {
      "text/markdown": [
       "# Slots"
      ],
      "text/plain": [
       "<IPython.core.display.Markdown object>"
      ]
     },
     "metadata": {},
     "output_type": "display_data"
    },
    {
     "data": {
      "text/markdown": [
       "The number of requests over time have been calculated dividing the timeline in the so called slots.The slot value chosen is of 3600 seconds."
      ],
      "text/plain": [
       "<IPython.core.display.Markdown object>"
      ]
     },
     "metadata": {},
     "output_type": "display_data"
    },
    {
     "data": {
      "text/markdown": [
       "## Timestamp translation\n",
       "Since that we have different source, captured in different times, and we want to simulate a SOC receiving alarms, we set the starting moment of each source to 0 s, translating all the requests accordingly:"
      ],
      "text/plain": [
       "<IPython.core.display.Markdown object>"
      ]
     },
     "metadata": {},
     "output_type": "display_data"
    },
    {
     "data": {
      "text/markdown": [
       "- The last request timestamp is: 1493733000.0 (17288 days).\n",
       "- The last request timestamp *translated* is: 6135433.799 (71 days)."
      ],
      "text/plain": [
       "<IPython.core.display.Markdown object>"
      ]
     },
     "metadata": {},
     "output_type": "display_data"
    },
    {
     "data": {
      "text/markdown": [
       "### Distribution of slots\n",
       "The slot value chosen is of 3600 seconds."
      ],
      "text/plain": [
       "<IPython.core.display.Markdown object>"
      ]
     },
     "metadata": {},
     "output_type": "display_data"
    },
    {
     "data": {
      "text/markdown": [
       "|    |   count |   mean |     std |   min |    50% |   95% |   99% |   99.9% |   max |\n",
       "|---:|--------:|-------:|--------:|------:|-------:|------:|------:|--------:|------:|\n",
       "|  0 |    1420 | 88.329 | 19.0747 |  1.79 | 96.735 | 99.97 | 99.99 |     100 |   100 |"
      ],
      "text/plain": [
       "<IPython.core.display.Markdown object>"
      ]
     },
     "metadata": {},
     "output_type": "display_data"
    },
    {
     "data": {
      "text/markdown": [
       "Setting the slot value equal to 0.04s days or 1.00 hours, the maximum number of slots is 1704.\n",
       "\n",
       "This huge number is misplacing, since:\n",
       "- The 96.735% (12917502) of requests are within the first 50% of the slots.\n",
       "- The 3.265% (435910) of requests are within the last 50% slots."
      ],
      "text/plain": [
       "<IPython.core.display.Markdown object>"
      ]
     },
     "metadata": {},
     "output_type": "display_data"
    },
    {
     "data": {
      "text/markdown": [
       "Therefore:\n",
       "> We decide to ignore the last 50% of the slots, corresponding to 852 of 1704 slots."
      ],
      "text/plain": [
       "<IPython.core.display.Markdown object>"
      ]
     },
     "metadata": {},
     "output_type": "display_data"
    }
   ],
   "source": [
    "\n",
    "display(Markdown(\"# Così è fuorviante perché le stesse request vengono contate in più slots.\"))\n",
    "display(Markdown(\"Devo usare PGADMIN ed effettuare il calcolo per ogni slot attraverso messages.\"))\n",
    "display(Markdown(\"Devo stare attento a selezionare solo i PCAP scelti.\"))\n",
    "display(Markdown(\"Posso usare la stessa formula SQL di windowing solo che devo tradurla con i tempi.\"))\n",
    "display(Markdown(\"O forse devo tradurre tutto coi tempi dopo? :O\"))\n",
    "\n",
    "SEC_PER_SLOT = 60 * 60\n",
    "\n",
    "dataset.slot(SEC_PER_SLOT)\n",
    "\n",
    "display(Markdown(\"# Slots\"))\n",
    "\n",
    "display(Markdown(\"The number of requests over time have been calculated dividing the timeline in the so called slots.The slot value chosen is of 3600 seconds.\"))\n",
    "\n",
    "display(Markdown(\"\\n\".join([\n",
    "    \"## Timestamp translation\",\n",
    "    \"Since that we have different source, captured in different times, and we want to simulate a SOC receiving alarms, we set the \"\n",
    "    \"starting moment of each source to 0 s, translating all the requests accordingly:\"\n",
    "])))\n",
    "\n",
    "display(Markdown(\"\\n\".join([\n",
    "    \"- The last request timestamp is: %s (%s days).\" % (dataset.df[\"time_s_end\"].max(), math.floor(dataset.df[\"time_s_end\"].max() / dataset.DAY_SEC)),\n",
    "    \"- The last request timestamp *translated* is: %s (%s days).\" % (dataset.df[\"time_s_end_norm\"].max(), math.floor(dataset.df[\"time_s_end_norm\"].max() / dataset.DAY_SEC))\n",
    "])))\n",
    "\n",
    "display(Markdown(\"\\n\".join([\n",
    "    \"### Distribution of slots\",\n",
    "    \"The slot value chosen is of %s seconds.\" % SEC_PER_SLOT\n",
    "])))\n",
    "\n",
    "tmp = dataset.slot_sum([\"q\"], []).reset_index(level=0, drop=True)\n",
    "tmp_perc = ((tmp.cumsum() / tmp.sum()) * 100).round(2)\n",
    "desc = tmp_perc.describe(percentiles=[0.95, 0.99, 0.999])\n",
    "display(Markdown(desc.to_frame().T.to_markdown()))\n",
    "\n",
    "q_left50perc = tmp.cumsum().iloc[int(tmp.shape[0] / 2)]\n",
    "q_right50perc = tmp.sum() - q_left50perc\n",
    "display(Markdown(\"\\n\".join([\n",
    "    \"Setting the slot value equal to %.2fs days or %.2f hours, the maximum number of slots is %d.\" % (SEC_PER_SLOT / dataset.DAY_SEC, SEC_PER_SLOT / (60 * 60), dataset.df[\"slot\"].max()),\n",
    "    \"\\nThis huge number is misplacing, since:\",\n",
    "    \"- The %02.3f%% (%s) of requests are within the first 50%% of the slots.\" % (desc.loc['50%'], q_left50perc),\n",
    "    \"- The %02.3f%% (%s) of requests are within the last 50%% slots.\" % (100 - desc.loc['50%'], q_right50perc)\n",
    "])))\n",
    "\n",
    "n_slot_th = int(dataset.df[\"slot\"].max() / 2)\n",
    "\n",
    "display(Markdown(\"\\n\".join([\n",
    "    \"Therefore:\",\n",
    "    \"> We decide to ignore the last 50%% of the slots, corresponding to %d of %d slots.\" % (n_slot_th, dataset.df[\"slot\"].max())\n",
    "])))\n"
   ]
  },
  {
   "cell_type": "code",
   "execution_count": 49,
   "metadata": {},
   "outputs": [
    {
     "data": {
      "image/png": "[encoded data removed]",
      "text/plain": [
       "<Figure size 640x480 with 1 Axes>"
      ]
     },
     "metadata": {},
     "output_type": "display_data"
    }
   ],
   "source": [
    "tmp = dataset.slot_sum([ \"q\", \"source_id\"], [\"source_id\"], days=-1)\n",
    "ax = tmp.plot(kind=\"bar\", width=1, stacked=True, logy=True, legend=False)\n",
    "ax.set_xticks([])\n",
    "ax.set_xlabel(\"Requests per %.2s hour(s) slot, color indicate requests source.\" % int(dataset.SEC_PER_SLOT / (60 * 60)))\n",
    "plt.show()"
   ]
  },
  {
   "cell_type": "code",
   "execution_count": null,
   "metadata": {},
   "outputs": [],
   "source": [
    "\n",
    "\n",
    "n_slot_th = int(dataset.df[\"slot\"].max() / 2)\n",
    "\n",
    "display(Markdown(\"### Pitfall **Spurius Correlations** for window\\\\_time\\\\_start:\"))\n",
    "\n",
    "display(Markdown(\"> It's obvious that time start/end should not be used.\"))\n",
    "\n",
    "display(Markdown(\"This plot demonstrate that using the _window\\\\_time\\\\_start/end_ feature would establish a correlation with the DGA class, since just DGA windows starts after the first slot.\"))\n",
    "\n",
    "tmp = dataset.slot_sum([ \"q\", \"source_id\"], [\"source_id\"], days=5)\n",
    "ax = tmp.plot(kind=\"bar\", width=1, stacked=True, logy=True, legend=False)\n",
    "ax.set_xticks([])\n",
    "ax.set_xlabel(\"Requests per %.2s hour(s) slot, color indicate requests source.\" % int(dataset.SEC_PER_SLOT / (60 * 60)))\n",
    "plt.show()"
   ]
  },
  {
   "cell_type": "code",
   "execution_count": 106,
   "metadata": {},
   "outputs": [
    {
     "data": {
      "text/markdown": [
       "# First 5 days"
      ],
      "text/plain": [
       "<IPython.core.display.Markdown object>"
      ]
     },
     "metadata": {},
     "output_type": "display_data"
    },
    {
     "data": {
      "text/markdown": [
       "## Windows over time"
      ],
      "text/plain": [
       "<IPython.core.display.Markdown object>"
      ]
     },
     "metadata": {},
     "output_type": "display_data"
    },
    {
     "data": {
      "text/markdown": [
       "The number of windows active for a slot of time, which is 3600 seconds."
      ],
      "text/plain": [
       "<IPython.core.display.Markdown object>"
      ]
     },
     "metadata": {},
     "output_type": "display_data"
    },
    {
     "data": {
      "text/markdown": [
       "The last window timestamp is: 1493733000.0 (17288 days)."
      ],
      "text/plain": [
       "<IPython.core.display.Markdown object>"
      ]
     },
     "metadata": {},
     "output_type": "display_data"
    },
    {
     "data": {
      "text/markdown": [
       "The last window timestamp _normalized_ is: 431998.951 (4 days)."
      ],
      "text/plain": [
       "<IPython.core.display.Markdown object>"
      ]
     },
     "metadata": {},
     "output_type": "display_data"
    },
    {
     "data": {
      "text/markdown": [
       "Then, whit the slot value equal to 0. days, the maximum number of slot is 119."
      ],
      "text/plain": [
       "<IPython.core.display.Markdown object>"
      ]
     },
     "metadata": {},
     "output_type": "display_data"
    },
    {
     "data": {
      "text/markdown": [
       "This huge number is misplacing, since the:\n",
       "- 163090 windows (the 99%) are within the first 117.0 slots.\n",
       "- 1155 windows (the 1%) are within the last 2.0 slots."
      ],
      "text/plain": [
       "<IPython.core.display.Markdown object>"
      ]
     },
     "metadata": {},
     "output_type": "display_data"
    },
    {
     "data": {
      "text/markdown": [
       "> We decide to ignore the last 103893 windows, corresponding to the last 89.0 slots."
      ],
      "text/plain": [
       "<IPython.core.display.Markdown object>"
      ]
     },
     "metadata": {},
     "output_type": "display_data"
    },
    {
     "data": {
      "text/markdown": [
       "#### Pitfall **Spurius Correlations** for *window\\_time\\_start*:"
      ],
      "text/plain": [
       "<IPython.core.display.Markdown object>"
      ]
     },
     "metadata": {},
     "output_type": "display_data"
    },
    {
     "data": {
      "text/markdown": [
       "> It's obvious that time start/end should not be used."
      ],
      "text/plain": [
       "<IPython.core.display.Markdown object>"
      ]
     },
     "metadata": {},
     "output_type": "display_data"
    },
    {
     "data": {
      "text/markdown": [
       "This plot demonstrate that using the _window\\_time\\_start/end_ feature would establish a correlation with the DGA class, since just DGA windows starts after the first slot."
      ],
      "text/plain": [
       "<IPython.core.display.Markdown object>"
      ]
     },
     "metadata": {},
     "output_type": "display_data"
    },
    {
     "data": {
      "image/png": "[encoded data removed]",
      "text/plain": [
       "<Figure size 640x480 with 1 Axes>"
      ]
     },
     "metadata": {},
     "output_type": "display_data"
    },
    {
     "data": {
      "text/markdown": [
       "# The window distribution over sources"
      ],
      "text/plain": [
       "<IPython.core.display.Markdown object>"
      ]
     },
     "metadata": {},
     "output_type": "display_data"
    },
    {
     "data": {
      "text/markdown": [
       "We can see that there are "
      ],
      "text/plain": [
       "<IPython.core.display.Markdown object>"
      ]
     },
     "metadata": {},
     "output_type": "display_data"
    },
    {
     "data": {
      "image/png": "[encoded data removed]",
      "text/plain": [
       "<Figure size 640x480 with 1 Axes>"
      ]
     },
     "metadata": {},
     "output_type": "display_data"
    },
    {
     "data": {
      "text/markdown": [
       "# Positives with threshold 0.5"
      ],
      "text/plain": [
       "<IPython.core.display.Markdown object>"
      ]
     },
     "metadata": {},
     "output_type": "display_data"
    },
    {
     "data": {
      "image/png": "[encoded data removed]",
      "text/plain": [
       "<Figure size 640x480 with 1 Axes>"
      ]
     },
     "metadata": {},
     "output_type": "display_data"
    }
   ],
   "source": [
    "SEC_PER_SLOT = 1 * 60 * 60\n",
    "DAY_SEC = 24 * 60 * 60\n",
    "N_DAYS = 5\n",
    "SLOT_PER_DAY = DAY_SEC / SEC_PER_SLOT\n",
    "\n",
    "df = dataset.df.copy().sort_values(\"time_s_end_norm\")\n",
    "df = df[df[\"time_s_end_norm\"] < N_DAYS * DAY_SEC]\n",
    "n_slot_max = math.floor(df[\"time_s_end_norm\"].max() / SEC_PER_SLOT)\n",
    "df[\"slot_end\"] =  np.floor(df[\"time_s_end_norm\"] / SEC_PER_SLOT)\n",
    "\n",
    "display(Markdown(\"# First %s days\" % N_DAYS))\n",
    "\n",
    "display(Markdown(\"## Windows over time\"))\n",
    "display(Markdown(\"The number of windows active for a slot of time, which is %s seconds.\" % SEC_PER_SLOT))\n",
    "\n",
    "\n",
    "display(Markdown(\"The last window timestamp is: %s (%s days).\" %(df[\"time_s_end\"].max(), math.floor(df[\"time_s_end\"].max() / DAY_SEC))))\n",
    "display(Markdown(\"The last window timestamp _normalized_ is: %s (%s days).\" % (df[\"time_s_end_norm\"].max(), math.floor(df[\"time_s_end_norm\"].max() / DAY_SEC))))\n",
    "\n",
    "\n",
    "\n",
    "desc = df[\"slot_end\"].describe(percentiles=[0.95, 0.99, 0.999])\n",
    "\n",
    "display(Markdown(\"Then, whit the slot value equal to %.2s days, the maximum number of slot is %s.\" % (SEC_PER_SLOT / DAY_SEC, n_slot_max)))\n",
    "display(Markdown(\"\"\"This huge number is misplacing, since the:\n",
    "- %s windows (the 99%%) are within the first %s slots.\n",
    "- %s windows (the 1%%) are within the last %s slots.\"\"\" % ((df[\"slot_end\"] <= desc.loc['99%']).sum(), desc.loc['99%'], (df[\"slot_end\"] > desc.loc['99%']).sum(), df[\"slot_end\"].max() - desc.loc['99%'])))\n",
    "\n",
    "\n",
    "n_slot_th = 30\n",
    "\n",
    "display(Markdown(\"> We decide to ignore the last %s windows, corresponding to the last %s slots.\" % ((df[\"slot_end\"] > n_slot_th).sum(), df[\"slot_end\"].max() - n_slot_th)))\n",
    "\n",
    "\n",
    "\n",
    "\n",
    "display(Markdown(\"#### Pitfall **Spurius Correlations** for *window\\\\_time\\\\_start*:\"))\n",
    "\n",
    "display(Markdown(\"> It's obvious that time start/end should not be used.\"))\n",
    "\n",
    "display(Markdown(\"This plot demonstrate that using the _window\\\\_time\\\\_start/end_ feature would establish a correlation with the DGA class, since just DGA windows starts after the first slot.\"))\n",
    "\n",
    "tmp = df[[\"source_mc\", \"slot_end\"]].reset_index(drop=True).value_counts().unstack().T.fillna(0)\n",
    "ax = tmp.plot(kind=\"bar\", width=1, stacked=True, logy=True)\n",
    "for day in range(1, N_DAYS):\n",
    "    ax.axvline(day * SLOT_PER_DAY, color=\"black\", linewidth=0.2)\n",
    "ax.set_xticks([])\n",
    "ax.set_xlabel(None)\n",
    "plt.show()\n",
    "\n",
    "\n",
    "\n",
    "display(Markdown(\"# The window distribution over sources\"))\n",
    "display(Markdown(\"We can see that there are \"))\n",
    "tmp = df[[\"source_id\", \"slot_end\"]].reset_index(drop=True).value_counts().unstack().T.fillna(0)\n",
    "ax = tmp.plot(kind=\"bar\", width=1, stacked=True, logy=True, legend=False)\n",
    "ax.set_xticks([])\n",
    "ax.set_xlabel(None)\n",
    "for day in range(1, N_DAYS):\n",
    "    ax.axvline(day * SLOT_PER_DAY, color=\"black\", linewidth=0.2)\n",
    "    # ax.text(day * DAY_SEC / SLOT_SEC + 0.1, 0,  'blah', rotation=90)\n",
    "plt.show()\n",
    "\n",
    "\n",
    "\n",
    "display(Markdown(\"# Positives with threshold 0.5\"))\n",
    "df[\"predict\"] = \"infected\"\n",
    "df[\"predict\"] = df[\"predict\"].where(df[\"eps_NONE_0.500\"] > 0.5, \"not-infected\")\n",
    "tmp = df[[\"predict\", \"slot_end\"]].reset_index(drop=True).value_counts().unstack().T.fillna(0)\n",
    "ax = tmp.plot(kind=\"bar\", width=1, stacked=True, logy=True, legend=True, color=[ \"tomato\", \"steelblue\"])\n",
    "ax.set_xticks([])\n",
    "ax.set_xlabel(None)\n",
    "for day in range(1, N_DAYS):\n",
    "    ax.axvline(day * SLOT_PER_DAY, color=\"black\", linewidth=0.2)\n",
    "plt.show()\n"
   ]
  },
  {
   "cell_type": "code",
   "execution_count": 11,
   "metadata": {},
   "outputs": [
    {
     "data": {
      "text/markdown": [
       "### Using threshold 0.5"
      ],
      "text/plain": [
       "<IPython.core.display.Markdown object>"
      ]
     },
     "metadata": {},
     "output_type": "display_data"
    },
    {
     "data": {
      "image/png": "[encoded data removed]",
      "text/plain": [
       "<Figure size 640x480 with 1 Axes>"
      ]
     },
     "metadata": {},
     "output_type": "display_data"
    },
    {
     "data": {
      "text/markdown": [
       "### Using threshold 0.5"
      ],
      "text/plain": [
       "<IPython.core.display.Markdown object>"
      ]
     },
     "metadata": {},
     "output_type": "display_data"
    },
    {
     "data": {
      "image/png": "[encoded data removed]",
      "text/plain": [
       "<Figure size 640x480 with 1 Axes>"
      ]
     },
     "metadata": {},
     "output_type": "display_data"
    }
   ],
   "source": [
    "SEC_PER_SLOT = 1 * 60 * 60\n",
    "DAY_SEC = 24 * 60 * 60\n",
    "N_DAYS = 1\n",
    "SLOT_PER_DAY = DAY_SEC / SEC_PER_SLOT\n",
    "\n",
    "df = dataset.df.copy().sort_values(\"time_s_end_norm\")\n",
    "df = df[df[\"source_mc\"] == 0]\n",
    "df[\"slot_end\"] =  np.floor(df[\"time_s_end_norm\"] / SEC_PER_SLOT)\n",
    "\n",
    "display(Markdown(\"### Using threshold 0.5\"))\n",
    "\n",
    "\n",
    "\n",
    "tmp = df[[\"source_id\", \"slot_end\"]].reset_index(drop=True).value_counts().unstack().T.fillna(0)\n",
    "ax = tmp.plot(kind=\"bar\", width=1, stacked=True, logy=False, legend=True)\n",
    "plt.show()\n",
    "\n",
    "display(Markdown(\"### Using threshold 0.5\"))\n",
    "\n",
    "df[\"predict\"] = \"false-positive\"\n",
    "df[\"predict\"] = df[\"predict\"].where(df[\"eps_NONE_0.500\"] > 0.5, \"true-negative\")\n",
    "\n",
    "tmp = df[[\"predict\", \"slot_end\"]].reset_index(drop=True).value_counts().unstack().T.fillna(0)\n",
    "ax = tmp.plot(kind=\"bar\", width=1, stacked=True, logy=False, legend=True, color=[ \"tomato\", \"steelblue\"])\n",
    "# ax.set_xticks([])\n",
    "\n",
    "ax.set_xlabel(None)\n",
    "for day in range(1, N_DAYS):\n",
    "    ax.axvline(day * SLOT_PER_DAY, color=\"black\", linewidth=0.2)\n",
    "plt.show()"
   ]
  },
  {
   "cell_type": "code",
   "execution_count": 156,
   "metadata": {},
   "outputs": [
    {
     "name": "stdout",
     "output_type": "stream",
     "text": [
      "1493733000.0 17288\n",
      "count    267095.000000\n",
      "mean         86.356296\n",
      "std        1171.467916\n",
      "min           0.000000\n",
      "50%           3.000000\n",
      "95%          24.000000\n",
      "99%          38.000000\n",
      "max       17288.000000\n",
      "Name: w_plot_end, dtype: float64\n"
     ]
    },
    {
     "data": {
      "text/plain": [
       "<Axes: >"
      ]
     },
     "metadata": {},
     "output_type": "display_data"
    },
    {
     "name": "stdout",
     "output_type": "stream",
     "text": [
      "1493733000.0 17288\n",
      "17288\n"
     ]
    },
    {
     "ename": "KeyboardInterrupt",
     "evalue": "",
     "output_type": "error",
     "traceback": [
      "\u001b[0;31m---------------------------------------------------------------------------\u001b[0m",
      "\u001b[0;31mKeyboardInterrupt\u001b[0m                         Traceback (most recent call last)",
      "Cell \u001b[0;32mIn[156], line 33\u001b[0m\n\u001b[1;32m     31\u001b[0m dftmp \u001b[38;5;241m=\u001b[39m pd\u001b[38;5;241m.\u001b[39mDataFrame(bins, columns\u001b[38;5;241m=\u001b[39m[\u001b[38;5;124m\"\u001b[39m\u001b[38;5;124mnw\u001b[39m\u001b[38;5;124m\"\u001b[39m, \u001b[38;5;124m\"\u001b[39m\u001b[38;5;124mp\u001b[39m\u001b[38;5;124m\"\u001b[39m])\n\u001b[1;32m     32\u001b[0m dftmp[\u001b[38;5;124m\"\u001b[39m\u001b[38;5;124mnw\u001b[39m\u001b[38;5;124m\"\u001b[39m] \u001b[38;5;241m-\u001b[39m\u001b[38;5;241m=\u001b[39m dftmp[\u001b[38;5;124m\"\u001b[39m\u001b[38;5;124mp\u001b[39m\u001b[38;5;124m\"\u001b[39m]\n\u001b[0;32m---> 33\u001b[0m \u001b[43mdftmp\u001b[49m\u001b[38;5;241;43m.\u001b[39;49m\u001b[43mplot\u001b[49m\u001b[38;5;241;43m.\u001b[39;49m\u001b[43mbar\u001b[49m\u001b[43m(\u001b[49m\u001b[43mstacked\u001b[49m\u001b[38;5;241;43m=\u001b[39;49m\u001b[38;5;28;43;01mTrue\u001b[39;49;00m\u001b[43m,\u001b[49m\u001b[43m \u001b[49m\u001b[43mwidth\u001b[49m\u001b[38;5;241;43m=\u001b[39;49m\u001b[38;5;241;43m1\u001b[39;49m\u001b[43m)\u001b[49m\u001b[38;5;66;03m#log=False, sharex=True, stacked=True, histtype=\"step\")\u001b[39;00m\n",
      "File \u001b[0;32m~/.pyenv/versions/3.12.0/envs/scikitlearn/lib/python3.12/site-packages/pandas/plotting/_core.py:1192\u001b[0m, in \u001b[0;36mPlotAccessor.bar\u001b[0;34m(self, x, y, **kwargs)\u001b[0m\n\u001b[1;32m   1102\u001b[0m \u001b[38;5;129m@Appender\u001b[39m(\n\u001b[1;32m   1103\u001b[0m \u001b[38;5;250m    \u001b[39m\u001b[38;5;124;03m\"\"\"\u001b[39;00m\n\u001b[1;32m   1104\u001b[0m \u001b[38;5;124;03m    See Also\u001b[39;00m\n\u001b[0;32m   (...)\u001b[0m\n\u001b[1;32m   1181\u001b[0m     \u001b[38;5;28mself\u001b[39m, x: Hashable \u001b[38;5;241m|\u001b[39m \u001b[38;5;28;01mNone\u001b[39;00m \u001b[38;5;241m=\u001b[39m \u001b[38;5;28;01mNone\u001b[39;00m, y: Hashable \u001b[38;5;241m|\u001b[39m \u001b[38;5;28;01mNone\u001b[39;00m \u001b[38;5;241m=\u001b[39m \u001b[38;5;28;01mNone\u001b[39;00m, \u001b[38;5;241m*\u001b[39m\u001b[38;5;241m*\u001b[39mkwargs\n\u001b[1;32m   1182\u001b[0m ) \u001b[38;5;241m-\u001b[39m\u001b[38;5;241m>\u001b[39m PlotAccessor:\n\u001b[1;32m   1183\u001b[0m \u001b[38;5;250m    \u001b[39m\u001b[38;5;124;03m\"\"\"\u001b[39;00m\n\u001b[1;32m   1184\u001b[0m \u001b[38;5;124;03m    Vertical bar plot.\u001b[39;00m\n\u001b[1;32m   1185\u001b[0m \n\u001b[0;32m   (...)\u001b[0m\n\u001b[1;32m   1190\u001b[0m \u001b[38;5;124;03m    other axis represents a measured value.\u001b[39;00m\n\u001b[1;32m   1191\u001b[0m \u001b[38;5;124;03m    \"\"\"\u001b[39;00m\n\u001b[0;32m-> 1192\u001b[0m     \u001b[38;5;28;01mreturn\u001b[39;00m \u001b[38;5;28;43mself\u001b[39;49m\u001b[43m(\u001b[49m\u001b[43mkind\u001b[49m\u001b[38;5;241;43m=\u001b[39;49m\u001b[38;5;124;43m\"\u001b[39;49m\u001b[38;5;124;43mbar\u001b[39;49m\u001b[38;5;124;43m\"\u001b[39;49m\u001b[43m,\u001b[49m\u001b[43m \u001b[49m\u001b[43mx\u001b[49m\u001b[38;5;241;43m=\u001b[39;49m\u001b[43mx\u001b[49m\u001b[43m,\u001b[49m\u001b[43m \u001b[49m\u001b[43my\u001b[49m\u001b[38;5;241;43m=\u001b[39;49m\u001b[43my\u001b[49m\u001b[43m,\u001b[49m\u001b[43m \u001b[49m\u001b[38;5;241;43m*\u001b[39;49m\u001b[38;5;241;43m*\u001b[39;49m\u001b[43mkwargs\u001b[49m\u001b[43m)\u001b[49m\n",
      "File \u001b[0;32m~/.pyenv/versions/3.12.0/envs/scikitlearn/lib/python3.12/site-packages/pandas/plotting/_core.py:1030\u001b[0m, in \u001b[0;36mPlotAccessor.__call__\u001b[0;34m(self, *args, **kwargs)\u001b[0m\n\u001b[1;32m   1027\u001b[0m             label_name \u001b[38;5;241m=\u001b[39m label_kw \u001b[38;5;129;01mor\u001b[39;00m data\u001b[38;5;241m.\u001b[39mcolumns\n\u001b[1;32m   1028\u001b[0m             data\u001b[38;5;241m.\u001b[39mcolumns \u001b[38;5;241m=\u001b[39m label_name\n\u001b[0;32m-> 1030\u001b[0m \u001b[38;5;28;01mreturn\u001b[39;00m \u001b[43mplot_backend\u001b[49m\u001b[38;5;241;43m.\u001b[39;49m\u001b[43mplot\u001b[49m\u001b[43m(\u001b[49m\u001b[43mdata\u001b[49m\u001b[43m,\u001b[49m\u001b[43m \u001b[49m\u001b[43mkind\u001b[49m\u001b[38;5;241;43m=\u001b[39;49m\u001b[43mkind\u001b[49m\u001b[43m,\u001b[49m\u001b[43m \u001b[49m\u001b[38;5;241;43m*\u001b[39;49m\u001b[38;5;241;43m*\u001b[39;49m\u001b[43mkwargs\u001b[49m\u001b[43m)\u001b[49m\n",
      "File \u001b[0;32m~/.pyenv/versions/3.12.0/envs/scikitlearn/lib/python3.12/site-packages/pandas/plotting/_matplotlib/__init__.py:71\u001b[0m, in \u001b[0;36mplot\u001b[0;34m(data, kind, **kwargs)\u001b[0m\n\u001b[1;32m     69\u001b[0m         kwargs[\u001b[38;5;124m\"\u001b[39m\u001b[38;5;124max\u001b[39m\u001b[38;5;124m\"\u001b[39m] \u001b[38;5;241m=\u001b[39m \u001b[38;5;28mgetattr\u001b[39m(ax, \u001b[38;5;124m\"\u001b[39m\u001b[38;5;124mleft_ax\u001b[39m\u001b[38;5;124m\"\u001b[39m, ax)\n\u001b[1;32m     70\u001b[0m plot_obj \u001b[38;5;241m=\u001b[39m PLOT_CLASSES[kind](data, \u001b[38;5;241m*\u001b[39m\u001b[38;5;241m*\u001b[39mkwargs)\n\u001b[0;32m---> 71\u001b[0m \u001b[43mplot_obj\u001b[49m\u001b[38;5;241;43m.\u001b[39;49m\u001b[43mgenerate\u001b[49m\u001b[43m(\u001b[49m\u001b[43m)\u001b[49m\n\u001b[1;32m     72\u001b[0m plot_obj\u001b[38;5;241m.\u001b[39mdraw()\n\u001b[1;32m     73\u001b[0m \u001b[38;5;28;01mreturn\u001b[39;00m plot_obj\u001b[38;5;241m.\u001b[39mresult\n",
      "File \u001b[0;32m~/.pyenv/versions/3.12.0/envs/scikitlearn/lib/python3.12/site-packages/pandas/plotting/_matplotlib/core.py:501\u001b[0m, in \u001b[0;36mMPLPlot.generate\u001b[0;34m(self)\u001b[0m\n\u001b[1;32m    499\u001b[0m \u001b[38;5;28mself\u001b[39m\u001b[38;5;241m.\u001b[39m_compute_plot_data()\n\u001b[1;32m    500\u001b[0m fig \u001b[38;5;241m=\u001b[39m \u001b[38;5;28mself\u001b[39m\u001b[38;5;241m.\u001b[39mfig\n\u001b[0;32m--> 501\u001b[0m \u001b[38;5;28;43mself\u001b[39;49m\u001b[38;5;241;43m.\u001b[39;49m\u001b[43m_make_plot\u001b[49m\u001b[43m(\u001b[49m\u001b[43mfig\u001b[49m\u001b[43m)\u001b[49m\n\u001b[1;32m    502\u001b[0m \u001b[38;5;28mself\u001b[39m\u001b[38;5;241m.\u001b[39m_add_table()\n\u001b[1;32m    503\u001b[0m \u001b[38;5;28mself\u001b[39m\u001b[38;5;241m.\u001b[39m_make_legend()\n",
      "File \u001b[0;32m~/.pyenv/versions/3.12.0/envs/scikitlearn/lib/python3.12/site-packages/pandas/plotting/_matplotlib/core.py:1934\u001b[0m, in \u001b[0;36mBarPlot._make_plot\u001b[0;34m(self, fig)\u001b[0m\n\u001b[1;32m   1932\u001b[0m start \u001b[38;5;241m=\u001b[39m np\u001b[38;5;241m.\u001b[39mwhere(mask, pos_prior, neg_prior) \u001b[38;5;241m+\u001b[39m \u001b[38;5;28mself\u001b[39m\u001b[38;5;241m.\u001b[39m_start_base\n\u001b[1;32m   1933\u001b[0m w \u001b[38;5;241m=\u001b[39m \u001b[38;5;28mself\u001b[39m\u001b[38;5;241m.\u001b[39mbar_width \u001b[38;5;241m/\u001b[39m \u001b[38;5;241m2\u001b[39m\n\u001b[0;32m-> 1934\u001b[0m rect \u001b[38;5;241m=\u001b[39m \u001b[38;5;28;43mself\u001b[39;49m\u001b[38;5;241;43m.\u001b[39;49m\u001b[43m_plot\u001b[49m\u001b[43m(\u001b[49m\n\u001b[1;32m   1935\u001b[0m \u001b[43m    \u001b[49m\u001b[43max\u001b[49m\u001b[43m,\u001b[49m\n\u001b[1;32m   1936\u001b[0m \u001b[43m    \u001b[49m\u001b[38;5;28;43mself\u001b[39;49m\u001b[38;5;241;43m.\u001b[39;49m\u001b[43max_pos\u001b[49m\u001b[43m \u001b[49m\u001b[38;5;241;43m+\u001b[39;49m\u001b[43m \u001b[49m\u001b[43mw\u001b[49m\u001b[43m,\u001b[49m\n\u001b[1;32m   1937\u001b[0m \u001b[43m    \u001b[49m\u001b[43my\u001b[49m\u001b[43m,\u001b[49m\n\u001b[1;32m   1938\u001b[0m \u001b[43m    \u001b[49m\u001b[38;5;28;43mself\u001b[39;49m\u001b[38;5;241;43m.\u001b[39;49m\u001b[43mbar_width\u001b[49m\u001b[43m,\u001b[49m\n\u001b[1;32m   1939\u001b[0m \u001b[43m    \u001b[49m\u001b[43mstart\u001b[49m\u001b[38;5;241;43m=\u001b[39;49m\u001b[43mstart\u001b[49m\u001b[43m,\u001b[49m\n\u001b[1;32m   1940\u001b[0m \u001b[43m    \u001b[49m\u001b[43mlabel\u001b[49m\u001b[38;5;241;43m=\u001b[39;49m\u001b[43mlabel\u001b[49m\u001b[43m,\u001b[49m\n\u001b[1;32m   1941\u001b[0m \u001b[43m    \u001b[49m\u001b[43mlog\u001b[49m\u001b[38;5;241;43m=\u001b[39;49m\u001b[38;5;28;43mself\u001b[39;49m\u001b[38;5;241;43m.\u001b[39;49m\u001b[43mlog\u001b[49m\u001b[43m,\u001b[49m\n\u001b[1;32m   1942\u001b[0m \u001b[43m    \u001b[49m\u001b[38;5;241;43m*\u001b[39;49m\u001b[38;5;241;43m*\u001b[39;49m\u001b[43mkwds\u001b[49m\u001b[43m,\u001b[49m\n\u001b[1;32m   1943\u001b[0m \u001b[43m\u001b[49m\u001b[43m)\u001b[49m\n\u001b[1;32m   1944\u001b[0m pos_prior \u001b[38;5;241m=\u001b[39m pos_prior \u001b[38;5;241m+\u001b[39m np\u001b[38;5;241m.\u001b[39mwhere(mask, y, \u001b[38;5;241m0\u001b[39m)\n\u001b[1;32m   1945\u001b[0m neg_prior \u001b[38;5;241m=\u001b[39m neg_prior \u001b[38;5;241m+\u001b[39m np\u001b[38;5;241m.\u001b[39mwhere(mask, \u001b[38;5;241m0\u001b[39m, y)\n",
      "File \u001b[0;32m~/.pyenv/versions/3.12.0/envs/scikitlearn/lib/python3.12/site-packages/pandas/plotting/_matplotlib/core.py:1878\u001b[0m, in \u001b[0;36mBarPlot._plot\u001b[0;34m(cls, ax, x, y, w, start, log, **kwds)\u001b[0m\n\u001b[1;32m   1867\u001b[0m \u001b[38;5;129m@classmethod\u001b[39m\n\u001b[1;32m   1868\u001b[0m \u001b[38;5;28;01mdef\u001b[39;00m \u001b[38;5;21m_plot\u001b[39m(  \u001b[38;5;66;03m# type: ignore[override]\u001b[39;00m\n\u001b[1;32m   1869\u001b[0m     \u001b[38;5;28mcls\u001b[39m,\n\u001b[0;32m   (...)\u001b[0m\n\u001b[1;32m   1876\u001b[0m     \u001b[38;5;241m*\u001b[39m\u001b[38;5;241m*\u001b[39mkwds,\n\u001b[1;32m   1877\u001b[0m ):\n\u001b[0;32m-> 1878\u001b[0m     \u001b[38;5;28;01mreturn\u001b[39;00m \u001b[43max\u001b[49m\u001b[38;5;241;43m.\u001b[39;49m\u001b[43mbar\u001b[49m\u001b[43m(\u001b[49m\u001b[43mx\u001b[49m\u001b[43m,\u001b[49m\u001b[43m \u001b[49m\u001b[43my\u001b[49m\u001b[43m,\u001b[49m\u001b[43m \u001b[49m\u001b[43mw\u001b[49m\u001b[43m,\u001b[49m\u001b[43m \u001b[49m\u001b[43mbottom\u001b[49m\u001b[38;5;241;43m=\u001b[39;49m\u001b[43mstart\u001b[49m\u001b[43m,\u001b[49m\u001b[43m \u001b[49m\u001b[43mlog\u001b[49m\u001b[38;5;241;43m=\u001b[39;49m\u001b[43mlog\u001b[49m\u001b[43m,\u001b[49m\u001b[43m \u001b[49m\u001b[38;5;241;43m*\u001b[39;49m\u001b[38;5;241;43m*\u001b[39;49m\u001b[43mkwds\u001b[49m\u001b[43m)\u001b[49m\n",
      "File \u001b[0;32m~/.pyenv/versions/3.12.0/envs/scikitlearn/lib/python3.12/site-packages/matplotlib/__init__.py:1473\u001b[0m, in \u001b[0;36m_preprocess_data.<locals>.inner\u001b[0;34m(ax, data, *args, **kwargs)\u001b[0m\n\u001b[1;32m   1470\u001b[0m \u001b[38;5;129m@functools\u001b[39m\u001b[38;5;241m.\u001b[39mwraps(func)\n\u001b[1;32m   1471\u001b[0m \u001b[38;5;28;01mdef\u001b[39;00m \u001b[38;5;21minner\u001b[39m(ax, \u001b[38;5;241m*\u001b[39margs, data\u001b[38;5;241m=\u001b[39m\u001b[38;5;28;01mNone\u001b[39;00m, \u001b[38;5;241m*\u001b[39m\u001b[38;5;241m*\u001b[39mkwargs):\n\u001b[1;32m   1472\u001b[0m     \u001b[38;5;28;01mif\u001b[39;00m data \u001b[38;5;129;01mis\u001b[39;00m \u001b[38;5;28;01mNone\u001b[39;00m:\n\u001b[0;32m-> 1473\u001b[0m         \u001b[38;5;28;01mreturn\u001b[39;00m \u001b[43mfunc\u001b[49m\u001b[43m(\u001b[49m\n\u001b[1;32m   1474\u001b[0m \u001b[43m            \u001b[49m\u001b[43max\u001b[49m\u001b[43m,\u001b[49m\n\u001b[1;32m   1475\u001b[0m \u001b[43m            \u001b[49m\u001b[38;5;241;43m*\u001b[39;49m\u001b[38;5;28;43mmap\u001b[39;49m\u001b[43m(\u001b[49m\u001b[43msanitize_sequence\u001b[49m\u001b[43m,\u001b[49m\u001b[43m \u001b[49m\u001b[43margs\u001b[49m\u001b[43m)\u001b[49m\u001b[43m,\u001b[49m\n\u001b[1;32m   1476\u001b[0m \u001b[43m            \u001b[49m\u001b[38;5;241;43m*\u001b[39;49m\u001b[38;5;241;43m*\u001b[39;49m\u001b[43m{\u001b[49m\u001b[43mk\u001b[49m\u001b[43m:\u001b[49m\u001b[43m \u001b[49m\u001b[43msanitize_sequence\u001b[49m\u001b[43m(\u001b[49m\u001b[43mv\u001b[49m\u001b[43m)\u001b[49m\u001b[43m \u001b[49m\u001b[38;5;28;43;01mfor\u001b[39;49;00m\u001b[43m \u001b[49m\u001b[43mk\u001b[49m\u001b[43m,\u001b[49m\u001b[43m \u001b[49m\u001b[43mv\u001b[49m\u001b[43m \u001b[49m\u001b[38;5;129;43;01min\u001b[39;49;00m\u001b[43m \u001b[49m\u001b[43mkwargs\u001b[49m\u001b[38;5;241;43m.\u001b[39;49m\u001b[43mitems\u001b[49m\u001b[43m(\u001b[49m\u001b[43m)\u001b[49m\u001b[43m}\u001b[49m\u001b[43m)\u001b[49m\n\u001b[1;32m   1478\u001b[0m     bound \u001b[38;5;241m=\u001b[39m new_sig\u001b[38;5;241m.\u001b[39mbind(ax, \u001b[38;5;241m*\u001b[39margs, \u001b[38;5;241m*\u001b[39m\u001b[38;5;241m*\u001b[39mkwargs)\n\u001b[1;32m   1479\u001b[0m     auto_label \u001b[38;5;241m=\u001b[39m (bound\u001b[38;5;241m.\u001b[39marguments\u001b[38;5;241m.\u001b[39mget(label_namer)\n\u001b[1;32m   1480\u001b[0m                   \u001b[38;5;129;01mor\u001b[39;00m bound\u001b[38;5;241m.\u001b[39mkwargs\u001b[38;5;241m.\u001b[39mget(label_namer))\n",
      "File \u001b[0;32m~/.pyenv/versions/3.12.0/envs/scikitlearn/lib/python3.12/site-packages/matplotlib/axes/_axes.py:2597\u001b[0m, in \u001b[0;36mAxes.bar\u001b[0;34m(self, x, height, width, bottom, align, **kwargs)\u001b[0m\n\u001b[1;32m   2595\u001b[0m     \u001b[38;5;28;01melse\u001b[39;00m:  \u001b[38;5;66;03m# horizontal\u001b[39;00m\n\u001b[1;32m   2596\u001b[0m         r\u001b[38;5;241m.\u001b[39msticky_edges\u001b[38;5;241m.\u001b[39mx\u001b[38;5;241m.\u001b[39mappend(l)\n\u001b[0;32m-> 2597\u001b[0m     \u001b[38;5;28;43mself\u001b[39;49m\u001b[38;5;241;43m.\u001b[39;49m\u001b[43madd_patch\u001b[49m\u001b[43m(\u001b[49m\u001b[43mr\u001b[49m\u001b[43m)\u001b[49m\n\u001b[1;32m   2598\u001b[0m     patches\u001b[38;5;241m.\u001b[39mappend(r)\n\u001b[1;32m   2600\u001b[0m \u001b[38;5;28;01mif\u001b[39;00m xerr \u001b[38;5;129;01mis\u001b[39;00m \u001b[38;5;129;01mnot\u001b[39;00m \u001b[38;5;28;01mNone\u001b[39;00m \u001b[38;5;129;01mor\u001b[39;00m yerr \u001b[38;5;129;01mis\u001b[39;00m \u001b[38;5;129;01mnot\u001b[39;00m \u001b[38;5;28;01mNone\u001b[39;00m:\n",
      "File \u001b[0;32m~/.pyenv/versions/3.12.0/envs/scikitlearn/lib/python3.12/site-packages/matplotlib/axes/_base.py:2385\u001b[0m, in \u001b[0;36m_AxesBase.add_patch\u001b[0;34m(self, p)\u001b[0m\n\u001b[1;32m   2383\u001b[0m \u001b[38;5;28mself\u001b[39m\u001b[38;5;241m.\u001b[39m_set_artist_props(p)\n\u001b[1;32m   2384\u001b[0m \u001b[38;5;28;01mif\u001b[39;00m p\u001b[38;5;241m.\u001b[39mget_clip_path() \u001b[38;5;129;01mis\u001b[39;00m \u001b[38;5;28;01mNone\u001b[39;00m:\n\u001b[0;32m-> 2385\u001b[0m     \u001b[43mp\u001b[49m\u001b[38;5;241;43m.\u001b[39;49m\u001b[43mset_clip_path\u001b[49m\u001b[43m(\u001b[49m\u001b[38;5;28;43mself\u001b[39;49m\u001b[38;5;241;43m.\u001b[39;49m\u001b[43mpatch\u001b[49m\u001b[43m)\u001b[49m\n\u001b[1;32m   2386\u001b[0m \u001b[38;5;28mself\u001b[39m\u001b[38;5;241m.\u001b[39m_update_patch_limits(p)\n\u001b[1;32m   2387\u001b[0m \u001b[38;5;28mself\u001b[39m\u001b[38;5;241m.\u001b[39m_children\u001b[38;5;241m.\u001b[39mappend(p)\n",
      "File \u001b[0;32m~/.pyenv/versions/3.12.0/envs/scikitlearn/lib/python3.12/site-packages/matplotlib/artist.py:799\u001b[0m, in \u001b[0;36mArtist.set_clip_path\u001b[0;34m(self, path, transform)\u001b[0m\n\u001b[1;32m    797\u001b[0m \u001b[38;5;28;01mif\u001b[39;00m transform \u001b[38;5;129;01mis\u001b[39;00m \u001b[38;5;28;01mNone\u001b[39;00m:\n\u001b[1;32m    798\u001b[0m     \u001b[38;5;28;01mif\u001b[39;00m \u001b[38;5;28misinstance\u001b[39m(path, Rectangle):\n\u001b[0;32m--> 799\u001b[0m         \u001b[38;5;28mself\u001b[39m\u001b[38;5;241m.\u001b[39mclipbox \u001b[38;5;241m=\u001b[39m TransformedBbox(\u001b[43mBbox\u001b[49m\u001b[38;5;241;43m.\u001b[39;49m\u001b[43munit\u001b[49m\u001b[43m(\u001b[49m\u001b[43m)\u001b[49m,\n\u001b[1;32m    800\u001b[0m                                        path\u001b[38;5;241m.\u001b[39mget_transform())\n\u001b[1;32m    801\u001b[0m         \u001b[38;5;28mself\u001b[39m\u001b[38;5;241m.\u001b[39m_clippath \u001b[38;5;241m=\u001b[39m \u001b[38;5;28;01mNone\u001b[39;00m\n\u001b[1;32m    802\u001b[0m         success \u001b[38;5;241m=\u001b[39m \u001b[38;5;28;01mTrue\u001b[39;00m\n",
      "File \u001b[0;32m~/.pyenv/versions/3.12.0/envs/scikitlearn/lib/python3.12/site-packages/matplotlib/transforms.py:798\u001b[0m, in \u001b[0;36mBbox.unit\u001b[0;34m()\u001b[0m\n\u001b[1;32m    795\u001b[0m \u001b[38;5;129m@staticmethod\u001b[39m\n\u001b[1;32m    796\u001b[0m \u001b[38;5;28;01mdef\u001b[39;00m \u001b[38;5;21munit\u001b[39m():\n\u001b[1;32m    797\u001b[0m \u001b[38;5;250m    \u001b[39m\u001b[38;5;124;03m\"\"\"Create a new unit `Bbox` from (0, 0) to (1, 1).\"\"\"\u001b[39;00m\n\u001b[0;32m--> 798\u001b[0m     \u001b[38;5;28;01mreturn\u001b[39;00m \u001b[43mBbox\u001b[49m\u001b[43m(\u001b[49m\u001b[43m[\u001b[49m\u001b[43m[\u001b[49m\u001b[38;5;241;43m0\u001b[39;49m\u001b[43m,\u001b[49m\u001b[43m \u001b[49m\u001b[38;5;241;43m0\u001b[39;49m\u001b[43m]\u001b[49m\u001b[43m,\u001b[49m\u001b[43m \u001b[49m\u001b[43m[\u001b[49m\u001b[38;5;241;43m1\u001b[39;49m\u001b[43m,\u001b[49m\u001b[43m \u001b[49m\u001b[38;5;241;43m1\u001b[39;49m\u001b[43m]\u001b[49m\u001b[43m]\u001b[49m\u001b[43m)\u001b[49m\n",
      "File \u001b[0;32m~/.pyenv/versions/3.12.0/envs/scikitlearn/lib/python3.12/site-packages/matplotlib/transforms.py:777\u001b[0m, in \u001b[0;36mBbox.__init__\u001b[0;34m(self, points, **kwargs)\u001b[0m\n\u001b[1;32m    773\u001b[0m \u001b[38;5;28mself\u001b[39m\u001b[38;5;241m.\u001b[39m_ignore \u001b[38;5;241m=\u001b[39m \u001b[38;5;28;01mTrue\u001b[39;00m\n\u001b[1;32m    774\u001b[0m \u001b[38;5;66;03m# it is helpful in some contexts to know if the bbox is a\u001b[39;00m\n\u001b[1;32m    775\u001b[0m \u001b[38;5;66;03m# default or has been mutated; we store the orig points to\u001b[39;00m\n\u001b[1;32m    776\u001b[0m \u001b[38;5;66;03m# support the mutated methods\u001b[39;00m\n\u001b[0;32m--> 777\u001b[0m \u001b[38;5;28mself\u001b[39m\u001b[38;5;241m.\u001b[39m_points_orig \u001b[38;5;241m=\u001b[39m \u001b[38;5;28;43mself\u001b[39;49m\u001b[38;5;241;43m.\u001b[39;49m\u001b[43m_points\u001b[49m\u001b[38;5;241;43m.\u001b[39;49m\u001b[43mcopy\u001b[49m\u001b[43m(\u001b[49m\u001b[43m)\u001b[49m\n",
      "\u001b[0;31mKeyboardInterrupt\u001b[0m: "
     ]
    },
    {
     "data": {
      "image/png": "[encoded data removed]",
      "text/plain": [
       "<Figure size 640x480 with 1 Axes>"
      ]
     },
     "metadata": {},
     "output_type": "display_data"
    },
    {
     "data": {
      "image/png": "[encoded data removed]",
      "text/plain": [
       "<Figure size 640x480 with 1 Axes>"
      ]
     },
     "metadata": {},
     "output_type": "display_data"
    }
   ],
   "source": [
    "w_sec = 24 * 60 * 60\n",
    "df = dataset.df.copy().sort_values(\"time_s_end\")\n",
    "\n",
    "df = df#.iloc[0:1000]\n",
    "\n",
    "n_windows_max = math.floor(df[\"time_s_end\"].max() / w_sec)\n",
    "print(df[\"time_s_end\"].max(), n_windows_max)\n",
    "\n",
    "# df = df[df[\"time_s_end\"] < w_sec * 200]\n",
    "\n",
    "df[\"w_plot_end\"] =  np.floor(df[\"time_s_end\"] / w_sec)\n",
    "\n",
    "print(df[\"w_plot_end\"].describe(percentiles=[0.95, 0.99]))\n",
    "\n",
    "display(df[\"w_plot_end\"].hist())\n",
    "\n",
    "n_windows = math.floor(df[\"time_s_end\"].max() / w_sec)\n",
    "\n",
    "print(df[\"time_s_end\"].max(), n_windows)\n",
    "\n",
    "bins = np.zeros((n_windows, 2))\n",
    "print(math.floor(df[\"time_s_end\"].max() / w_sec))\n",
    "for row, window in df.iterrows():\n",
    "    bin_start = math.floor(window[\"time_s_start\"] / w_sec) # type: ignore\n",
    "    bin_end = math.floor(window[\"time_s_end\"] / w_sec) # type: ignore\n",
    "\n",
    "    bins[bin_start:bin_end, 0] += 1\n",
    "    bins[bin_start:bin_end, 1] += 1 if window[\"eps_NONE_0.500\"] > 0 else 0\n",
    "    pass\n",
    "\n",
    "dftmp = pd.DataFrame(bins, columns=[\"nw\", \"p\"])\n",
    "dftmp[\"nw\"] -= dftmp[\"p\"]\n",
    "dftmp.plot.bar(stacked=True, width=1)#log=False, sharex=True, stacked=True, histtype=\"step\")"
   ]
  },
  {
   "cell_type": "code",
   "execution_count": 122,
   "metadata": {},
   "outputs": [
    {
     "data": {
      "text/plain": [
       "array([[<Axes: title={'center': 'n'}>, <Axes: title={'center': 'p'}>]],\n",
       "      dtype=object)"
      ]
     },
     "execution_count": 122,
     "metadata": {},
     "output_type": "execute_result"
    },
    {
     "data": {
      "image/png": "[encoded data removed]",
      "text/plain": [
       "<Figure size 640x480 with 2 Axes>"
      ]
     },
     "metadata": {},
     "output_type": "display_data"
    }
   ],
   "source": []
  },
  {
   "cell_type": "code",
   "execution_count": null,
   "metadata": {},
   "outputs": [
    {
     "data": {
      "text/html": [
       "<div>\n",
       "<style scoped>\n",
       "    .dataframe tbody tr th:only-of-type {\n",
       "        vertical-align: middle;\n",
       "    }\n",
       "\n",
       "    .dataframe tbody tr th {\n",
       "        vertical-align: top;\n",
       "    }\n",
       "\n",
       "    .dataframe thead th {\n",
       "        text-align: right;\n",
       "    }\n",
       "</style>\n",
       "<table border=\"1\" class=\"dataframe\">\n",
       "  <thead>\n",
       "    <tr style=\"text-align: right;\">\n",
       "      <th></th>\n",
       "      <th>time_s_start</th>\n",
       "      <th>first_time_s_start</th>\n",
       "    </tr>\n",
       "  </thead>\n",
       "  <tbody>\n",
       "    <tr>\n",
       "      <th>0</th>\n",
       "      <td>1387314600</td>\n",
       "      <td>1387314600</td>\n",
       "    </tr>\n",
       "    <tr>\n",
       "      <th>1</th>\n",
       "      <td>1387314800</td>\n",
       "      <td>1387314600</td>\n",
       "    </tr>\n",
       "    <tr>\n",
       "      <th>2</th>\n",
       "      <td>1387315000</td>\n",
       "      <td>1387314600</td>\n",
       "    </tr>\n",
       "    <tr>\n",
       "      <th>3</th>\n",
       "      <td>1387315000</td>\n",
       "      <td>1387314600</td>\n",
       "    </tr>\n",
       "    <tr>\n",
       "      <th>4</th>\n",
       "      <td>1387315000</td>\n",
       "      <td>1387314600</td>\n",
       "    </tr>\n",
       "    <tr>\n",
       "      <th>...</th>\n",
       "      <td>...</td>\n",
       "      <td>...</td>\n",
       "    </tr>\n",
       "    <tr>\n",
       "      <th>5974</th>\n",
       "      <td>1493732900</td>\n",
       "      <td>1493727700</td>\n",
       "    </tr>\n",
       "    <tr>\n",
       "      <th>5975</th>\n",
       "      <td>1493732900</td>\n",
       "      <td>1493727700</td>\n",
       "    </tr>\n",
       "    <tr>\n",
       "      <th>5976</th>\n",
       "      <td>1493732900</td>\n",
       "      <td>1493727700</td>\n",
       "    </tr>\n",
       "    <tr>\n",
       "      <th>5977</th>\n",
       "      <td>1493732900</td>\n",
       "      <td>1493727700</td>\n",
       "    </tr>\n",
       "    <tr>\n",
       "      <th>5978</th>\n",
       "      <td>1493732900</td>\n",
       "      <td>1493727700</td>\n",
       "    </tr>\n",
       "  </tbody>\n",
       "</table>\n",
       "<p>5979 rows × 2 columns</p>\n",
       "</div>"
      ],
      "text/plain": [
       "      time_s_start  first_time_s_start\n",
       "0       1387314600          1387314600\n",
       "1       1387314800          1387314600\n",
       "2       1387315000          1387314600\n",
       "3       1387315000          1387314600\n",
       "4       1387315000          1387314600\n",
       "...            ...                 ...\n",
       "5974    1493732900          1493727700\n",
       "5975    1493732900          1493727700\n",
       "5976    1493732900          1493727700\n",
       "5977    1493732900          1493727700\n",
       "5978    1493732900          1493727700\n",
       "\n",
       "[5979 rows x 2 columns]"
      ]
     },
     "metadata": {},
     "output_type": "display_data"
    },
    {
     "data": {
      "text/plain": [
       "0          0\n",
       "1        200\n",
       "2        400\n",
       "3        400\n",
       "4        400\n",
       "        ... \n",
       "5974    5200\n",
       "5975    5200\n",
       "5976    5200\n",
       "5977    5200\n",
       "5978    5200\n",
       "Length: 5979, dtype: int64"
      ]
     },
     "metadata": {},
     "output_type": "display_data"
    }
   ],
   "source": [
    "df = dataset.df[dataset.df[(\"source_mc\")] == 0].copy()\n",
    "df.time_s_start = df.time_s_start.astype(int)\n",
    "\n",
    "# df.xs('-', level=0, axis=1).xs('-', level=0, axis=1)\n",
    "\n",
    "first_time_s_start = df[[\"source_id\", \"time_s_start\"]]\n",
    "first_time_s_start = first_time_s_start.groupby(\"source_id\").min().reset_index()\n",
    "first_time_s_start = first_time_s_start.rename(columns={ \"time_s_start\": \"first_time_s_start\" })\n",
    "\n",
    "first_time_s_start = df.merge(first_time_s_start, suffixes=[\"\", \"\"], left_on=[\"source_id\"], right_on=[\"source_id\"], validate=\"many_to_one\")#[(\"-\", \"-\", \"first_time_s_start\")]\n",
    "\n",
    "display(first_time_s_start[[ \"time_s_start\", \"first_time_s_start\"]])\n",
    "display(first_time_s_start[\"time_s_start\"] - first_time_s_start[\"first_time_s_start\"])\n",
    "\n",
    "# df[\"-\", \"-\", \"common_start_time_s\"] = df[\"-\", \"-\", \"time_s_start\"] - first_time_s_start\n",
    "\n",
    "# df.sort_values(by=[(\"-\", \"source\", \"id\"), (\"-\", \"-\", \"index\")], ascending=False)"
   ]
  },
  {
   "cell_type": "code",
   "execution_count": null,
   "metadata": {},
   "outputs": [],
   "source": []
  },
  {
   "cell_type": "code",
   "execution_count": null,
   "metadata": {},
   "outputs": [
    {
     "ename": "NameError",
     "evalue": "name 'df_normal_approach' is not defined",
     "output_type": "error",
     "traceback": [
      "\u001b[0;31m---------------------------------------------------------------------------\u001b[0m",
      "\u001b[0;31mNameError\u001b[0m                                 Traceback (most recent call last)",
      "Cell \u001b[0;32mIn[9], line 4\u001b[0m\n\u001b[1;32m      1\u001b[0m \u001b[38;5;66;03m# df_normal_approach.reset_index(level=[1,2], names=['nn'])\u001b[39;00m\n\u001b[1;32m      2\u001b[0m \n\u001b[1;32m      3\u001b[0m \u001b[38;5;66;03m# df_normal_approach.reset_index(level=[1,2], names=['nn', 'th']).groupby(['nn', 'th']).mean()\u001b[39;00m\n\u001b[0;32m----> 4\u001b[0m tmp \u001b[38;5;241m=\u001b[39m \u001b[43mdf_normal_approach\u001b[49m\u001b[38;5;241m.\u001b[39mreset_index(level\u001b[38;5;241m=\u001b[39m[\u001b[38;5;241m1\u001b[39m,\u001b[38;5;241m2\u001b[39m], names\u001b[38;5;241m=\u001b[39m[\u001b[38;5;124m'\u001b[39m\u001b[38;5;124mid\u001b[39m\u001b[38;5;124m'\u001b[39m,\u001b[38;5;124m'\u001b[39m\u001b[38;5;124mnn\u001b[39m\u001b[38;5;124m'\u001b[39m,\u001b[38;5;124m'\u001b[39m\u001b[38;5;124mth\u001b[39m\u001b[38;5;124m'\u001b[39m])\n\u001b[1;32m      6\u001b[0m \u001b[38;5;66;03m# tmp.groupby(['nn', 'th']).describe().round(2).drop(['q', 'u'], level=0, axis=1)\u001b[39;00m\n\u001b[1;32m      7\u001b[0m tmp\u001b[38;5;241m.\u001b[39mgroupby([\u001b[38;5;124m'\u001b[39m\u001b[38;5;124mnn\u001b[39m\u001b[38;5;124m'\u001b[39m, \u001b[38;5;124m'\u001b[39m\u001b[38;5;124mth\u001b[39m\u001b[38;5;124m'\u001b[39m])\u001b[38;5;241m.\u001b[39mdescribe()\u001b[38;5;241m.\u001b[39mround(\u001b[38;5;241m2\u001b[39m)\u001b[38;5;241m.\u001b[39mxs(\u001b[38;5;124m'\u001b[39m\u001b[38;5;124mfp\u001b[39m\u001b[38;5;124m'\u001b[39m, level\u001b[38;5;241m=\u001b[39m\u001b[38;5;241m0\u001b[39m, axis\u001b[38;5;241m=\u001b[39m\u001b[38;5;241m1\u001b[39m)\n",
      "\u001b[0;31mNameError\u001b[0m: name 'df_normal_approach' is not defined"
     ]
    }
   ],
   "source": [
    "\n",
    "# df_normal_approach.reset_index(level=[1,2], names=['nn'])\n",
    "\n",
    "# df_normal_approach.reset_index(level=[1,2], names=['nn', 'th']).groupby(['nn', 'th']).mean()\n",
    "tmp = df_normal_approach.reset_index(level=[1,2], names=['id','nn','th'])\n",
    "\n",
    "# tmp.groupby(['nn', 'th']).describe().round(2).drop(['q', 'u'], level=0, axis=1)\n",
    "tmp.groupby(['nn', 'th']).describe().round(2).xs('fp', level=0, axis=1)\n"
   ]
  },
  {
   "cell_type": "code",
   "execution_count": null,
   "metadata": {},
   "outputs": [
    {
     "data": {
      "text/markdown": [
       "# fp_rate_min"
      ],
      "text/plain": [
       "<IPython.core.display.Markdown object>"
      ]
     },
     "metadata": {},
     "output_type": "display_data"
    },
    {
     "data": {
      "text/html": [
       "<div>\n",
       "<style scoped>\n",
       "    .dataframe tbody tr th:only-of-type {\n",
       "        vertical-align: middle;\n",
       "    }\n",
       "\n",
       "    .dataframe tbody tr th {\n",
       "        vertical-align: top;\n",
       "    }\n",
       "\n",
       "    .dataframe thead th {\n",
       "        text-align: right;\n",
       "    }\n",
       "</style>\n",
       "<table border=\"1\" class=\"dataframe\">\n",
       "  <thead>\n",
       "    <tr style=\"text-align: right;\">\n",
       "      <th></th>\n",
       "      <th></th>\n",
       "      <th>count</th>\n",
       "      <th>mean</th>\n",
       "      <th>std</th>\n",
       "      <th>min</th>\n",
       "      <th>25%</th>\n",
       "      <th>50%</th>\n",
       "      <th>75%</th>\n",
       "      <th>max</th>\n",
       "    </tr>\n",
       "    <tr>\n",
       "      <th>nn</th>\n",
       "      <th>th</th>\n",
       "      <th></th>\n",
       "      <th></th>\n",
       "      <th></th>\n",
       "      <th></th>\n",
       "      <th></th>\n",
       "      <th></th>\n",
       "      <th></th>\n",
       "      <th></th>\n",
       "    </tr>\n",
       "  </thead>\n",
       "  <tbody>\n",
       "    <tr>\n",
       "      <th rowspan=\"4\" valign=\"top\">ICANN</th>\n",
       "      <th>0.100</th>\n",
       "      <td>17.0</td>\n",
       "      <td>1.78</td>\n",
       "      <td>2.48</td>\n",
       "      <td>0.00</td>\n",
       "      <td>0.34</td>\n",
       "      <td>0.70</td>\n",
       "      <td>1.54</td>\n",
       "      <td>7.73</td>\n",
       "    </tr>\n",
       "    <tr>\n",
       "      <th>0.250</th>\n",
       "      <td>17.0</td>\n",
       "      <td>1.45</td>\n",
       "      <td>2.10</td>\n",
       "      <td>0.00</td>\n",
       "      <td>0.09</td>\n",
       "      <td>0.55</td>\n",
       "      <td>1.24</td>\n",
       "      <td>6.46</td>\n",
       "    </tr>\n",
       "    <tr>\n",
       "      <th>0.500</th>\n",
       "      <td>17.0</td>\n",
       "      <td>1.17</td>\n",
       "      <td>1.69</td>\n",
       "      <td>0.00</td>\n",
       "      <td>0.07</td>\n",
       "      <td>0.46</td>\n",
       "      <td>1.07</td>\n",
       "      <td>5.24</td>\n",
       "    </tr>\n",
       "    <tr>\n",
       "      <th>0.900</th>\n",
       "      <td>17.0</td>\n",
       "      <td>0.87</td>\n",
       "      <td>1.33</td>\n",
       "      <td>0.00</td>\n",
       "      <td>0.03</td>\n",
       "      <td>0.34</td>\n",
       "      <td>0.70</td>\n",
       "      <td>4.12</td>\n",
       "    </tr>\n",
       "    <tr>\n",
       "      <th rowspan=\"4\" valign=\"top\">NONE</th>\n",
       "      <th>0.100</th>\n",
       "      <td>17.0</td>\n",
       "      <td>2.38</td>\n",
       "      <td>2.83</td>\n",
       "      <td>0.05</td>\n",
       "      <td>0.37</td>\n",
       "      <td>1.66</td>\n",
       "      <td>3.46</td>\n",
       "      <td>11.40</td>\n",
       "    </tr>\n",
       "    <tr>\n",
       "      <th>0.250</th>\n",
       "      <td>17.0</td>\n",
       "      <td>2.19</td>\n",
       "      <td>2.58</td>\n",
       "      <td>0.05</td>\n",
       "      <td>0.35</td>\n",
       "      <td>1.52</td>\n",
       "      <td>3.04</td>\n",
       "      <td>10.31</td>\n",
       "    </tr>\n",
       "    <tr>\n",
       "      <th>0.500</th>\n",
       "      <td>17.0</td>\n",
       "      <td>1.87</td>\n",
       "      <td>2.07</td>\n",
       "      <td>0.00</td>\n",
       "      <td>0.29</td>\n",
       "      <td>1.39</td>\n",
       "      <td>2.64</td>\n",
       "      <td>8.23</td>\n",
       "    </tr>\n",
       "    <tr>\n",
       "      <th>0.900</th>\n",
       "      <td>17.0</td>\n",
       "      <td>1.45</td>\n",
       "      <td>1.60</td>\n",
       "      <td>0.00</td>\n",
       "      <td>0.17</td>\n",
       "      <td>1.17</td>\n",
       "      <td>1.80</td>\n",
       "      <td>6.34</td>\n",
       "    </tr>\n",
       "    <tr>\n",
       "      <th rowspan=\"4\" valign=\"top\">PRIVATE</th>\n",
       "      <th>0.100</th>\n",
       "      <td>17.0</td>\n",
       "      <td>3.66</td>\n",
       "      <td>4.08</td>\n",
       "      <td>0.05</td>\n",
       "      <td>0.76</td>\n",
       "      <td>2.44</td>\n",
       "      <td>4.72</td>\n",
       "      <td>15.88</td>\n",
       "    </tr>\n",
       "    <tr>\n",
       "      <th>0.250</th>\n",
       "      <td>17.0</td>\n",
       "      <td>2.98</td>\n",
       "      <td>2.99</td>\n",
       "      <td>0.05</td>\n",
       "      <td>0.64</td>\n",
       "      <td>2.17</td>\n",
       "      <td>4.21</td>\n",
       "      <td>11.76</td>\n",
       "    </tr>\n",
       "    <tr>\n",
       "      <th>0.500</th>\n",
       "      <td>17.0</td>\n",
       "      <td>2.55</td>\n",
       "      <td>2.53</td>\n",
       "      <td>0.05</td>\n",
       "      <td>0.44</td>\n",
       "      <td>1.97</td>\n",
       "      <td>3.76</td>\n",
       "      <td>9.77</td>\n",
       "    </tr>\n",
       "    <tr>\n",
       "      <th>0.900</th>\n",
       "      <td>17.0</td>\n",
       "      <td>1.80</td>\n",
       "      <td>1.67</td>\n",
       "      <td>0.00</td>\n",
       "      <td>0.26</td>\n",
       "      <td>1.62</td>\n",
       "      <td>2.87</td>\n",
       "      <td>5.89</td>\n",
       "    </tr>\n",
       "    <tr>\n",
       "      <th rowspan=\"4\" valign=\"top\">TLD</th>\n",
       "      <th>0.100</th>\n",
       "      <td>17.0</td>\n",
       "      <td>0.85</td>\n",
       "      <td>1.33</td>\n",
       "      <td>0.00</td>\n",
       "      <td>0.21</td>\n",
       "      <td>0.30</td>\n",
       "      <td>0.74</td>\n",
       "      <td>5.05</td>\n",
       "    </tr>\n",
       "    <tr>\n",
       "      <th>0.250</th>\n",
       "      <td>17.0</td>\n",
       "      <td>0.72</td>\n",
       "      <td>1.24</td>\n",
       "      <td>0.00</td>\n",
       "      <td>0.17</td>\n",
       "      <td>0.25</td>\n",
       "      <td>0.58</td>\n",
       "      <td>4.67</td>\n",
       "    </tr>\n",
       "    <tr>\n",
       "      <th>0.500</th>\n",
       "      <td>17.0</td>\n",
       "      <td>0.64</td>\n",
       "      <td>1.11</td>\n",
       "      <td>0.00</td>\n",
       "      <td>0.10</td>\n",
       "      <td>0.23</td>\n",
       "      <td>0.50</td>\n",
       "      <td>4.24</td>\n",
       "    </tr>\n",
       "    <tr>\n",
       "      <th>0.900</th>\n",
       "      <td>17.0</td>\n",
       "      <td>0.60</td>\n",
       "      <td>1.04</td>\n",
       "      <td>0.00</td>\n",
       "      <td>0.10</td>\n",
       "      <td>0.20</td>\n",
       "      <td>0.47</td>\n",
       "      <td>4.03</td>\n",
       "    </tr>\n",
       "  </tbody>\n",
       "</table>\n",
       "</div>"
      ],
      "text/plain": [
       "               count  mean   std   min   25%   50%   75%    max\n",
       "nn      th                                                     \n",
       "ICANN   0.100   17.0  1.78  2.48  0.00  0.34  0.70  1.54   7.73\n",
       "        0.250   17.0  1.45  2.10  0.00  0.09  0.55  1.24   6.46\n",
       "        0.500   17.0  1.17  1.69  0.00  0.07  0.46  1.07   5.24\n",
       "        0.900   17.0  0.87  1.33  0.00  0.03  0.34  0.70   4.12\n",
       "NONE    0.100   17.0  2.38  2.83  0.05  0.37  1.66  3.46  11.40\n",
       "        0.250   17.0  2.19  2.58  0.05  0.35  1.52  3.04  10.31\n",
       "        0.500   17.0  1.87  2.07  0.00  0.29  1.39  2.64   8.23\n",
       "        0.900   17.0  1.45  1.60  0.00  0.17  1.17  1.80   6.34\n",
       "PRIVATE 0.100   17.0  3.66  4.08  0.05  0.76  2.44  4.72  15.88\n",
       "        0.250   17.0  2.98  2.99  0.05  0.64  2.17  4.21  11.76\n",
       "        0.500   17.0  2.55  2.53  0.05  0.44  1.97  3.76   9.77\n",
       "        0.900   17.0  1.80  1.67  0.00  0.26  1.62  2.87   5.89\n",
       "TLD     0.100   17.0  0.85  1.33  0.00  0.21  0.30  0.74   5.05\n",
       "        0.250   17.0  0.72  1.24  0.00  0.17  0.25  0.58   4.67\n",
       "        0.500   17.0  0.64  1.11  0.00  0.10  0.23  0.50   4.24\n",
       "        0.900   17.0  0.60  1.04  0.00  0.10  0.20  0.47   4.03"
      ]
     },
     "metadata": {},
     "output_type": "display_data"
    }
   ],
   "source": [
    "from IPython.display import display, Markdown, Latex\n",
    "\n",
    "display(Markdown(\"# fp_rate_min\"))\n",
    "\n",
    "display(tmp.groupby(['nn', 'th']).describe().round(2).xs('fp_rate_min', level=0, axis=1))"
   ]
  },
  {
   "cell_type": "code",
   "execution_count": null,
   "metadata": {},
   "outputs": [
    {
     "data": {
      "text/markdown": [
       "# u_fp_rate_min"
      ],
      "text/plain": [
       "<IPython.core.display.Markdown object>"
      ]
     },
     "metadata": {},
     "output_type": "display_data"
    },
    {
     "data": {
      "text/html": [
       "<div>\n",
       "<style scoped>\n",
       "    .dataframe tbody tr th:only-of-type {\n",
       "        vertical-align: middle;\n",
       "    }\n",
       "\n",
       "    .dataframe tbody tr th {\n",
       "        vertical-align: top;\n",
       "    }\n",
       "\n",
       "    .dataframe thead th {\n",
       "        text-align: right;\n",
       "    }\n",
       "</style>\n",
       "<table border=\"1\" class=\"dataframe\">\n",
       "  <thead>\n",
       "    <tr style=\"text-align: right;\">\n",
       "      <th></th>\n",
       "      <th></th>\n",
       "      <th>count</th>\n",
       "      <th>mean</th>\n",
       "      <th>std</th>\n",
       "      <th>min</th>\n",
       "      <th>25%</th>\n",
       "      <th>50%</th>\n",
       "      <th>75%</th>\n",
       "      <th>max</th>\n",
       "    </tr>\n",
       "    <tr>\n",
       "      <th>nn</th>\n",
       "      <th>th</th>\n",
       "      <th></th>\n",
       "      <th></th>\n",
       "      <th></th>\n",
       "      <th></th>\n",
       "      <th></th>\n",
       "      <th></th>\n",
       "      <th></th>\n",
       "      <th></th>\n",
       "    </tr>\n",
       "  </thead>\n",
       "  <tbody>\n",
       "    <tr>\n",
       "      <th rowspan=\"4\" valign=\"top\">ICANN</th>\n",
       "      <th>0.100</th>\n",
       "      <td>17.0</td>\n",
       "      <td>0.81</td>\n",
       "      <td>1.13</td>\n",
       "      <td>0.00</td>\n",
       "      <td>0.09</td>\n",
       "      <td>0.36</td>\n",
       "      <td>0.66</td>\n",
       "      <td>3.57</td>\n",
       "    </tr>\n",
       "    <tr>\n",
       "      <th>0.250</th>\n",
       "      <td>17.0</td>\n",
       "      <td>0.66</td>\n",
       "      <td>0.95</td>\n",
       "      <td>0.00</td>\n",
       "      <td>0.07</td>\n",
       "      <td>0.30</td>\n",
       "      <td>0.53</td>\n",
       "      <td>2.98</td>\n",
       "    </tr>\n",
       "    <tr>\n",
       "      <th>0.500</th>\n",
       "      <td>17.0</td>\n",
       "      <td>0.53</td>\n",
       "      <td>0.77</td>\n",
       "      <td>0.00</td>\n",
       "      <td>0.06</td>\n",
       "      <td>0.23</td>\n",
       "      <td>0.45</td>\n",
       "      <td>2.32</td>\n",
       "    </tr>\n",
       "    <tr>\n",
       "      <th>0.900</th>\n",
       "      <td>17.0</td>\n",
       "      <td>0.40</td>\n",
       "      <td>0.60</td>\n",
       "      <td>0.00</td>\n",
       "      <td>0.02</td>\n",
       "      <td>0.16</td>\n",
       "      <td>0.30</td>\n",
       "      <td>1.80</td>\n",
       "    </tr>\n",
       "    <tr>\n",
       "      <th rowspan=\"4\" valign=\"top\">NONE</th>\n",
       "      <th>0.100</th>\n",
       "      <td>17.0</td>\n",
       "      <td>1.06</td>\n",
       "      <td>1.31</td>\n",
       "      <td>0.03</td>\n",
       "      <td>0.17</td>\n",
       "      <td>0.68</td>\n",
       "      <td>1.47</td>\n",
       "      <td>5.27</td>\n",
       "    </tr>\n",
       "    <tr>\n",
       "      <th>0.250</th>\n",
       "      <td>17.0</td>\n",
       "      <td>0.98</td>\n",
       "      <td>1.19</td>\n",
       "      <td>0.03</td>\n",
       "      <td>0.17</td>\n",
       "      <td>0.62</td>\n",
       "      <td>1.29</td>\n",
       "      <td>4.76</td>\n",
       "    </tr>\n",
       "    <tr>\n",
       "      <th>0.500</th>\n",
       "      <td>17.0</td>\n",
       "      <td>0.83</td>\n",
       "      <td>0.96</td>\n",
       "      <td>0.00</td>\n",
       "      <td>0.16</td>\n",
       "      <td>0.57</td>\n",
       "      <td>1.12</td>\n",
       "      <td>3.80</td>\n",
       "    </tr>\n",
       "    <tr>\n",
       "      <th>0.900</th>\n",
       "      <td>17.0</td>\n",
       "      <td>0.64</td>\n",
       "      <td>0.74</td>\n",
       "      <td>0.00</td>\n",
       "      <td>0.13</td>\n",
       "      <td>0.48</td>\n",
       "      <td>0.84</td>\n",
       "      <td>2.93</td>\n",
       "    </tr>\n",
       "    <tr>\n",
       "      <th rowspan=\"4\" valign=\"top\">PRIVATE</th>\n",
       "      <th>0.100</th>\n",
       "      <td>17.0</td>\n",
       "      <td>1.64</td>\n",
       "      <td>1.89</td>\n",
       "      <td>0.05</td>\n",
       "      <td>0.44</td>\n",
       "      <td>1.00</td>\n",
       "      <td>2.04</td>\n",
       "      <td>7.34</td>\n",
       "    </tr>\n",
       "    <tr>\n",
       "      <th>0.250</th>\n",
       "      <td>17.0</td>\n",
       "      <td>1.33</td>\n",
       "      <td>1.38</td>\n",
       "      <td>0.05</td>\n",
       "      <td>0.39</td>\n",
       "      <td>0.89</td>\n",
       "      <td>1.82</td>\n",
       "      <td>5.43</td>\n",
       "    </tr>\n",
       "    <tr>\n",
       "      <th>0.500</th>\n",
       "      <td>17.0</td>\n",
       "      <td>1.13</td>\n",
       "      <td>1.17</td>\n",
       "      <td>0.05</td>\n",
       "      <td>0.20</td>\n",
       "      <td>0.80</td>\n",
       "      <td>1.62</td>\n",
       "      <td>4.51</td>\n",
       "    </tr>\n",
       "    <tr>\n",
       "      <th>0.900</th>\n",
       "      <td>17.0</td>\n",
       "      <td>0.79</td>\n",
       "      <td>0.77</td>\n",
       "      <td>0.00</td>\n",
       "      <td>0.08</td>\n",
       "      <td>0.66</td>\n",
       "      <td>1.24</td>\n",
       "      <td>2.72</td>\n",
       "    </tr>\n",
       "    <tr>\n",
       "      <th rowspan=\"4\" valign=\"top\">TLD</th>\n",
       "      <th>0.100</th>\n",
       "      <td>17.0</td>\n",
       "      <td>0.38</td>\n",
       "      <td>0.62</td>\n",
       "      <td>0.00</td>\n",
       "      <td>0.08</td>\n",
       "      <td>0.15</td>\n",
       "      <td>0.32</td>\n",
       "      <td>2.33</td>\n",
       "    </tr>\n",
       "    <tr>\n",
       "      <th>0.250</th>\n",
       "      <td>17.0</td>\n",
       "      <td>0.33</td>\n",
       "      <td>0.58</td>\n",
       "      <td>0.00</td>\n",
       "      <td>0.06</td>\n",
       "      <td>0.10</td>\n",
       "      <td>0.25</td>\n",
       "      <td>2.16</td>\n",
       "    </tr>\n",
       "    <tr>\n",
       "      <th>0.500</th>\n",
       "      <td>17.0</td>\n",
       "      <td>0.29</td>\n",
       "      <td>0.51</td>\n",
       "      <td>0.00</td>\n",
       "      <td>0.06</td>\n",
       "      <td>0.09</td>\n",
       "      <td>0.22</td>\n",
       "      <td>1.96</td>\n",
       "    </tr>\n",
       "    <tr>\n",
       "      <th>0.900</th>\n",
       "      <td>17.0</td>\n",
       "      <td>0.27</td>\n",
       "      <td>0.48</td>\n",
       "      <td>0.00</td>\n",
       "      <td>0.04</td>\n",
       "      <td>0.09</td>\n",
       "      <td>0.20</td>\n",
       "      <td>1.86</td>\n",
       "    </tr>\n",
       "  </tbody>\n",
       "</table>\n",
       "</div>"
      ],
      "text/plain": [
       "               count  mean   std   min   25%   50%   75%   max\n",
       "nn      th                                                    \n",
       "ICANN   0.100   17.0  0.81  1.13  0.00  0.09  0.36  0.66  3.57\n",
       "        0.250   17.0  0.66  0.95  0.00  0.07  0.30  0.53  2.98\n",
       "        0.500   17.0  0.53  0.77  0.00  0.06  0.23  0.45  2.32\n",
       "        0.900   17.0  0.40  0.60  0.00  0.02  0.16  0.30  1.80\n",
       "NONE    0.100   17.0  1.06  1.31  0.03  0.17  0.68  1.47  5.27\n",
       "        0.250   17.0  0.98  1.19  0.03  0.17  0.62  1.29  4.76\n",
       "        0.500   17.0  0.83  0.96  0.00  0.16  0.57  1.12  3.80\n",
       "        0.900   17.0  0.64  0.74  0.00  0.13  0.48  0.84  2.93\n",
       "PRIVATE 0.100   17.0  1.64  1.89  0.05  0.44  1.00  2.04  7.34\n",
       "        0.250   17.0  1.33  1.38  0.05  0.39  0.89  1.82  5.43\n",
       "        0.500   17.0  1.13  1.17  0.05  0.20  0.80  1.62  4.51\n",
       "        0.900   17.0  0.79  0.77  0.00  0.08  0.66  1.24  2.72\n",
       "TLD     0.100   17.0  0.38  0.62  0.00  0.08  0.15  0.32  2.33\n",
       "        0.250   17.0  0.33  0.58  0.00  0.06  0.10  0.25  2.16\n",
       "        0.500   17.0  0.29  0.51  0.00  0.06  0.09  0.22  1.96\n",
       "        0.900   17.0  0.27  0.48  0.00  0.04  0.09  0.20  1.86"
      ]
     },
     "metadata": {},
     "output_type": "display_data"
    }
   ],
   "source": [
    "from IPython.display import display, Markdown, Latex\n",
    "\n",
    "display(Markdown(\"# u_fp_rate_min\"))\n",
    "\n",
    "display(tmp.groupby(['nn', 'th']).describe().round(2).xs('u_fp_rate_min', level=0, axis=1))"
   ]
  },
  {
   "cell_type": "code",
   "execution_count": null,
   "metadata": {},
   "outputs": [],
   "source": [
    "from IPython.display import display, Markdown, Latex\n",
    "\n",
    "display(Markdown(\"# u_fp_rate_min\"))\n",
    "\n",
    "display(tmp.groupby(['nn', 'th']).describe().round(2).xs('u_fp_rate_min', level=0, axis=1))"
   ]
  },
  {
   "cell_type": "code",
   "execution_count": null,
   "metadata": {},
   "outputs": [
    {
     "name": "stdout",
     "output_type": "stream",
     "text": [
      "31.5\n"
     ]
    },
    {
     "data": {
      "text/markdown": [
       "# Grouping by sources and NN"
      ],
      "text/plain": [
       "<IPython.core.display.Markdown object>"
      ]
     },
     "metadata": {},
     "output_type": "display_data"
    },
    {
     "data": {
      "text/markdown": [
       "## FP"
      ],
      "text/plain": [
       "<IPython.core.display.Markdown object>"
      ]
     },
     "metadata": {},
     "output_type": "display_data"
    },
    {
     "data": {
      "text/html": [
       "<div>\n",
       "<style scoped>\n",
       "    .dataframe tbody tr th:only-of-type {\n",
       "        vertical-align: middle;\n",
       "    }\n",
       "\n",
       "    .dataframe tbody tr th {\n",
       "        vertical-align: top;\n",
       "    }\n",
       "\n",
       "    .dataframe thead th {\n",
       "        text-align: right;\n",
       "    }\n",
       "</style>\n",
       "<table border=\"1\" class=\"dataframe\">\n",
       "  <thead>\n",
       "    <tr style=\"text-align: right;\">\n",
       "      <th></th>\n",
       "      <th>count</th>\n",
       "      <th>mean</th>\n",
       "      <th>std</th>\n",
       "      <th>min</th>\n",
       "      <th>25%</th>\n",
       "      <th>50%</th>\n",
       "      <th>75%</th>\n",
       "      <th>max</th>\n",
       "    </tr>\n",
       "    <tr>\n",
       "      <th>th</th>\n",
       "      <th></th>\n",
       "      <th></th>\n",
       "      <th></th>\n",
       "      <th></th>\n",
       "      <th></th>\n",
       "      <th></th>\n",
       "      <th></th>\n",
       "      <th></th>\n",
       "    </tr>\n",
       "  </thead>\n",
       "  <tbody>\n",
       "    <tr>\n",
       "      <th>0.100</th>\n",
       "      <td>68.0</td>\n",
       "      <td>233.88</td>\n",
       "      <td>327.62</td>\n",
       "      <td>0.0</td>\n",
       "      <td>32.75</td>\n",
       "      <td>91.5</td>\n",
       "      <td>268.25</td>\n",
       "      <td>1496.0</td>\n",
       "    </tr>\n",
       "    <tr>\n",
       "      <th>0.250</th>\n",
       "      <td>68.0</td>\n",
       "      <td>201.43</td>\n",
       "      <td>283.32</td>\n",
       "      <td>0.0</td>\n",
       "      <td>23.50</td>\n",
       "      <td>76.5</td>\n",
       "      <td>229.00</td>\n",
       "      <td>1288.0</td>\n",
       "    </tr>\n",
       "    <tr>\n",
       "      <th>0.500</th>\n",
       "      <td>68.0</td>\n",
       "      <td>174.76</td>\n",
       "      <td>248.25</td>\n",
       "      <td>0.0</td>\n",
       "      <td>20.25</td>\n",
       "      <td>60.0</td>\n",
       "      <td>204.25</td>\n",
       "      <td>1159.0</td>\n",
       "    </tr>\n",
       "    <tr>\n",
       "      <th>0.900</th>\n",
       "      <td>68.0</td>\n",
       "      <td>135.93</td>\n",
       "      <td>195.48</td>\n",
       "      <td>0.0</td>\n",
       "      <td>13.50</td>\n",
       "      <td>48.5</td>\n",
       "      <td>148.00</td>\n",
       "      <td>968.0</td>\n",
       "    </tr>\n",
       "  </tbody>\n",
       "</table>\n",
       "</div>"
      ],
      "text/plain": [
       "       count    mean     std  min    25%   50%     75%     max\n",
       "th                                                            \n",
       "0.100   68.0  233.88  327.62  0.0  32.75  91.5  268.25  1496.0\n",
       "0.250   68.0  201.43  283.32  0.0  23.50  76.5  229.00  1288.0\n",
       "0.500   68.0  174.76  248.25  0.0  20.25  60.0  204.25  1159.0\n",
       "0.900   68.0  135.93  195.48  0.0  13.50  48.5  148.00   968.0"
      ]
     },
     "metadata": {},
     "output_type": "display_data"
    },
    {
     "data": {
      "text/markdown": [
       "## fp_rate_min"
      ],
      "text/plain": [
       "<IPython.core.display.Markdown object>"
      ]
     },
     "metadata": {},
     "output_type": "display_data"
    },
    {
     "data": {
      "text/html": [
       "<div>\n",
       "<style scoped>\n",
       "    .dataframe tbody tr th:only-of-type {\n",
       "        vertical-align: middle;\n",
       "    }\n",
       "\n",
       "    .dataframe tbody tr th {\n",
       "        vertical-align: top;\n",
       "    }\n",
       "\n",
       "    .dataframe thead th {\n",
       "        text-align: right;\n",
       "    }\n",
       "</style>\n",
       "<table border=\"1\" class=\"dataframe\">\n",
       "  <thead>\n",
       "    <tr style=\"text-align: right;\">\n",
       "      <th></th>\n",
       "      <th>count</th>\n",
       "      <th>mean</th>\n",
       "      <th>std</th>\n",
       "      <th>min</th>\n",
       "      <th>25%</th>\n",
       "      <th>50%</th>\n",
       "      <th>75%</th>\n",
       "      <th>max</th>\n",
       "    </tr>\n",
       "    <tr>\n",
       "      <th>th</th>\n",
       "      <th></th>\n",
       "      <th></th>\n",
       "      <th></th>\n",
       "      <th></th>\n",
       "      <th></th>\n",
       "      <th></th>\n",
       "      <th></th>\n",
       "      <th></th>\n",
       "    </tr>\n",
       "  </thead>\n",
       "  <tbody>\n",
       "    <tr>\n",
       "      <th>0.100</th>\n",
       "      <td>68.0</td>\n",
       "      <td>2.17</td>\n",
       "      <td>2.97</td>\n",
       "      <td>0.0</td>\n",
       "      <td>0.29</td>\n",
       "      <td>0.81</td>\n",
       "      <td>3.25</td>\n",
       "      <td>15.88</td>\n",
       "    </tr>\n",
       "    <tr>\n",
       "      <th>0.250</th>\n",
       "      <td>68.0</td>\n",
       "      <td>1.84</td>\n",
       "      <td>2.42</td>\n",
       "      <td>0.0</td>\n",
       "      <td>0.22</td>\n",
       "      <td>0.65</td>\n",
       "      <td>2.88</td>\n",
       "      <td>11.76</td>\n",
       "    </tr>\n",
       "    <tr>\n",
       "      <th>0.500</th>\n",
       "      <td>68.0</td>\n",
       "      <td>1.56</td>\n",
       "      <td>2.02</td>\n",
       "      <td>0.0</td>\n",
       "      <td>0.21</td>\n",
       "      <td>0.55</td>\n",
       "      <td>2.57</td>\n",
       "      <td>9.77</td>\n",
       "    </tr>\n",
       "    <tr>\n",
       "      <th>0.900</th>\n",
       "      <td>68.0</td>\n",
       "      <td>1.18</td>\n",
       "      <td>1.48</td>\n",
       "      <td>0.0</td>\n",
       "      <td>0.15</td>\n",
       "      <td>0.45</td>\n",
       "      <td>1.90</td>\n",
       "      <td>6.34</td>\n",
       "    </tr>\n",
       "  </tbody>\n",
       "</table>\n",
       "</div>"
      ],
      "text/plain": [
       "       count  mean   std  min   25%   50%   75%    max\n",
       "th                                                    \n",
       "0.100   68.0  2.17  2.97  0.0  0.29  0.81  3.25  15.88\n",
       "0.250   68.0  1.84  2.42  0.0  0.22  0.65  2.88  11.76\n",
       "0.500   68.0  1.56  2.02  0.0  0.21  0.55  2.57   9.77\n",
       "0.900   68.0  1.18  1.48  0.0  0.15  0.45  1.90   6.34"
      ]
     },
     "metadata": {},
     "output_type": "display_data"
    },
    {
     "data": {
      "text/markdown": [
       "## u_fp_rate_min"
      ],
      "text/plain": [
       "<IPython.core.display.Markdown object>"
      ]
     },
     "metadata": {},
     "output_type": "display_data"
    },
    {
     "data": {
      "text/html": [
       "<div>\n",
       "<style scoped>\n",
       "    .dataframe tbody tr th:only-of-type {\n",
       "        vertical-align: middle;\n",
       "    }\n",
       "\n",
       "    .dataframe tbody tr th {\n",
       "        vertical-align: top;\n",
       "    }\n",
       "\n",
       "    .dataframe thead th {\n",
       "        text-align: right;\n",
       "    }\n",
       "</style>\n",
       "<table border=\"1\" class=\"dataframe\">\n",
       "  <thead>\n",
       "    <tr style=\"text-align: right;\">\n",
       "      <th></th>\n",
       "      <th>count</th>\n",
       "      <th>mean</th>\n",
       "      <th>std</th>\n",
       "      <th>min</th>\n",
       "      <th>25%</th>\n",
       "      <th>50%</th>\n",
       "      <th>75%</th>\n",
       "      <th>max</th>\n",
       "    </tr>\n",
       "    <tr>\n",
       "      <th>th</th>\n",
       "      <th></th>\n",
       "      <th></th>\n",
       "      <th></th>\n",
       "      <th></th>\n",
       "      <th></th>\n",
       "      <th></th>\n",
       "      <th></th>\n",
       "      <th></th>\n",
       "    </tr>\n",
       "  </thead>\n",
       "  <tbody>\n",
       "    <tr>\n",
       "      <th>0.100</th>\n",
       "      <td>68.0</td>\n",
       "      <td>0.97</td>\n",
       "      <td>1.37</td>\n",
       "      <td>0.0</td>\n",
       "      <td>0.11</td>\n",
       "      <td>0.38</td>\n",
       "      <td>1.43</td>\n",
       "      <td>7.34</td>\n",
       "    </tr>\n",
       "    <tr>\n",
       "      <th>0.250</th>\n",
       "      <td>68.0</td>\n",
       "      <td>0.82</td>\n",
       "      <td>1.11</td>\n",
       "      <td>0.0</td>\n",
       "      <td>0.10</td>\n",
       "      <td>0.30</td>\n",
       "      <td>1.25</td>\n",
       "      <td>5.43</td>\n",
       "    </tr>\n",
       "    <tr>\n",
       "      <th>0.500</th>\n",
       "      <td>68.0</td>\n",
       "      <td>0.70</td>\n",
       "      <td>0.92</td>\n",
       "      <td>0.0</td>\n",
       "      <td>0.09</td>\n",
       "      <td>0.24</td>\n",
       "      <td>1.12</td>\n",
       "      <td>4.51</td>\n",
       "    </tr>\n",
       "    <tr>\n",
       "      <th>0.900</th>\n",
       "      <td>68.0</td>\n",
       "      <td>0.53</td>\n",
       "      <td>0.67</td>\n",
       "      <td>0.0</td>\n",
       "      <td>0.07</td>\n",
       "      <td>0.17</td>\n",
       "      <td>0.86</td>\n",
       "      <td>2.93</td>\n",
       "    </tr>\n",
       "  </tbody>\n",
       "</table>\n",
       "</div>"
      ],
      "text/plain": [
       "       count  mean   std  min   25%   50%   75%   max\n",
       "th                                                   \n",
       "0.100   68.0  0.97  1.37  0.0  0.11  0.38  1.43  7.34\n",
       "0.250   68.0  0.82  1.11  0.0  0.10  0.30  1.25  5.43\n",
       "0.500   68.0  0.70  0.92  0.0  0.09  0.24  1.12  4.51\n",
       "0.900   68.0  0.53  0.67  0.0  0.07  0.17  0.86  2.93"
      ]
     },
     "metadata": {},
     "output_type": "display_data"
    }
   ],
   "source": [
    "from IPython.display import display, Markdown, Latex\n",
    "\n",
    "df_na_th = df_normal_approach.reset_index(level=[1,2], names=['id','nn','th'])\n",
    "\n",
    "ei = df_na_th[df_na_th['th'] == '0.100'][\"fp\"].sort_values()\n",
    "print( ei.iloc[int(ei.shape[0] * 0.25)] / 2+ ei.iloc[int(ei.shape[0] * 0.25)-1] / 2)\n",
    "\n",
    "display(Markdown(\"# Grouping by sources and NN\"))\n",
    "display(Markdown(\"## FP\"))\n",
    "display(df_na_th.groupby(['th']).describe().round(2).xs('fp', level=0, axis=1))\n",
    "display(Markdown(\"## fp_rate_min\"))\n",
    "display(df_na_th.groupby(['th']).describe().round(2).xs('fp_rate_min', level=0, axis=1))\n",
    "display(Markdown(\"## u_fp_rate_min\"))\n",
    "display(df_na_th.groupby(['th']).describe().round(2).xs('u_fp_rate_min', level=0, axis=1))"
   ]
  }
 ],
 "metadata": {
  "kernelspec": {
   "display_name": "scikitlearn",
   "language": "python",
   "name": "python3"
  },
  "language_info": {
   "codemirror_mode": {
    "name": "ipython",
    "version": 3
   },
   "file_extension": ".py",
   "mimetype": "text/x-python",
   "name": "python",
   "nbconvert_exporter": "python",
   "pygments_lexer": "ipython3",
   "version": "3.12.0"
  }
 },
 "nbformat": 4,
 "nbformat_minor": 2
}
