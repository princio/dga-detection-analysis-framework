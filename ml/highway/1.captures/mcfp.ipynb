{
 "cells": [
  {
   "cell_type": "code",
   "execution_count": 1,
   "metadata": {},
   "outputs": [],
   "source": [
    "import pandas as pd\n",
    "from db import Database\n",
    "from matplotlib import pyplot as plt\n",
    "%matplotlib inline\n",
    "from matplotlib_inline.backend_inline import set_matplotlib_formats\n",
    "set_matplotlib_formats('svg')\n",
    "import matplotlib.colors as mpcolors\n",
    "import numpy as np\n",
    "from IPython.display import Latex\n",
    "\n",
    "db = Database()\n",
    "\n",
    "plt.rcParams.update({\n",
    "    \"text.usetex\": True,\n",
    "    \"font.family\": \"lmodern\"\n",
    "})"
   ]
  },
  {
   "cell_type": "code",
   "execution_count": 16,
   "metadata": {},
   "outputs": [
    {
     "name": "stdout",
     "output_type": "stream",
     "text": [
      "\\begin{tabular}{lll}\n",
      "\\toprule\n",
      "mw_name & pcap_name & folder \\\\\n",
      "\\midrule\n",
      "caphaw & 69_2014-04-07_capture-win17.pcap & CTU-Malware-Capture-Botnet-69 \\\\\n",
      "unknown & 71_2014-04-07_capture-win19.fixed.pcap & CTU-Malware-Capture-Botnet-71 \\\\\n",
      "zbot & 25-6_2014-12-20_capture-win3.pcap & CTU-Malware-Capture-Botnet-25-6 \\\\\n",
      "simda & 7_2013-08-20_capture-win1.pcap & CTU-Malware-Capture-Botnet-7 \\\\\n",
      "\\bottomrule\n",
      "\\end{tabular}\n",
      "\n"
     ]
    }
   ],
   "source": [
    "\n",
    "import json\n",
    "\n",
    "\n",
    "botnets = [ 54, 46, 58, 57 ]\n",
    "\n",
    "df = pd.read_sql(\"\"\"\n",
    "SELECT * FROM pcapmw WHERE pcap_id = ANY('{%s}')\n",
    "\"\"\" % ','.join([ str(b) for b in botnets]), db.engine)\n",
    "\n",
    "df['folder'] = df['mcfp_info_json'].apply(lambda x: x['folder'])\n",
    "\n",
    "print(df[['mw_name','pcap_name','folder']].to_latex(index=False))"
   ]
  }
 ],
 "metadata": {
  "kernelspec": {
   "display_name": "venv",
   "language": "python",
   "name": "python3"
  },
  "language_info": {
   "codemirror_mode": {
    "name": "ipython",
    "version": 3
   },
   "file_extension": ".py",
   "mimetype": "text/x-python",
   "name": "python",
   "nbconvert_exporter": "python",
   "pygments_lexer": "ipython3",
   "version": "3.12.4"
  }
 },
 "nbformat": 4,
 "nbformat_minor": 2
}
