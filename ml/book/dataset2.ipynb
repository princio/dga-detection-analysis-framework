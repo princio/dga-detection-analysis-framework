{
 "cells": [
  {
   "cell_type": "code",
   "execution_count": 1,
   "metadata": {
    "editable": true,
    "slideshow": {
     "slide_type": ""
    },
    "tags": [
     "hide-input"
    ]
   },
   "outputs": [],
   "source": [
    "from math import floor\n",
    "import math\n",
    "import pandas as pd\n",
    "from sklearn.ensemble import RandomForestClassifier\n",
    "from sklearn.svm import OneClassSVM\n",
    "from sklearn.metrics import confusion_matrix, classification_report, make_scorer\n",
    "from sklearn.model_selection import train_test_split, StratifiedKFold, cross_val_predict\n",
    "import numpy as np\n",
    "import common # type: ignore\n",
    "from sklearn.feature_selection import VarianceThreshold\n",
    "from mlxtend.feature_selection import SequentialFeatureSelector\n",
    "from IPython.display import display, Markdown, Latex, HTML\n",
    "import matplotlib.pyplot as plt\n",
    "from sqlalchemy import create_engine, text\n",
    "import quantiphy as qq\n",
    "import warnings\n",
    "import enum\n",
    "import os\n",
    "import importlib\n",
    "import latex\n",
    "from latex import dm, pp, ptime, Cites, AC\n",
    "from latex import Tables, Table, Figure, Figures\n",
    "from latex import is_latex, set_latex, unset_latex\n",
    "\n",
    "EPS_TH = 0.5\n",
    "DATASET = \"CTU-13\"\n",
    "database = common.Database()\n",
    "dataset = common.Dataset()\n",
    "\n",
    "slots = {}\n"
   ]
  },
  {
   "cell_type": "code",
   "execution_count": 2,
   "metadata": {},
   "outputs": [],
   "source": [
    "slots[1] = common.Slot(database, 1 * 60 * 60, EPS_TH, DATASET)\n",
    "slots[12] = common.Slot(database, 12 * 60 * 60, EPS_TH, DATASET)\n",
    "slots[24] = common.Slot(database, 24 * 60 * 60, EPS_TH, DATASET)\n",
    "slots[4 * 24] = common.Slot(database, 4 * 24 * 60 * 60, EPS_TH, DATASET)\n",
    "slots[7 * 24] = common.Slot(database, 7 * 24 * 60 * 60, EPS_TH, DATASET)"
   ]
  },
  {
   "cell_type": "code",
   "execution_count": 7,
   "metadata": {},
   "outputs": [],
   "source": [
    "import os\n",
    "import importlib\n",
    "import latex\n",
    "importlib.reload(latex)\n",
    "\n",
    "from latex import dm, pp, ptime, Cites, AC\n",
    "from latex import Tables, Table, Figure, Figures\n",
    "from latex import is_latex, set_latex, unset_latex"
   ]
  },
  {
   "cell_type": "code",
   "execution_count": 4,
   "metadata": {},
   "outputs": [
    {
     "data": {
      "text/markdown": [
       "\n",
       "\n",
       "## Time slot analysis\n",
       "\n",
       "We want to analyse the number of requests in a time window, here called _slot_,\n",
       "during the evolution of all captures. To achieve this, since that the captures\n",
       "start in different times, we need to set the starting time of each capture at\n",
       "the same time. To obtain this, in the Packet-table, we translate all the\n",
       "timestamps in such a way that the first packet timestamp of each capture is 0 s.\n",
       "\n",
       "\n",
       "### Distribution of slots\n",
       "\n",
       "#### Notation\n",
       "\n",
       "We indicate with $t^s_k$ the timestamp of the $k$-th slot:\n",
       "\n",
       "$$t^s_k = \\bar{s} * k$$\n",
       "\n",
       "where $s$ is the time slot size.\n",
       "\n",
       "With $q^s_{k}$ we indicate the number of requests belonging to the $k$-th slot,\n",
       "i.e. performed between\n",
       "$t^s_{k-1}$ and $t^s_{k}$,\n",
       "with ($t^s_{-1} = 0$).\n",
       "\n",
       "Finally, with $N^s = \\lceil t^{max} / s \\rceil$ we indicate the total number of slots.\n",
       "\n"
      ],
      "text/plain": [
       "<IPython.core.display.Markdown object>"
      ]
     },
     "metadata": {},
     "output_type": "display_data"
    }
   ],
   "source": [
    "\n",
    "dm(f\"\"\"\n",
    "\n",
    "## Time slot analysis\n",
    "\n",
    "We want to analyse the number of requests in a time window, here called _slot_,\n",
    "during the evolution of all captures. To achieve this, since that the captures\n",
    "start in different times, we need to set the starting time of each capture at\n",
    "the same time. To obtain this, in the Packet-table, we translate all the\n",
    "timestamps in such a way that the first packet timestamp of each capture is 0 s.\n",
    "\n",
    "\n",
    "### Distribution of slots\n",
    "\n",
    "#### Notation\n",
    "\n",
    "We indicate with $t^s_k$ the timestamp of the $k$-th slot:\n",
    "\n",
    "$$t^s_k = \\\\bar{{s}} * k$$\n",
    "\n",
    "where $s$ is the time slot size.\n",
    "\n",
    "With $q^s_{{k}}$ we indicate the number of requests belonging to the $k$-th slot,\n",
    "i.e. performed between\n",
    "$t^s_{{k-1}}$ and $t^s_{{k}}$,\n",
    "with ($t^s_{{-1}} = 0$).\n",
    "\n",
    "Finally, with $N^s = \\\\lceil t^{{max}} / s \\\\rceil$ we indicate the total number of slots.\n",
    "\n",
    "\"\"\")"
   ]
  },
  {
   "cell_type": "code",
   "execution_count": 5,
   "metadata": {},
   "outputs": [],
   "source": [
    "time_translation = database.conn.execute(text(f\"\"\"\n",
    "    SELECT MAX(M.TIME_S) TIME_S,  MAX(M.TIME_S_TRANSLATED) TIME_S_TRANSLATED\n",
    "    FROM MESSAGE M JOIN PCAP ON M.PCAP_ID = PCAP.ID\n",
    "    WHERE PCAP.DATASET = '{DATASET}'\n",
    "\"\"\")).all()[0]._mapping"
   ]
  },
  {
   "cell_type": "code",
   "execution_count": 6,
   "metadata": {},
   "outputs": [],
   "source": [
    "q_per_slot = slot.groupsum(\"q\", use_timestamps=True)\n",
    "\n",
    "slot_max = q_per_slot.shape[0]\n",
    "slot_median = int(slot_max / 4)\n",
    "q_tot = q_per_slot.sum()\n",
    "\n",
    "q_left50 = q_per_slot.cumsum().iloc[slot_median]\n",
    "q_right50 = q_per_slot.sum() - q_left50\n",
    "\n",
    "q_per_slot_cumperc = 100 * q_per_slot.cumsum() / q_tot\n",
    "q_left50_perc = 100 * q_left50 / q_tot\n",
    "q_right50_perc = 100 * q_right50 / q_tot"
   ]
  },
  {
   "cell_type": "code",
   "execution_count": 7,
   "metadata": {},
   "outputs": [],
   "source": [
    "# tab_slot_distribution_cum_perc = Table(\n",
    "#     slot_distribution_cum_perc_desc.map(lambda x: qq.Quantity(x).render(prec=2)).to_frame().T,\n",
    "#     Tables.SLOTS,\n",
    "#     f\"Distribution of the slots through time.\"\n",
    "# )\n",
    "\n",
    "fig = plt.figure(figsize=(8,3))\n",
    "ax = fig.add_subplot(1, 1, 1)\n",
    "\n",
    "# q_per_slot_cumperc.plot(fig=fig)\n",
    "ax.set_xlabel(\"$k$\")\n",
    "ax.set_ylabel(\"$\\\\sum^k_{j=0}{\\\\:\\\\frac{q_j}{q_{tot}}}$\", labelpad=16.0, rotation=\"horizontal\", fontsize='x-large')\n",
    "ax.text(slot_median / 2, 50, f\"{q_left50_perc:.2f}%\\n{qq.Quantity(q_left50).render(prec=2)}\")\n",
    "ax.text((slot_max + slot_median) / 2, 50, f\"{q_right50_perc:.2f}%\\n{qq.Quantity(q_right50).render(prec=2)}\")\n",
    "\n",
    "ax.fill_between(np.arange(0, slot_median+1), q_per_slot_cumperc.iloc[0:slot_median+1], alpha=0.4, color=\"blue\")\n",
    "ax.fill_between(np.arange(slot_median, slot_max), q_per_slot_cumperc.iloc[slot_median:slot_max], alpha=0.2, color=\"blue\")\n",
    "ax.axvline(slot_median, color=\"black\", lw=1)\n",
    "\n",
    "slot_ticks = []\n",
    "for col in range(10):\n",
    "    v = math.floor(((slot_max) * (0.1 * col)))\n",
    "    slot_ticks.append(v)\n",
    "slot_ticks.append(slot_max-1)\n",
    "ax.set_xticks(slot_ticks)\n",
    "\n",
    "fig_slot = Figure(fig, ax, Figures.SLOTS,\n",
    "                  \"Percentage of requests made up to slot k.\")\n",
    "fig_slot.ycaption = -.04\n",
    "\n",
    "plt.close()"
   ]
  },
  {
   "cell_type": "code",
   "execution_count": 8,
   "metadata": {},
   "outputs": [],
   "source": [
    "q_slot_pcap = slot.df.copy()\n",
    "q_slot_pcap = q_slot_pcap[[\"q\", \"pcap_id\", \"slotnum\"]].groupby([\"pcap_id\", \"slotnum\"]).sum()\n",
    "q_slot_pcap = q_slot_pcap.unstack().T.fillna(0).reset_index(level=0, drop=True)\n",
    "q_slot_pcap = q_slot_pcap.shift(fill_value=0)\n",
    "last_row = q_slot_pcap.iloc[-1]\n",
    "q_slot_pcap = pd.concat([q_slot_pcap, last_row.to_frame().T], ignore_index=True)\n",
    "\n",
    "fig = plt.figure(figsize=(8,3))\n",
    "ax = fig.add_subplot(1, 1, 1)\n",
    "ax = q_slot_pcap.plot(fig=fig, kind=\"bar\", width=1, stacked=True, logy=False, legend=False, ax=ax)\n",
    "ax.set_xticks(slot_ticks)\n",
    "ax.set_xlabel(\"$k$\")\n",
    "ax.set_ylabel(\"$q^s_k$\", rotation=\"horizontal\", labelpad=16.0, )\n",
    "ax.axvline(slot_median, color=\"black\", linewidth=0.4)\n",
    "\n",
    "fig_slot_pcap = Figure(fig, ax, Figures.SLOTS_PCAP,\n",
    "                       \"Each bar indicates the requests number $q^s_k$ of the $k$-th slot.\\nThe color indicates the capture which produced the requests.\")\n",
    "fig_slot_pcap.ycaption = -0.2\n",
    "\n",
    "plt.close()"
   ]
  },
  {
   "cell_type": "code",
   "execution_count": 9,
   "metadata": {},
   "outputs": [],
   "source": [
    "q_slot_dga = slot.df.copy()\n",
    "q_slot_dga = q_slot_dga[[\"q\", \"dga\", \"slotnum\"]].groupby([\"dga\", \"slotnum\"]).sum()\n",
    "q_slot_dga = q_slot_dga.unstack().T.fillna(0).reset_index(level=0, drop=True)\n",
    "q_slot_dga = q_slot_dga.shift(fill_value=0)\n",
    "last_row = q_slot_dga.iloc[-1]\n",
    "q_slot_dga = pd.concat([q_slot_dga, last_row.to_frame().T], ignore_index=True)\n",
    "\n",
    "\n",
    "fig = plt.figure(figsize=(8,3))\n",
    "ax = fig.add_subplot(1, 1, 1)\n",
    "ax = q_slot_dga.plot(fig=fig, kind=\"bar\", width=1, stacked=True, logy=True , legend=True, ax=ax)\n",
    "ax.set_xticks(slot_ticks)\n",
    "ax.set_xlabel(\"$k$\")\n",
    "ax.set_ylabel(\"$q^s_k$\", rotation=\"horizontal\", labelpad=16.0)\n",
    "ax.legend([\"not-infected\", \"infected\"])\n",
    "ax.axvline(slot_median, color=\"black\", linewidth=0.4)\n",
    "plt.close()\n",
    "\n",
    "fig_slot_dga = Figure(fig, ax, Figures.SLOTS_DGA, \"Each bar indicates the requests number $q^s_k$ of the $k$-th slot.\\nThe color indicates the capture which produced the requests.\")\n",
    "fig_slot_dga.ycaption = -0.2\n"
   ]
  },
  {
   "cell_type": "code",
   "execution_count": 12,
   "metadata": {},
   "outputs": [
    {
     "data": {
      "text/markdown": [
       "\n",
       "#### Analysis\n",
       "\n",
       "We set $s =  12 hr$, obtaining\n",
       "$N^s=142$.\n",
       "\n",
       "In Figure _[slots]_, showing the $q_{s_k}$ distribution, we can\n",
       "can observe that:\n",
       "\n",
       "- The 89.77% (12M) of\n",
       "requests are performed within the first 25% of the slots.\n",
       "\n",
       "- The 10.23% (1.37M)\n",
       "of requests are within the last 75 slots.\n",
       "\n",
       "Furthermore, as we can see in Figure _[slots-dga]_, the _NIC_\n",
       "slots are relegated just to the first slot.\n",
       "\n",
       "\n",
       "#### Conclusion\n",
       "\n",
       "The data set in unbalanced towards the infected class in many ways:\n",
       "\n",
       "- The number of requests.\n",
       "\n",
       "- The capture duration and so the number of slots.\n",
       "\n",
       "- The number of requests per time.\n",
       "\n",
       "> Therefore we decide to ignore the last 75% slots, corresponding to 36 of 144 slots.\n",
       "\n"
      ],
      "text/plain": [
       "<IPython.core.display.Markdown object>"
      ]
     },
     "metadata": {},
     "output_type": "display_data"
    },
    {
     "data": {
      "text/markdown": [
       "![](slots.svg \"Example\")"
      ],
      "text/plain": [
       "<IPython.core.display.Markdown object>"
      ]
     },
     "metadata": {},
     "output_type": "display_data"
    },
    {
     "data": {
      "text/markdown": [
       "![](slots-pcap.svg \"Example\")"
      ],
      "text/plain": [
       "<IPython.core.display.Markdown object>"
      ]
     },
     "metadata": {},
     "output_type": "display_data"
    },
    {
     "data": {
      "text/markdown": [
       "![](slots-dga.svg \"Example\")"
      ],
      "text/plain": [
       "<IPython.core.display.Markdown object>"
      ]
     },
     "metadata": {},
     "output_type": "display_data"
    }
   ],
   "source": [
    "\n",
    "dm(f\"\"\"\n",
    "#### Analysis\n",
    "\n",
    "We set $s =  {ptime(SEC_PER_SLOT / 3600)}$, obtaining\n",
    "$N^s={slot.df[\"slotnum\"].max()}$.\n",
    "\n",
    "In Figure {Figures.SLOTS.ref()}, showing the $q_{{s_k}}$ distribution, we can\n",
    "can observe that:\n",
    "\n",
    "- The {100 * q_left50 / q_tot:.2f}% ({qq.Quantity(q_left50).render(prec=2)}) of\n",
    "requests are performed within the first { slot_median / slot_max *\n",
    "100:.0f}% of the slots.\n",
    "\n",
    "- The {100 * q_right50 / q_tot:.2f}% ({qq.Quantity(q_right50).render(prec=2)})\n",
    "of requests are within the last {100 - slot_median / slot_max *\n",
    "100:.0f} slots.\n",
    "\n",
    "Furthermore, as we can see in Figure {Figures.SLOTS_DGA.ref()}, the {AC.NIC}\n",
    "slots are relegated just to the first slot.\n",
    "\n",
    "\n",
    "\"\"\")\n",
    "\n",
    "\n",
    "fig_slot.show()\n",
    "fig_slot_pcap.show()\n",
    "fig_slot_dga.show()"
   ]
  },
  {
   "cell_type": "markdown",
   "metadata": {},
   "source": [
    "### Time slot requests ratio"
   ]
  },
  {
   "cell_type": "code",
   "execution_count": 6,
   "metadata": {},
   "outputs": [],
   "source": [
    "\n",
    "def slot_boxplot(slots, slot_hours, slot_range, qty_unit, col=\"q\", showfliers=True, onlyfirsts=False):\n",
    "    if not slot_hours in slots:\n",
    "        slots[slot_hours] = common.Slot(database, slot_hours * 60 * 60, EPS_TH, DATASET, onlyfirsts=onlyfirsts)\n",
    "    slot = slots[slot_hours]\n",
    "\n",
    "    q_slot = slot.df.copy()\n",
    "    q_slot = q_slot[(q_slot.slotnum >= slot_range[0]) & (q_slot.slotnum < slot_range[1])]\n",
    "    q_slot = q_slot[[col, \"q\", \"dga\", \"slotnum\"]]\n",
    "    q_slot = q_slot.groupby([\"dga\",\"slotnum\"]).agg({\"q\": \"sum\", col: lambda x: x.to_list()})\n",
    "    q_slot.reset_index(inplace=True)\n",
    "\n",
    "    q_slot = q_slot.pivot(index=\"slotnum\", columns=\"dga\", values=[\"q\", col])\n",
    "    \n",
    "    # display(q_slot)\n",
    "\n",
    "    # box_per_slot = {}\n",
    "    # for idx, row in q_slot.iterrows():\n",
    "    #     if not row[\"slotnum\"] in box_per_slot:\n",
    "    #         box_per_slot[row[\"slotnum\"]] = [None, None]\n",
    "    #     if row[\"dga\"] == 0:\n",
    "    #         box_per_slot[row[\"slotnum\"]][0] = { \"q\": row[\"q\"], \"fp\": row[\"pos_nn1\"] }\n",
    "    #     else:\n",
    "    #         box_per_slot[row[\"slotnum\"]][1] = { \"q\": row[\"q\"], \"fp\": row[\"pos_nn1\"] }\n",
    "    #     pass\n",
    "\n",
    "    i = 0\n",
    "    x = []\n",
    "    xticks_label = []\n",
    "    xticks_pos = []\n",
    "    positions = []\n",
    "    labels = []\n",
    "    facecolors = []\n",
    "    edgecolors = []\n",
    "    widths = []\n",
    "    totals = []\n",
    "    # for slot, (box_nic, box_ic) in box_per_slot.items():\n",
    "    for slot, row in q_slot.iterrows():\n",
    "        if row[(\"q\", 0)] and row[(\"q\", 2)]:\n",
    "            positions.append(i - 0.2)\n",
    "            positions.append(i + 0.2)\n",
    "        else:\n",
    "            positions.append(i)\n",
    "        if row[(\"q\",0)]:\n",
    "            x.append(row[(col, 0)])\n",
    "            totals.append(row[(\"q\", 0)])\n",
    "            xticks_pos.append(slot)\n",
    "            xticks_label.append(qq.Quantity(1 + slot, units=qty_unit).render(prec=1))\n",
    "            facecolors.append((0,0,1,0.2))\n",
    "            edgecolors.append(\"blue\")\n",
    "            widths.append(0.4)\n",
    "            # tots.append(\n",
    "            pass\n",
    "        if row[(\"q\",2)]:\n",
    "            x.append(row[(col, 2)])\n",
    "            totals.append(row[(\"q\", 2)])\n",
    "            xticks_pos.append(slot)\n",
    "            xticks_label.append(qq.Quantity(1 + slot, units=qty_unit).render(prec=1))\n",
    "            facecolors.append((1,0,0,0.2))\n",
    "            edgecolors.append(\"red\")\n",
    "            widths.append(0.4)\n",
    "            pass\n",
    "        i += 1\n",
    "        pass\n",
    "    \n",
    "    fig = plt.figure(figsize=(14,10))\n",
    "    ax = fig.add_subplot()\n",
    "    boxs = ax.boxplot(x,\n",
    "                      # tick_labels=labels,\n",
    "                      manage_ticks=False,\n",
    "                      notch=False,\n",
    "                      positions=positions,\n",
    "                      patch_artist=True,\n",
    "                      showmeans=True,\n",
    "                      widths=widths,\n",
    "                      meanline=False,\n",
    "                      showfliers=showfliers\n",
    "                    )\n",
    "    ax.set_xticks(xticks_pos, xticks_label)\n",
    "    \n",
    "    for i, b in enumerate(boxs[\"boxes\"]):\n",
    "        b.set_facecolor(facecolors[i])\n",
    "        b.set_edgecolor(edgecolors[i])\n",
    "        pass\n",
    "\n",
    "    for i, x in enumerate(x):\n",
    "        ax.text(positions[i], -20, f\"{sum(x)}\\n{totals[i]}\\n{100 * sum(x)/totals[i]:.2f}%\", ha=\"center\")\n",
    "        # ax.text(positions[i], -5, totals[i], ha=\"center\")\n",
    "        # ax.text(positions[i], -7, f\"{100 * sum(x)/totals[i]:.2f}%\", ha=\"center\")\n",
    "\n",
    "    ax.set_ylim(bottom=-8)\n",
    "    fig = Figure(fig, ax, Figures.SLOTS_DGA, \"ciao\")\n",
    "    \n",
    "    # ax.set_yscale('log')\n",
    "    \n",
    "    plt.close()\n",
    "    return fig\n",
    "\n",
    "# fig2 = slot_boxplot(slots, 1, (0,14), \"hr\")\n",
    "# fig2.show()"
   ]
  },
  {
   "cell_type": "code",
   "execution_count": null,
   "metadata": {},
   "outputs": [],
   "source": [
    "slots = {}\n",
    "fig1 = slot_boxplot(slots, 1, (0,7), \"hour\", col=\"poswl_nn1\",\n",
    "                    showfliers=False, onlyfirsts=True)\n",
    "\n",
    "fig1.caption = \"Number of alarms for the first 10 hour\"\n",
    "fig1.show()\n",
    "slots = {}\n",
    "fig1 = slot_boxplot(slots, 1, (0,7), \"hour\", col=\"poswl_nn1\",\n",
    "                    showfliers=False, onlyfirsts=False)\n",
    "\n",
    "fig1.caption = \"Number of alarms for the first 10 hour\"\n",
    "fig1.show()\n",
    "\n",
    "slots = {}\n",
    "fig1 = slot_boxplot(slots, 1, (0,7), \"hour\", col=\"pos_nn1\",\n",
    "                    showfliers=False, onlyfirsts=True)\n",
    "\n",
    "fig1.caption = \"Number of alarms for the first 10 hour\"\n",
    "fig1.show()\n",
    "slots = {}\n",
    "fig1 = slot_boxplot(slots, 1, (0,7), \"hour\", col=\"pos_nn1\",\n",
    "                    showfliers=False, onlyfirsts=False)\n",
    "\n",
    "fig1.caption = \"Number of alarms for the first 10 hour\"\n",
    "fig1.show()\n",
    "\n",
    "\n",
    "\n",
    "# slots = {}\n",
    "# fig1 = slot_boxplot(slots, 24, (0,7), \"day\",\n",
    "#                     showfliers=False, onlyfirsts=True)\n",
    "\n",
    "# fig1.caption = \"We can see that the fliers are diffuclt to handle\"\n",
    "# fig1.show()\n",
    "\n",
    "# slots = {}\n",
    "# fig1 = slot_boxplot(slots, 24, (0,7), \"day\",\n",
    "#                     showfliers=False, onlyfirsts=False)\n",
    "\n",
    "# fig1.caption = \"We can see that the fliers are diffuclt to handle\"\n",
    "# fig1.show()\n",
    "\n",
    "# slots = {}\n",
    "# fig1 = slot_boxplot(slots, 24, (0,7), \"day\",\n",
    "#                     showfliers=False, onlyfirsts=True)\n",
    "\n",
    "# fig1.caption = \"We can see that the fliers are diffuclt to handle\"\n",
    "# fig1.show()\n",
    "\n",
    "# slots = {}\n",
    "# fig1 = slot_boxplot(slots, 24, (0,7), \"day\",\n",
    "#                     showfliers=False, onlyfirsts=False)\n",
    "\n",
    "# fig1.caption = \"We can see that the fliers are diffuclt to handle\"\n",
    "# fig1.show()"
   ]
  },
  {
   "cell_type": "code",
   "execution_count": 229,
   "metadata": {},
   "outputs": [
    {
     "data": {
      "text/markdown": [
       "![](slots-dga.svg \"Example\")"
      ],
      "text/plain": [
       "<IPython.core.display.Markdown object>"
      ]
     },
     "metadata": {},
     "output_type": "display_data"
    },
    {
     "ename": "TypeError",
     "evalue": "'float' object is not iterable",
     "output_type": "error",
     "traceback": [
      "\u001b[0;31m---------------------------------------------------------------------------\u001b[0m",
      "\u001b[0;31mTypeError\u001b[0m                                 Traceback (most recent call last)",
      "Cell \u001b[0;32mIn[229], line 44\u001b[0m\n\u001b[1;32m     40\u001b[0m fig1\u001b[38;5;241m.\u001b[39mcaption \u001b[38;5;241m=\u001b[39m \u001b[38;5;124m\"\u001b[39m\u001b[38;5;124mWe can see that the fliers are diffuclt to handle\u001b[39m\u001b[38;5;124m\"\u001b[39m\n\u001b[1;32m     41\u001b[0m fig1\u001b[38;5;241m.\u001b[39mshow()\n\u001b[0;32m---> 44\u001b[0m fig12\u001b[38;5;241m=\u001b[39m \u001b[43mslot_boxplot\u001b[49m\u001b[43m(\u001b[49m\u001b[43mslots\u001b[49m\u001b[43m,\u001b[49m\u001b[43m \u001b[49m\u001b[38;5;241;43m24\u001b[39;49m\u001b[43m,\u001b[49m\u001b[43m \u001b[49m\u001b[43m(\u001b[49m\u001b[38;5;241;43m0\u001b[39;49m\u001b[43m,\u001b[49m\u001b[38;5;241;43m7\u001b[39;49m\u001b[43m)\u001b[49m\u001b[43m,\u001b[49m\u001b[43m \u001b[49m\u001b[38;5;124;43m\"\u001b[39;49m\u001b[38;5;124;43mday\u001b[39;49m\u001b[38;5;124;43m\"\u001b[39;49m\u001b[43m,\u001b[49m\u001b[43m \u001b[49m\u001b[43mcol\u001b[49m\u001b[38;5;241;43m=\u001b[39;49m\u001b[38;5;124;43m\"\u001b[39;49m\u001b[38;5;124;43mpos_nn1\u001b[39;49m\u001b[38;5;124;43m\"\u001b[39;49m\u001b[43m,\u001b[49m\n\u001b[1;32m     45\u001b[0m \u001b[43m                    \u001b[49m\u001b[43mshowfliers\u001b[49m\u001b[38;5;241;43m=\u001b[39;49m\u001b[38;5;28;43;01mTrue\u001b[39;49;00m\u001b[43m,\u001b[49m\u001b[43m \u001b[49m\u001b[43monlyfirsts\u001b[49m\u001b[38;5;241;43m=\u001b[39;49m\u001b[38;5;28;43;01mTrue\u001b[39;49;00m\u001b[43m)\u001b[49m\n\u001b[1;32m     46\u001b[0m fig2\u001b[38;5;241m.\u001b[39mcaption \u001b[38;5;241m=\u001b[39m \u001b[38;5;124m\"\u001b[39m\u001b[38;5;124mWe can see that the fliers are diffuclt to handle\u001b[39m\u001b[38;5;124m\"\u001b[39m\n\u001b[1;32m     47\u001b[0m fig2\u001b[38;5;241m.\u001b[39mshow()\n",
      "Cell \u001b[0;32mIn[227], line 86\u001b[0m, in \u001b[0;36mslot_boxplot\u001b[0;34m(slots, slot_hours, slot_range, qty_unit, col, showfliers, onlyfirsts)\u001b[0m\n\u001b[1;32m     83\u001b[0m     \u001b[38;5;28;01mpass\u001b[39;00m\n\u001b[1;32m     85\u001b[0m \u001b[38;5;28;01mfor\u001b[39;00m i, x \u001b[38;5;129;01min\u001b[39;00m \u001b[38;5;28menumerate\u001b[39m(x):\n\u001b[0;32m---> 86\u001b[0m     ax\u001b[38;5;241m.\u001b[39mtext(positions[i], \u001b[38;5;241m-\u001b[39m\u001b[38;5;241m3\u001b[39m, \u001b[38;5;28;43msum\u001b[39;49m\u001b[43m(\u001b[49m\u001b[43mx\u001b[49m\u001b[43m)\u001b[49m, ha\u001b[38;5;241m=\u001b[39m\u001b[38;5;124m\"\u001b[39m\u001b[38;5;124mcenter\u001b[39m\u001b[38;5;124m\"\u001b[39m)\n\u001b[1;32m     87\u001b[0m     ax\u001b[38;5;241m.\u001b[39mtext(positions[i], \u001b[38;5;241m-\u001b[39m\u001b[38;5;241m5\u001b[39m, totals[i], ha\u001b[38;5;241m=\u001b[39m\u001b[38;5;124m\"\u001b[39m\u001b[38;5;124mcenter\u001b[39m\u001b[38;5;124m\"\u001b[39m)\n\u001b[1;32m     88\u001b[0m     ax\u001b[38;5;241m.\u001b[39mtext(positions[i], \u001b[38;5;241m-\u001b[39m\u001b[38;5;241m7\u001b[39m, \u001b[38;5;124mf\u001b[39m\u001b[38;5;124m\"\u001b[39m\u001b[38;5;132;01m{\u001b[39;00m\u001b[38;5;241m100\u001b[39m\u001b[38;5;250m \u001b[39m\u001b[38;5;241m*\u001b[39m\u001b[38;5;250m \u001b[39m\u001b[38;5;28msum\u001b[39m(x)\u001b[38;5;241m/\u001b[39mtotals[i]\u001b[38;5;132;01m:\u001b[39;00m\u001b[38;5;124m.2f\u001b[39m\u001b[38;5;132;01m}\u001b[39;00m\u001b[38;5;124m%\u001b[39m\u001b[38;5;124m\"\u001b[39m, ha\u001b[38;5;241m=\u001b[39m\u001b[38;5;124m\"\u001b[39m\u001b[38;5;124mcenter\u001b[39m\u001b[38;5;124m\"\u001b[39m)\n",
      "\u001b[0;31mTypeError\u001b[0m: 'float' object is not iterable"
     ]
    },
    {
     "data": {
      "image/png": "[encoded data removed]",
      "text/plain": [
       "<Figure size 1400x1000 with 1 Axes>"
      ]
     },
     "metadata": {},
     "output_type": "display_data"
    }
   ],
   "source": [
    "\n",
    "def slot_hist(slots, slot_hours, slot_range, qty_unit, col=\"q\", showfliers=True, onlyfirsts=False):\n",
    "    if not slot_hours in slots:\n",
    "        slots[slot_hours] = common.Slot(database, slot_hours * 60 * 60, EPS_TH, DATASET, onlyfirsts=onlyfirsts)\n",
    "    slot = slots[slot_hours]\n",
    "\n",
    "    q_slot = slot.df.copy()\n",
    "    q_slot = q_slot[(q_slot.slotnum >= slot_range[0]) & (q_slot.slotnum < slot_range[1])]\n",
    "    q_slot = q_slot[[\"q\", \"pos_nn1\", \"dga\", \"slotnum\"]]\n",
    "\n",
    "    q_slot = q_slot.groupby([\"dga\",\"slotnum\"]).sum()    \n",
    "    q_slot = q_slot.unstack(0).fillna(0)\n",
    "\n",
    "    q_slot[(\"q\",0)] -= q_slot[(\"pos_nn1\",0)]\n",
    "    q_slot[(\"q\",2)] -= q_slot[(\"pos_nn1\",2)]\n",
    "    \n",
    "    fig = plt.figure(figsize=(14,10))\n",
    "    ax = fig.add_subplot()\n",
    "    for dga in [0,2]:\n",
    "        bottom = np.zeros(q_slot.shape[0])\n",
    "        tmp=q_slot.xs(dga, level=1, axis=1)\n",
    "        for cc in [\"q\", \"pos_nn1\"]:\n",
    "            rects = ax.bar(\n",
    "                x=tmp[cc].index.values + (0.2 if dga else -0.2),\n",
    "                height=tmp[cc].values,\n",
    "                width=0.3,\n",
    "                label=cc,\n",
    "                bottom=bottom\n",
    "            )\n",
    "            bottom += tmp[cc].values\n",
    "            ax.bar_label(rects, labels=[qq.Quantity(v).render(prec=2) for v in rects.datavalues], padding=3, label_type=\"center\")\n",
    "    fig = Figure(fig, ax, Figures.SLOTS_DGA, \"ciao\")\n",
    "    ax.legend()\n",
    "    plt.close()\n",
    "    return fig\n",
    "    \n",
    "# fig2 = slot_boxplot(slots, 1, (0,14), \"hr\")\n",
    "# fig2.show()\n",
    "fig1 = slot_hist(slots, 24, (0,7), \"day\", col=\"pos_nn1\",\n",
    "                    showfliers=True, onlyfirsts=True)\n",
    "fig1.caption = \"We can see that the fliers are diffuclt to handle\"\n",
    "fig1.show()\n",
    "\n",
    "\n",
    "fig12= slot_boxplot(slots, 24, (0,7), \"day\", col=\"pos_nn1\",\n",
    "                    showfliers=True, onlyfirsts=True)\n",
    "fig2.caption = \"We can see that the fliers are diffuclt to handle\"\n",
    "fig2.show()\n"
   ]
  },
  {
   "cell_type": "code",
   "execution_count": 27,
   "metadata": {},
   "outputs": [
    {
     "data": {
      "text/markdown": [
       "![](slots-dga.svg \"Example\")"
      ],
      "text/plain": [
       "<IPython.core.display.Markdown object>"
      ]
     },
     "metadata": {},
     "output_type": "display_data"
    },
    {
     "data": {
      "text/markdown": [
       "![](slots-dga.svg \"Example\")"
      ],
      "text/plain": [
       "<IPython.core.display.Markdown object>"
      ]
     },
     "metadata": {},
     "output_type": "display_data"
    }
   ],
   "source": [
    "# slots = {}\n",
    "fig1 = slot_hist(slots, 24, (0,7), \"day\", col=\"pos_nn1\",\n",
    "                    showfliers=True, onlyfirsts=True)\n",
    "\n",
    "fig1.caption = \"We can see that the fliers are diffuclt to handle\"\n",
    "fig1.show()\n",
    "\n",
    "slots = {}\n",
    "fig1 = slot_boxplot(slots, 24, (0,7), \"day\", col=\"pos_nn1\",\n",
    "                    showfliers=True, onlyfirsts=False)\n",
    "\n",
    "fig1.caption = \"We can see that the fliers are diffuclt to handle\"\n",
    "fig1.show()"
   ]
  },
  {
   "cell_type": "code",
   "execution_count": 13,
   "metadata": {},
   "outputs": [
    {
     "data": {
      "text/markdown": [
       "\n",
       "#### Conclusion\n",
       "\n",
       "The data set in unbalanced towards the infected class in many ways:\n",
       "\n",
       "- The number of requests.\n",
       "\n",
       "- The capture duration and so the number of slots.\n",
       "\n",
       "- The number of requests per time.\n",
       "\n",
       "> Therefore we decide to ignore the last 75% slots, corresponding to 36 of 144 slots.\n"
      ],
      "text/plain": [
       "<IPython.core.display.Markdown object>"
      ]
     },
     "metadata": {},
     "output_type": "display_data"
    }
   ],
   "source": [
    "\n",
    "pp(f\"\"\"\n",
    "#### Conclusion\n",
    "\n",
    "The data set in unbalanced towards the infected class in many ways:\n",
    "\n",
    "- The number of requests.\n",
    "\n",
    "- The capture duration and so the number of slots.\n",
    "\n",
    "- The number of requests per time.\n",
    "\n",
    "> Therefore we decide to ignore the last {100 - slot_median / slot_max *\n",
    "100:.0f}% slots, corresponding to {slot_median} of {slot_max} slots.\n",
    "\"\"\")"
   ]
  }
 ],
 "metadata": {
  "kernelspec": {
   "display_name": "Python 3 (ipykernel)",
   "language": "python",
   "name": "python3"
  },
  "language_info": {
   "codemirror_mode": {
    "name": "ipython",
    "version": 3
   },
   "file_extension": ".py",
   "mimetype": "text/x-python",
   "name": "python",
   "nbconvert_exporter": "python",
   "pygments_lexer": "ipython3",
   "version": "3.12.0"
  }
 },
 "nbformat": 4,
 "nbformat_minor": 4
}
