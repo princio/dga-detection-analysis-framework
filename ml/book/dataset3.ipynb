{
 "cells": [
  {
   "cell_type": "code",
   "execution_count": 1,
   "metadata": {
    "editable": true,
    "slideshow": {
     "slide_type": ""
    },
    "tags": [
     "hide-input"
    ]
   },
   "outputs": [],
   "source": [
    "from math import floor\n",
    "import math\n",
    "import pandas as pd\n",
    "from sklearn.ensemble import RandomForestClassifier\n",
    "from sklearn.svm import OneClassSVM\n",
    "from sklearn.metrics import confusion_matrix, classification_report, make_scorer\n",
    "from sklearn.model_selection import train_test_split, StratifiedKFold, cross_val_predict\n",
    "import numpy as np\n",
    "import common # type: ignore\n",
    "from sklearn.feature_selection import VarianceThreshold\n",
    "from mlxtend.feature_selection import SequentialFeatureSelector\n",
    "from IPython.display import display, Markdown, Latex, HTML\n",
    "import matplotlib.pyplot as plt\n",
    "from sqlalchemy import create_engine, text\n",
    "import quantiphy as qq\n",
    "import warnings\n",
    "import enum\n",
    "\n",
    "SEC_PER_SLOT = 12 * 60 * 60\n",
    "EPS_TH = 0.5\n",
    "DATASET = \"CTU-13\"\n",
    "database = common.Database()\n",
    "dataset = common.Dataset()\n",
    "slot = common.Slot(database, SEC_PER_SLOT, EPS_TH, DATASET)\n"
   ]
  },
  {
   "cell_type": "code",
   "execution_count": 2,
   "metadata": {},
   "outputs": [],
   "source": [
    "import os\n",
    "import importlib\n",
    "import latex\n",
    "importlib.reload(latex)\n",
    "\n",
    "from latex import dm, pp, ptime, Cites, AC\n",
    "from latex import Tables, Table, Figure, Figures\n",
    "from latex import is_latex, set_latex, unset_latex"
   ]
  },
  {
   "cell_type": "code",
   "execution_count": 3,
   "metadata": {},
   "outputs": [
    {
     "data": {
      "text/markdown": [
       "\n",
       "\n",
       "### Time slot analysis for uniques\n",
       "\n",
       "We want to analyse the number of requests in a time window, here called _slot_,\n",
       "during the evolution of all captures. To achieve this, since that the captures\n",
       "start in different times, we need to set the starting time of each capture at\n",
       "the same time. To obtain this, in the Packet-table, we translate all the\n",
       "timestamps in such a way that the first packet timestamp of each capture is 0 s.\n",
       "\n",
       "\n",
       "### Distribution of slots\n",
       "\n",
       "#### Notation\n",
       "\n",
       "We indicate with $t^s_k$ the timestamp of the $k$-th slot:\n",
       "\n",
       "$$t^s_k = \\bar{s} * k$$\n",
       "\n",
       "where $s$ is the time slot size.\n",
       "\n",
       "With $u^s_{k}$ we indicate the number of uniques belonging to the $k$-th slot,\n",
       "i.e. performed between\n",
       "$t^s_{k-1}$ and $t^s_{k}$,\n",
       "with ($t^s_{-1} = 0$).\n",
       "\n",
       "Finally, with $N^s = \\lceil t^{max} / s \\rceil$ we indicate the total number of slots.\n",
       "\n"
      ],
      "text/plain": [
       "<IPython.core.display.Markdown object>"
      ]
     },
     "metadata": {},
     "output_type": "display_data"
    }
   ],
   "source": [
    "\n",
    "dm(f\"\"\"\n",
    "\n",
    "### Time slot analysis for uniques\n",
    "\n",
    "We want to analyse the number of requests in a time window, here called _slot_,\n",
    "during the evolution of all captures. To achieve this, since that the captures\n",
    "start in different times, we need to set the starting time of each capture at\n",
    "the same time. To obtain this, in the Packet-table, we translate all the\n",
    "timestamps in such a way that the first packet timestamp of each capture is 0 s.\n",
    "\n",
    "\n",
    "### Distribution of slots\n",
    "\n",
    "#### Notation\n",
    "\n",
    "We indicate with $t^s_k$ the timestamp of the $k$-th slot:\n",
    "\n",
    "$$t^s_k = \\\\bar{{s}} * k$$\n",
    "\n",
    "where $s$ is the time slot size.\n",
    "\n",
    "With $u^s_{{k}}$ we indicate the number of uniques belonging to the $k$-th slot,\n",
    "i.e. performed between\n",
    "$t^s_{{k-1}}$ and $t^s_{{k}}$,\n",
    "with ($t^s_{{-1}} = 0$).\n",
    "\n",
    "Finally, with $N^s = \\\\lceil t^{{max}} / s \\\\rceil$ we indicate the total number of slots.\n",
    "\n",
    "\"\"\")"
   ]
  },
  {
   "cell_type": "code",
   "execution_count": 4,
   "metadata": {},
   "outputs": [],
   "source": [
    "time_translation = database.conn.execute(text(f\"\"\"\n",
    "    SELECT MAX(M.TIME_S) TIME_S,  MAX(M.TIME_S_TRANSLATED) TIME_S_TRANSLATED\n",
    "    FROM MESSAGE M JOIN PCAP ON M.PCAP_ID = PCAP.ID\n",
    "    WHERE PCAP.DATASET = '{DATASET}'\n",
    "\"\"\")).all()[0]._mapping"
   ]
  },
  {
   "cell_type": "code",
   "execution_count": 5,
   "metadata": {},
   "outputs": [],
   "source": [
    "q_per_slot = slot.groupsum(\"u\", use_timestamps=True)\n",
    "\n",
    "slot_max = q_per_slot.shape[0]\n",
    "slot_median = int(slot_max / 4)\n",
    "q_tot = q_per_slot.sum()\n",
    "\n",
    "q_left50 = q_per_slot.cumsum().iloc[slot_median]\n",
    "q_right50 = q_per_slot.sum() - q_left50\n",
    "\n",
    "q_per_slot_cumperc = 100 * q_per_slot.cumsum() / q_tot\n",
    "q_left50_perc = 100 * q_left50 / q_tot\n",
    "q_right50_perc = 100 * q_right50 / q_tot"
   ]
  },
  {
   "cell_type": "code",
   "execution_count": 6,
   "metadata": {},
   "outputs": [],
   "source": [
    "# tab_slot_distribution_cum_perc = Table(\n",
    "#     slot_distribution_cum_perc_desc.map(lambda x: qq.Quantity(x).render(prec=2)).to_frame().T,\n",
    "#     Tables.SLOTS,\n",
    "#     f\"Distribution of the slots through time.\"\n",
    "# )\n",
    "\n",
    "fig = plt.figure(figsize=(8,3))\n",
    "ax = fig.add_subplot(1, 1, 1)\n",
    "\n",
    "# q_per_slot_cumperc.plot(fig=fig)\n",
    "ax.set_xlabel(\"$k$\")\n",
    "ax.set_ylabel(\"$\\\\sum^k_{j=0}{\\\\:\\\\frac{q_j}{q_{tot}}}$\", labelpad=16.0, rotation=\"horizontal\", fontsize='x-large')\n",
    "ax.text(slot_median / 2, 50, f\"{q_left50_perc:.2f}%\\n{qq.Quantity(q_left50).render(prec=2)}\")\n",
    "ax.text((slot_max + slot_median) / 2, 50, f\"{q_right50_perc:.2f}%\\n{qq.Quantity(q_right50).render(prec=2)}\")\n",
    "\n",
    "ax.fill_between(np.arange(0, slot_median+1), q_per_slot_cumperc.iloc[0:slot_median+1], alpha=0.4, color=\"blue\")\n",
    "ax.fill_between(np.arange(slot_median, slot_max), q_per_slot_cumperc.iloc[slot_median:slot_max], alpha=0.2, color=\"blue\")\n",
    "ax.axvline(slot_median, color=\"black\", lw=1)\n",
    "\n",
    "slot_ticks = []\n",
    "for i in range(10):\n",
    "    v = math.floor(((slot_max) * (0.1 * i)))\n",
    "    slot_ticks.append(v)\n",
    "slot_ticks.append(slot_max-1)\n",
    "ax.set_xticks(slot_ticks)\n",
    "\n",
    "fig_slot = Figure(fig, ax, Figures.SLOTS,\n",
    "                  \"Percentage of uniques made up to slot k.\")\n",
    "fig_slot.ycaption = -.04\n",
    "\n",
    "plt.close()"
   ]
  },
  {
   "cell_type": "code",
   "execution_count": 7,
   "metadata": {},
   "outputs": [],
   "source": [
    "q_slot_pcap = slot.df.copy()\n",
    "q_slot_pcap = q_slot_pcap[[\"u\", \"pcap_id\", \"slotnum\"]].groupby([\"pcap_id\", \"slotnum\"]).sum()\n",
    "q_slot_pcap = q_slot_pcap.unstack().T.fillna(0).reset_index(level=0, drop=True)\n",
    "q_slot_pcap = q_slot_pcap.shift(fill_value=0)\n",
    "last_row = q_slot_pcap.iloc[-1]\n",
    "q_slot_pcap = pd.concat([q_slot_pcap, last_row.to_frame().T], ignore_index=True)\n",
    "\n",
    "fig = plt.figure(figsize=(8,3))\n",
    "ax = fig.add_subplot(1, 1, 1)\n",
    "ax = q_slot_pcap.plot(fig=fig, kind=\"bar\", width=1, stacked=True, logy=False, legend=False, ax=ax)\n",
    "ax.set_xticks(slot_ticks)\n",
    "ax.set_xlabel(\"$k$\")\n",
    "ax.set_ylabel(\"$q^s_k$\", rotation=\"horizontal\", labelpad=16.0, )\n",
    "ax.axvline(slot_median, color=\"black\", linewidth=0.4)\n",
    "\n",
    "fig_slot_pcap = Figure(fig, ax, Figures.SLOTS_PCAP,\n",
    "                       \"Each bar indicates the uniques number $q^s_k$ of the $k$-th slot.\\nThe color indicates the capture which produced the requests.\")\n",
    "fig_slot_pcap.ycaption = -0.2\n",
    "\n",
    "plt.close()"
   ]
  },
  {
   "cell_type": "code",
   "execution_count": 8,
   "metadata": {},
   "outputs": [],
   "source": [
    "q_slot_dga = slot.df.copy()\n",
    "q_slot_dga = q_slot_dga[[\"u\", \"dga\", \"slotnum\"]].groupby([\"dga\", \"slotnum\"]).sum()\n",
    "q_slot_dga = q_slot_dga.unstack().T.fillna(0).reset_index(level=0, drop=True)\n",
    "q_slot_dga = q_slot_dga.shift(fill_value=0)\n",
    "last_row = q_slot_dga.iloc[-1]\n",
    "q_slot_dga = pd.concat([q_slot_dga, last_row.to_frame().T], ignore_index=True)\n",
    "\n",
    "\n",
    "fig = plt.figure(figsize=(8,3))\n",
    "ax = fig.add_subplot(1, 1, 1)\n",
    "ax = q_slot_dga.plot(fig=fig, kind=\"bar\", width=1, stacked=True, logy=True , legend=True, ax=ax)\n",
    "ax.set_xticks(slot_ticks)\n",
    "ax.set_xlabel(\"$k$\")\n",
    "ax.set_ylabel(\"$q^s_k$\", rotation=\"horizontal\", labelpad=16.0)\n",
    "ax.legend([\"not-infected\", \"infected\"])\n",
    "ax.axvline(slot_median, color=\"black\", linewidth=0.4)\n",
    "plt.close()\n",
    "\n",
    "fig_slot_dga = Figure(fig, ax, Figures.SLOTS_DGA, \"Each bar indicates the uniques number $q^s_k$ of the $k$-th slot.\\nThe color indicates the capture which produced the requests.\")\n",
    "fig_slot_dga.ycaption = -0.2\n"
   ]
  },
  {
   "cell_type": "code",
   "execution_count": 12,
   "metadata": {},
   "outputs": [
    {
     "data": {
      "text/markdown": [
       "\n",
       "#### Analysis\n",
       "\n",
       "We set $s =  12 hr$, obtaining\n",
       "$N^s=142$.\n",
       "\n",
       "In Figure _[slots]_, showing the $q_{s_k}$ distribution, we can\n",
       "can observer:\n",
       "\n",
       "- The 79.31% (286k) of\n",
       "requests are performed within the first 25.0% of the slots.\n",
       "- The 20.69% (74.6k)\n",
       "of requests are within the last 75.0% slots.\n",
       "\n",
       "Furthermore, as we can see in Figure _[slots-dga]_, the _NIC_\n",
       "slots are relegated just to the first slot.\n",
       "\n",
       "\n",
       "#### Conclusion\n",
       "\n",
       "The data set in unbalanced towards the infected class in many ways:\n",
       "\n",
       "- The number of requests.\n",
       "\n",
       "- The capture duration and so the number of slots.\n",
       "\n",
       "\n",
       "\n",
       "\n",
       "- the number of requests per time.\n",
       "\n",
       "> Therefore we decide to ignore the last 75% slots, corresponding to 36 of 144 slots.\n",
       "\n"
      ],
      "text/plain": [
       "<IPython.core.display.Markdown object>"
      ]
     },
     "metadata": {},
     "output_type": "display_data"
    },
    {
     "data": {
      "text/markdown": [
       "![](slots.svg \"Example\")"
      ],
      "text/plain": [
       "<IPython.core.display.Markdown object>"
      ]
     },
     "metadata": {},
     "output_type": "display_data"
    },
    {
     "data": {
      "text/markdown": [
       "![](slots-pcap.svg \"Example\")"
      ],
      "text/plain": [
       "<IPython.core.display.Markdown object>"
      ]
     },
     "metadata": {},
     "output_type": "display_data"
    },
    {
     "data": {
      "text/markdown": [
       "![](slots-dga.svg \"Example\")"
      ],
      "text/plain": [
       "<IPython.core.display.Markdown object>"
      ]
     },
     "metadata": {},
     "output_type": "display_data"
    }
   ],
   "source": [
    "\n",
    "dm(f\"\"\"\n",
    "#### Analysis\n",
    "\n",
    "We set $s =  {ptime(SEC_PER_SLOT / 3600)}$, obtaining\n",
    "$N^s={slot.df[\"slotnum\"].max()}$.\n",
    "\n",
    "In Figure {Figures.SLOTS.ref()}, showing the $q_{{s_k}}$ distribution, we can\n",
    "can observer:\n",
    "\n",
    "- The {100 * q_left50 / q_tot:.2f}% ({qq.Quantity(q_left50).render(prec=2)}) of\n",
    "requests are performed within the first {100 * slot_median / slot_max:.1f}% of the slots.\n",
    "- The {100 * q_right50 / q_tot:.2f}% ({qq.Quantity(q_right50).render(prec=2)})\n",
    "of requests are within the last {100 * (1 - slot_median / slot_max):.1f}% slots.\n",
    "\n",
    "Furthermore, as we can see in Figure {Figures.SLOTS_DGA.ref()}, the {AC.NIC}\n",
    "slots are relegated just to the first slot.\n",
    "\n",
    "\n",
    "#### Conclusion\n",
    "\n",
    "The data set in unbalanced towards the infected class in many ways:\n",
    "\n",
    "- The number of uniques.\n",
    "\n",
    "- The capture duration and so the number of slots.\n",
    "\n",
    "- the number of uniques per time.\n",
    "\n",
    "> Therefore we decide to ignore the last {100 - slot_median / slot_max *\n",
    "100:.0f}% slots, corresponding to {slot_median} of {slot_max} slots.\n",
    "\n",
    "\"\"\")\n",
    "\n",
    "\n",
    "fig_slot.show()\n",
    "fig_slot_pcap.show()\n",
    "fig_slot_dga.show()"
   ]
  },
  {
   "cell_type": "code",
   "execution_count": null,
   "metadata": {},
   "outputs": [],
   "source": []
  }
 ],
 "metadata": {
  "kernelspec": {
   "display_name": "Python 3 (ipykernel)",
   "language": "python",
   "name": "python3"
  },
  "language_info": {
   "codemirror_mode": {
    "name": "ipython",
    "version": 3
   },
   "file_extension": ".py",
   "mimetype": "text/x-python",
   "name": "python",
   "nbconvert_exporter": "python",
   "pygments_lexer": "ipython3",
   "version": "3.12.0"
  }
 },
 "nbformat": 4,
 "nbformat_minor": 4
}
