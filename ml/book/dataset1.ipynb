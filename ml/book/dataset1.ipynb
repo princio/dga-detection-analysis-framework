{
 "cells": [
  {
   "cell_type": "code",
   "execution_count": 1,
   "metadata": {
    "editable": true,
    "slideshow": {
     "slide_type": ""
    },
    "tags": [
     "hide-input"
    ]
   },
   "outputs": [],
   "source": [
    "from math import floor\n",
    "import math\n",
    "import pandas as pd\n",
    "from sklearn.ensemble import RandomForestClassifier\n",
    "from sklearn.svm import OneClassSVM\n",
    "from sklearn.metrics import confusion_matrix, classification_report, make_scorer\n",
    "from sklearn.model_selection import train_test_split, StratifiedKFold, cross_val_predict\n",
    "import numpy as np\n",
    "import common # type: ignore\n",
    "from sklearn.feature_selection import VarianceThreshold\n",
    "from mlxtend.feature_selection import SequentialFeatureSelector\n",
    "from IPython.display import display, Markdown, Latex, HTML\n",
    "import matplotlib.pyplot as plt\n",
    "from sqlalchemy import create_engine, text\n",
    "import quantiphy as qq\n",
    "import warnings\n",
    "import enum\n",
    "\n",
    "# SEC_PER_SLOT = 12 * 60 * 60\n",
    "# EPS_TH = 0.5\n",
    "DATASET = \"CTU-13\"\n",
    "database = common.Database()\n",
    "# dataset = common.Dataset()\n",
    "# slot = common.Slot(database, SEC_PER_SLOT, EPS_TH, DATASET)\n",
    "\n",
    "def dm(x):\n",
    "    display(Markdown(x))\n",
    "    return"
   ]
  },
  {
   "cell_type": "code",
   "execution_count": null,
   "metadata": {},
   "outputs": [],
   "source": [
    "import os\n",
    "\n",
    "TO_LATEX = False\n",
    "if \"TO_LATEX\" in os.environ:\n",
    "    TO_LATEX = True"
   ]
  },
  {
   "cell_type": "code",
   "execution_count": 11,
   "metadata": {},
   "outputs": [],
   "source": [
    "\n",
    "LI = \"infected\"\n",
    "LNI = \"not-infected\"\n",
    "\n",
    "class Label(enum.Enum):\n",
    "    def __init__(self, *args, **kwargs):\n",
    "        # super(Tables, self).__init__(*args)\n",
    "        pass\n",
    "    \n",
    "    def label(self):\n",
    "        if TO_LATEX:\n",
    "            return f\"@@label@:{self.prefix}:{self._}:@\"\n",
    "        else:\n",
    "            return f\"[{self._}]\"\n",
    "        pass\n",
    "\n",
    "    def ref(self):\n",
    "        if TO_LATEX:\n",
    "            return f\"@@ref@:{self.prefix}:{self._}:@\"\n",
    "        else:\n",
    "            return f\"_[{self._}]_\"\n",
    "        pass\n",
    "\n",
    "class AC(enum.Enum):\n",
    "    DNS = \"Domain Name System\"\n",
    "    CC = \"Command&Control\"\n",
    "    DGA = \"Domain Name Generation\"\n",
    "    MCFP = \"Malware Capture Facility Project\"\n",
    "    PCAP = \"Packet CAPture\"\n",
    "\n",
    "    def __str__(self):\n",
    "        if TO_LATEX:\n",
    "            return f\"@@ac@:{self.name}:@\"\n",
    "        else:\n",
    "            return f\"_{self.name}_\"\n",
    "    pass\n",
    "\n",
    "class Cites(enum.Enum):\n",
    "    CTU_SME_11 = 0\n",
    "    DOS_DONTS = 1\n",
    "    STSPH = 2\n",
    "    \n",
    "    def __init__(self, *args, **kwargs):\n",
    "        self._ = self.name.replace(\"_\", \"-\")\n",
    "        pass\n",
    "\n",
    "    def __str__(self):\n",
    "        if TO_LATEX:\n",
    "            return f\"@@cite@:{self._}:@\"\n",
    "        else:\n",
    "            return f\"_[{self._}]_\"\n",
    "    pass\n",
    "\n",
    "class Tables(Label):\n",
    "    TOTAL_Q = 0\n",
    "    AVERAGE_Q = 1\n",
    "    Q_PER_S = 2\n",
    "    DURATION = 3\n",
    "\n",
    "    def __init__(self, *args, **kwargs):\n",
    "        self.prefix = \"tab\"\n",
    "        self._ = self.name.lower().replace(\"_\", \"-\")\n",
    "        pass\n",
    "    pass\n",
    "\n",
    "class Figures(Label):\n",
    "    Q_PER_S = 0\n",
    "    DURATION = 1\n",
    "\n",
    "    def __init__(self, *args, **kwargs):\n",
    "        self.prefix = \"fig\"\n",
    "        self._ = self.name.lower().replace(\"_\", \"-\")\n",
    "        pass\n",
    "    pass\n",
    "\n",
    "class Figure:\n",
    "    def __init__(self, fig, axs, label, caption):\n",
    "        self.fig = fig\n",
    "        self.axs = axs\n",
    "        self.label = label\n",
    "        self.caption = caption\n",
    "        pass\n",
    "\n",
    "    def show(self, ycaption=-0.1):\n",
    "        fname = f\"{self.label._}.{'pdf' if TO_LATEX else 'svg'}\"\n",
    "        if TO_LATEX is False:\n",
    "            self.fig.suptitle(self.label.label())\n",
    "            self.fig.text(.5, ycaption, self.caption, ha='center')\n",
    "            # self.fig.show()\n",
    "            self.fig.savefig(fname, bbox_inches=\"tight\")\n",
    "            dm(f\"![]({fname} \\\"Example\\\")\")\n",
    "        else:\n",
    "            self.fig.savefig(fname)\n",
    "            dm(f\"@@begin@:figure:@\")\n",
    "            dm(f\"@@centering\")\n",
    "            dm(f\"@@includegraphics@qwidth=@@textwidthq@ @:{fname}:@\")\n",
    "            dm(f\"@@caption@:{self.caption}:@\")\n",
    "            dm(self.label.label())\n",
    "            dm(f\"@@end@:figure:@\")\n",
    "            pass\n",
    "        pass\n",
    "\n",
    "class Table:\n",
    "    def __init__(self, df, label, caption):\n",
    "        self.df = df.copy()\n",
    "        self.label = label\n",
    "        self.caption = caption\n",
    "        pass\n",
    "\n",
    "    def show(self, width=None):\n",
    "        if TO_LATEX is False:\n",
    "            self.show_md(width)\n",
    "        else:\n",
    "            self.show_latex()\n",
    "        return\n",
    "    \n",
    "    def show_md(self, width):\n",
    "        s = self.df.style\n",
    "        caption = f\"<i>{self.label.label()}</i>: {self.caption}\"\n",
    "        s = (\n",
    "            s.set_caption(caption)\n",
    "            .set_table_styles([\n",
    "                 dict(selector=\"caption\", props=\"caption-side: bottom; font-size:1em;\")\n",
    "             ], overwrite=False)\n",
    "        )\n",
    "        if width:\n",
    "            s = s.set_table_attributes(f'style=\"table-layout: auto; min-width: {width};\"')\n",
    "            pass\n",
    "        display(HTML(f'<div style=\"display: flex; justify-content: center;\">{s.to_html()}</div>'))\n",
    "        return\n",
    "\n",
    "    def show_latex(self):\n",
    "        dm(\"@@begin@:table:@\")\n",
    "        dm(f\"@@centering\")\n",
    "        dm(self.df.to_markdown())\n",
    "        dm(f\"@@caption@:{self.caption}:@\")\n",
    "        dm(self.label.label())\n",
    "        dm(\"@@end@:table:@\")\n",
    "        return\n",
    "    pass\n",
    "\n"
   ]
  },
  {
   "cell_type": "code",
   "execution_count": 3,
   "metadata": {},
   "outputs": [
    {
     "data": {
      "text/markdown": [
       "\n",
       "# Dataset\n",
       "\n",
       "## Data set requirements\n",
       "\n",
       "Network data set for malware detection based on @@ac@:DNS:@ are very limited. As noted in @@cite@:CTU-SME-11:@, not all malware behaves in the same way\n",
       "and the choice of malware used to infect a machine is of great importance during the design phase of the dataset.\n",
       "\n",
       "In the design of the @@cite@:CTU-SME-11:@ network data set, the malicious activity has been chosen accordingly\n",
       "to its capacity to generate network traffic, otherwise it has not been included in the data set generation.\n",
       "\n",
       "In addition, since our work is based on malware trying to establish a connection with the @@ac@:DNS:@ server, we have two further requirements:\n",
       "- the malware must establish a connection with the @@ac@:CC:@ server,\n",
       "- it must use @@ac@:DGA:@ algorithms.\n",
       "Hence, this requirements reduce the number of data sets compatible with our experiment.\n",
       "\n",
       "## Data set used\n",
       "\n",
       "The data set used make use of network traffic capture provided by the @@ac@:MCFP:@ developed by Cites.STSPH, a repository of\n",
       "captured network generated by infected or not-infected machines.\n",
       "\n",
       "The project provides hundreds of captures, diveded by the so-called normal, which means not-infected, and the infected ones.\n",
       "\n",
       "For each capture, we have:\n",
       "- a @@ac@:PCAP:@ file.\n",
       "- The malware if the capture is infected.\n",
       "- Other files generated by network analysis tools like Argus.\n",
       "\n",
       "Given this repository, we need to check for each capture if it would be compatible with our purpose. The compatibility check\n",
       "consists of analysing for each capture the amount of @@ac@:DNS:@ traffic:\n",
       "- In the case of a not-infected capture, we can only hope that the amount of traffic is the greater possible.\n",
       "- For an infected capture, we check if the malware produce @@ac@:DGA:@ traffic.\n",
       "\n",
       "Therefore, for each capture we performed the following steps:\n",
       "1. Given the @@ac@:PCAP:@, we filter out all the packets except the @@ac@:PCAP:@ ones.\n",
       "2. Checking in this filtered @@ac@:PCAP:@, the presence of a @@ac@:DNS:@ query which looks like a @@ac@:DGA:@ malware.\n",
       "3. Given the amount of @@ac@:DNS:@ queries:\n",
       "    - If it is low or the query generated are not @@ac@:DGA:@, we discard the capture.\n",
       "    - Otherwise we insert each @@ac@:DNS:@ packet of the capture into a relational database.\n",
       "\n",
       "## Database\n",
       "\n",
       "In order to achieve better performance during our experiments and analysis, instead of releaving in sparse csv files, we implement a relational database.\n",
       "The principal table of the database are:\n",
       "- PCAP-table, indicating each @capture. It is related to the Malware-table.\n",
       "- Malware-table, indicating the malware which infected one or more captures included in the PCAP-table.\n",
       "- Packet-table, indicating each DNS-packet. Each packet is related to its parent PCAP.\n",
       "- DN-table (Domain Name table), indicating each domain name apperead in Packet-table, avoiding duplicates.\n",
       "It is related to one or more records of Packet-table.\n",
       "- NN-table (Neural Network table), indicating each @LSTM neural network used to predict @@ac@:DGA:@ domain name.\n",
       "- DN-NN-table, a many to many relationship which relates each domain name of DN-table to a neural network of NN-table,\n",
       "including the prediction value $\\varepsilon_i = O_i(d_j)$ where $i$ indicate the NN record, and $j$ the the DN record.\n",
       "\n",
       "Using this methodology, we avoid:\n",
       "- Duplication of work, the prediction for each packet will be performed just one time for each neural network.\n",
       "- Duplication of data, the information about the same domain name - and its predictions - will not be duplicated for each time it appears.\n",
       "Further advantages are:\n",
       "- Saving data store memory.\n",
       "- Use of SQL language.\n",
       "- Better data management related to a test-bed made of *sparse* CSV.\n",
       "- Each capture insterted into the Database follow the same data processing steps and fits into the database data structure.\n",
       "\n"
      ],
      "text/plain": [
       "<IPython.core.display.Markdown object>"
      ]
     },
     "metadata": {},
     "output_type": "display_data"
    }
   ],
   "source": [
    "\n",
    "dm(\n",
    "f\"\"\"\n",
    "# Dataset\n",
    "\n",
    "## Data set requirements\n",
    "\n",
    "Network data set for malware detection based on {AC.DNS} are very limited. As noted in {Cites.CTU_SME_11}, not all malware behaves in the same way\n",
    "and the choice of malware used to infect a machine is of great importance during the design phase of the dataset.\n",
    "\n",
    "In the design of the {Cites.CTU_SME_11} network data set, the malicious activity has been chosen accordingly\n",
    "to its capacity to generate network traffic, otherwise it has not been included in the data set generation.\n",
    "\n",
    "In addition, since our work is based on malware trying to establish a connection with the {AC.DNS} server, we have two further requirements:\n",
    "- the malware must establish a connection with the {AC.CC} server,\n",
    "- it must use {AC.DGA} algorithms.\n",
    "Hence, this requirements reduce the number of data sets compatible with our experiment.\n",
    "\n",
    "## Data set used\n",
    "\n",
    "The data set used make use of network traffic capture provided by the {AC.MCFP} developed by {Cites.STSPH}, a repository of\n",
    "captured network generated by infected or not-infected machines.\n",
    "\n",
    "The project provides hundreds of captures, diveded by the so-called normal, which means {LNI}, and the {LI} ones.\n",
    "\n",
    "For each capture, we have:\n",
    "- a {AC.PCAP} file.\n",
    "- The malware if the capture is infected.\n",
    "- Other files generated by network analysis tools like Argus.\n",
    "\n",
    "Given this repository, we need to check for each capture if it would be compatible with our purpose. The compatibility check\n",
    "consists of analysing for each capture the amount of {AC.DNS} traffic:\n",
    "- In the case of a {LNI} capture, we can only hope that the amount of traffic is the greater possible.\n",
    "- For an {LI} capture, we check if the malware produce {AC.DGA} traffic.\n",
    "\n",
    "Therefore, for each capture we performed the following steps:\n",
    "1. Given the {AC.PCAP}, we filter out all the packets except the {AC.PCAP} ones.\n",
    "2. Checking in this filtered {AC.PCAP}, the presence of a {AC.DNS} query which looks like a {AC.DGA} malware.\n",
    "3. Given the amount of {AC.DNS} queries:\n",
    "    - If it is low or the query generated are not {AC.DGA}, we discard the capture.\n",
    "    - Otherwise we insert each {AC.DNS} packet of the capture into a relational database.\n",
    "\n",
    "## Database\n",
    "\n",
    "In order to achieve better performance during our experiments and analysis, instead of releaving in sparse csv files, we implement a relational database.\n",
    "The principal table of the database are:\n",
    "- PCAP-table, indicating each @capture. It is related to the Malware-table.\n",
    "- Malware-table, indicating the malware which infected one or more captures included in the PCAP-table.\n",
    "- Packet-table, indicating each DNS-packet. Each packet is related to its parent PCAP.\n",
    "- DN-table (Domain Name table), indicating each domain name apperead in Packet-table, avoiding duplicates.\n",
    "It is related to one or more records of Packet-table.\n",
    "- NN-table (Neural Network table), indicating each @LSTM neural network used to predict {AC.DGA} domain name.\n",
    "- DN-NN-table, a many to many relationship which relates each domain name of DN-table to a neural network of NN-table,\n",
    "including the prediction value $\\\\varepsilon_i = O_i(d_j)$ where $i$ indicate the NN record, and $j$ the the DN record.\n",
    "\n",
    "Using this methodology, we avoid:\n",
    "- Duplication of work, the prediction for each packet will be performed just one time for each neural network.\n",
    "- Duplication of data, the information about the same domain name - and its predictions - will not be duplicated for each time it appears.\n",
    "Further advantages are:\n",
    "- Saving data store memory.\n",
    "- Use of SQL language.\n",
    "- Better data management related to a test-bed made of *sparse* CSV.\n",
    "- Each capture insterted into the Database follow the same data processing steps and fits into the database data structure.\n",
    "\n",
    "\"\"\")"
   ]
  },
  {
   "cell_type": "code",
   "execution_count": null,
   "metadata": {},
   "outputs": [],
   "source": []
  },
  {
   "cell_type": "code",
   "execution_count": 4,
   "metadata": {
    "tags": [
     "hide-input"
    ]
   },
   "outputs": [],
   "source": [
    "\n",
    "def pp(rows):\n",
    "    if isinstance(rows, list):\n",
    "        dm(\"\\n\".join(rows))\n",
    "    else:\n",
    "        dm(rows)\n",
    "    pass\n",
    "\n",
    "def ptime(hours):\n",
    "    if hours < 1:\n",
    "        return qq.Quantity(hours * 60, units=\"min\").render(prec=1)\n",
    "    if hours < 24:\n",
    "        return qq.Quantity(hours, units=\"hr\").render(prec=1)\n",
    "    if hours >= 24:\n",
    "        return qq.Quantity(hours / 24, units=\"days\").render(prec=1)\n"
   ]
  },
  {
   "cell_type": "markdown",
   "metadata": {},
   "source": [
    "## Data set analysis"
   ]
  },
  {
   "cell_type": "code",
   "execution_count": 5,
   "metadata": {},
   "outputs": [],
   "source": [
    "DF = pd.read_sql(f\"\"\"\n",
    "    SELECT\n",
    "        PCAP.*,\n",
    "        MW.DGA\n",
    "    FROM PCAP \n",
    "    JOIN MALWARE AS MW\n",
    "    ON MW.ID = PCAP.MALWARE_ID\n",
    "    WHERE PCAP.DATASET = '{DATASET}'\n",
    "\"\"\", database.engine)\n",
    "\n",
    "DF[\"dga\"] = DF[\"dga\"].replace([0,2], [\"not-infected\", \"infected\"])"
   ]
  },
  {
   "cell_type": "code",
   "execution_count": 6,
   "metadata": {
    "tags": [
     "hide-input"
    ]
   },
   "outputs": [
    {
     "data": {
      "text/markdown": [
       "\n",
       "The final data set is composed by 50 captures.\n",
       "Of these, 33 are infected and \n",
       "17 not-infected.\n",
       "\n",
       "Table @@ref@:total-q:@ shows the amount of requests for each class.\n"
      ],
      "text/plain": [
       "<IPython.core.display.Markdown object>"
      ]
     },
     "metadata": {},
     "output_type": "display_data"
    },
    {
     "data": {
      "text/markdown": [
       "@@begin@:table:@"
      ],
      "text/plain": [
       "<IPython.core.display.Markdown object>"
      ]
     },
     "metadata": {},
     "output_type": "display_data"
    },
    {
     "data": {
      "text/markdown": [
       "|              |   count | q     | u    |\n",
       "|:-------------|--------:|:------|:-----|\n",
       "| infected     |      33 | 13.1M | 113k |\n",
       "| not-infected |      17 | 299k  | 29k  |"
      ],
      "text/plain": [
       "<IPython.core.display.Markdown object>"
      ]
     },
     "metadata": {},
     "output_type": "display_data"
    },
    {
     "data": {
      "text/markdown": [
       "@@label@:total-q:@"
      ],
      "text/plain": [
       "<IPython.core.display.Markdown object>"
      ]
     },
     "metadata": {},
     "output_type": "display_data"
    },
    {
     "data": {
      "text/markdown": [
       "@@caption@:Amount of requests for each class.:@"
      ],
      "text/plain": [
       "<IPython.core.display.Markdown object>"
      ]
     },
     "metadata": {},
     "output_type": "display_data"
    },
    {
     "data": {
      "text/markdown": [
       "@@end@:table:@"
      ],
      "text/plain": [
       "<IPython.core.display.Markdown object>"
      ]
     },
     "metadata": {},
     "output_type": "display_data"
    }
   ],
   "source": [
    "\n",
    "total_q = (\n",
    "    DF.rename(columns={\"id\": \"count\"})[[\"count\", \"q\", \"u\", \"dga\"]]\n",
    "        .groupby(\"dga\")\n",
    "        .agg({\"count\": \"count\", \"q\": \"sum\", \"u\": \"sum\"})\n",
    ")\n",
    "\n",
    "total_q.index.rename(None, inplace=True)\n",
    "\n",
    "total_q = total_q.map(lambda x: qq.Quantity(x).render(prec=2))\n",
    "\n",
    "total_q = Table(total_q, Tables.TOTAL_Q, \"Amount of requests for each class.\")\n",
    "\n",
    "total_q.show('400px')\n",
    "\n",
    "pp(\n",
    "f\"\"\"\n",
    "The final data set is composed by {DF.shape[0]} captures.\n",
    "Of these, {total_q.df.loc[\"infected\", \"count\"]} are {LI} and \n",
    "{total_q.df.loc[\"not-infected\", \"count\"]} {LNI}.\n",
    "\n",
    "Table {total_q.label.ref()} shows the amount of requests for each class.\n",
    "\"\"\"\n",
    ")\n"
   ]
  },
  {
   "cell_type": "code",
   "execution_count": 7,
   "metadata": {},
   "outputs": [
    {
     "data": {
      "text/markdown": [
       "@@begin@:table:@"
      ],
      "text/plain": [
       "<IPython.core.display.Markdown object>"
      ]
     },
     "metadata": {},
     "output_type": "display_data"
    },
    {
     "data": {
      "text/markdown": [
       "|              |   count | q     | u     |\n",
       "|:-------------|--------:|:------|:------|\n",
       "| infected     |      33 | 396k  | 3.42k |\n",
       "| not-infected |      17 | 17.6k | 1.71k |"
      ],
      "text/plain": [
       "<IPython.core.display.Markdown object>"
      ]
     },
     "metadata": {},
     "output_type": "display_data"
    },
    {
     "data": {
      "text/markdown": [
       "@@label@:average-q:@"
      ],
      "text/plain": [
       "<IPython.core.display.Markdown object>"
      ]
     },
     "metadata": {},
     "output_type": "display_data"
    },
    {
     "data": {
      "text/markdown": [
       "@@caption@:Average number of requests and uniques per @capture.:@"
      ],
      "text/plain": [
       "<IPython.core.display.Markdown object>"
      ]
     },
     "metadata": {},
     "output_type": "display_data"
    },
    {
     "data": {
      "text/markdown": [
       "@@end@:table:@"
      ],
      "text/plain": [
       "<IPython.core.display.Markdown object>"
      ]
     },
     "metadata": {},
     "output_type": "display_data"
    }
   ],
   "source": [
    "\n",
    "average_q = DF.rename(columns={\"id\": \"count\"})[[\"count\", \"q\", \"u\", \"dga\"]].groupby(\"dga\").agg({\"count\": \"count\", \"q\": \"sum\", \"u\": \"sum\"})\n",
    "average_q.index.rename(None, inplace=True)\n",
    "average_q[\"q\"] /= average_q[\"count\"]\n",
    "average_q[\"u\"] /= average_q[\"count\"]\n",
    "average_q = average_q.map(lambda x: qq.Quantity(x).render(prec=2))\n",
    "average_q = Table(average_q, Tables.AVERAGE_Q, f\"Average number of requests and uniques per capture.\")\n",
    "\n",
    "average_q.show(width='300px')"
   ]
  },
  {
   "cell_type": "code",
   "execution_count": 12,
   "metadata": {
    "scrolled": true
   },
   "outputs": [
    {
     "data": {
      "text/markdown": [
       "@@begin@:figure:@"
      ],
      "text/plain": [
       "<IPython.core.display.Markdown object>"
      ]
     },
     "metadata": {},
     "output_type": "display_data"
    },
    {
     "data": {
      "text/markdown": [
       "@@centering"
      ],
      "text/plain": [
       "<IPython.core.display.Markdown object>"
      ]
     },
     "metadata": {},
     "output_type": "display_data"
    },
    {
     "data": {
      "text/markdown": [
       "@@includegraphics@qwidth=@@textwidthq@ @:q-per-s.pdf:@"
      ],
      "text/plain": [
       "<IPython.core.display.Markdown object>"
      ]
     },
     "metadata": {},
     "output_type": "display_data"
    },
    {
     "data": {
      "text/markdown": [
       "@@label@:fig:q-per-s:@"
      ],
      "text/plain": [
       "<IPython.core.display.Markdown object>"
      ]
     },
     "metadata": {},
     "output_type": "display_data"
    },
    {
     "data": {
      "text/markdown": [
       "@@caption{Histogram and density distribution of $q/s$ per class.}"
      ],
      "text/plain": [
       "<IPython.core.display.Markdown object>"
      ]
     },
     "metadata": {},
     "output_type": "display_data"
    },
    {
     "data": {
      "text/markdown": [
       "@@end@:figure:@"
      ],
      "text/plain": [
       "<IPython.core.display.Markdown object>"
      ]
     },
     "metadata": {},
     "output_type": "display_data"
    },
    {
     "data": {
      "text/markdown": [
       "@@begin@:table:@"
      ],
      "text/plain": [
       "<IPython.core.display.Markdown object>"
      ]
     },
     "metadata": {},
     "output_type": "display_data"
    },
    {
     "data": {
      "text/markdown": [
       "@@centering"
      ],
      "text/plain": [
       "<IPython.core.display.Markdown object>"
      ]
     },
     "metadata": {},
     "output_type": "display_data"
    },
    {
     "data": {
      "text/markdown": [
       "|              |   count |   mean |   std | min   | 25%   | 50%   | 75%   |   max |\n",
       "|:-------------|--------:|-------:|------:|:------|:------|:------|:------|------:|\n",
       "| infected     |      33 |   1.17 |  2.46 | 1.87m | 13.3m | 108m  | 764m  | 10.1  |\n",
       "| not-infected |      17 |   2.49 |  2.58 | 310m  | 838m  | 1.77  | 2.91  |  9.92 |"
      ],
      "text/plain": [
       "<IPython.core.display.Markdown object>"
      ]
     },
     "metadata": {},
     "output_type": "display_data"
    },
    {
     "data": {
      "text/markdown": [
       "@@label@:tab:q-per-s:@"
      ],
      "text/plain": [
       "<IPython.core.display.Markdown object>"
      ]
     },
     "metadata": {},
     "output_type": "display_data"
    },
    {
     "data": {
      "text/markdown": [
       "@@caption@:Average number of queries/uniques per second grouped by the infection class.:@"
      ],
      "text/plain": [
       "<IPython.core.display.Markdown object>"
      ]
     },
     "metadata": {},
     "output_type": "display_data"
    },
    {
     "data": {
      "text/markdown": [
       "@@end@:table:@"
      ],
      "text/plain": [
       "<IPython.core.display.Markdown object>"
      ]
     },
     "metadata": {},
     "output_type": "display_data"
    },
    {
     "data": {
      "text/markdown": [
       "\n",
       "If we consider the **duration**, we will have the unbalancing ratios showed in Table @@ref@:tab:q-per-s:@.\n",
       "\n",
       "We can note that:\n",
       "\n",
       "- the not-infected $q/s$ are more _sparse_ relatevely to the infected ones.\n",
       "- the infected $q/s$ average is lower than the not-infected one.\n",
       "\n",
       "The problem is that the duration is very different for the two kind of captures.\n"
      ],
      "text/plain": [
       "<IPython.core.display.Markdown object>"
      ]
     },
     "metadata": {},
     "output_type": "display_data"
    }
   ],
   "source": [
    "\n",
    "q_per_s = DF.copy()\n",
    "for col in [\"q\"]:\n",
    "    q_per_s[f\"{col}/s\"] = q_per_s[f\"{col}\"] / q_per_s[\"duration\"]\n",
    "\n",
    "\n",
    "fig, axs = plt.subplots(1,2, figsize=(7,2))\n",
    "ax = q_per_s[q_per_s[\"dga\"]==\"infected\"][[\"q/s\", \"dga\"]].plot(kind=\"kde\", ax=axs[0], color=\"#FF000066\", legend=False)\n",
    "q_per_s[q_per_s[\"dga\"]==\"not-infected\"][[\"q/s\", \"dga\"]].plot(kind=\"kde\", ax=axs[0], color=\"#0000FF66\", legend=False)\n",
    "fig.legend([\"infected\", \"not-infected\"])\n",
    "ax = q_per_s[q_per_s[\"dga\"]==\"infected\"][[\"q/s\", \"dga\"]].plot.hist(ax=axs[1], bins=30, color=\"#FF000066\", legend=False)\n",
    "ax = q_per_s[q_per_s[\"dga\"]==\"not-infected\"][[\"q/s\", \"dga\"]].plot.hist(ax=axs[1], bins=30, color=\"#0000FF66\", legend=False)\n",
    "\n",
    "fig_q_per_s = Figure(fig, axs, Figures.Q_PER_S, \"Histogram and density distribution of $q/s$ per class.\")\n",
    "\n",
    "q_per_s = q_per_s[[\"q/s\", \"dga\"]].groupby(\"dga\").describe()\n",
    "q_per_s.index.rename(None, inplace=True)\n",
    "q_per_s.columns = q_per_s.columns.droplevel(0)\n",
    "q_per_s = Table(\n",
    "    q_per_s.map(lambda x: qq.Quantity(x).render(prec=2)),\n",
    "    Tables.Q_PER_S,\n",
    "    caption=\"Average number of queries/uniques per second grouped by the infection class.\"\n",
    ")\n",
    "\n",
    "fig_q_per_s.show()\n",
    "\n",
    "q_per_s.show()\n",
    "\n",
    "plt.close()\n",
    "\n",
    "pp(f\"\"\"\n",
    "If we consider the **duration**, we will have the unbalancing ratios showed in Table {q_per_s.label.ref()}.\n",
    "\n",
    "We can note that:\n",
    "\n",
    "- the {LNI} $q/s$ are more _sparse_ relatevely to the {LI} ones.\n",
    "- the {LI} $q/s$ average is lower than the {LNI} one.\n",
    "\n",
    "The problem is that the duration is very different for the two kind of captures.\n",
    "\"\"\"\n",
    ")\n",
    "\n",
    "\n",
    "# tmp = DF.copy()\n",
    "# for col in [\"u\"]:\n",
    "#     tmp[f\"{col}/s\"] = tmp[f\"{col}\"] / tmp[\"duration\"]\n",
    "# tmp = tmp[[ \"u/s\", \"dga\"]].groupby(\"dga\").describe()\n",
    "# tmp.index.rename(None, inplace=True)"
   ]
  },
  {
   "cell_type": "code",
   "execution_count": 10,
   "metadata": {},
   "outputs": [
    {
     "data": {
      "text/markdown": [
       "#### Captures duration"
      ],
      "text/plain": [
       "<IPython.core.display.Markdown object>"
      ]
     },
     "metadata": {},
     "output_type": "display_data"
    },
    {
     "data": {
      "text/markdown": [
       "@@begin@:figure:@"
      ],
      "text/plain": [
       "<IPython.core.display.Markdown object>"
      ]
     },
     "metadata": {},
     "output_type": "display_data"
    },
    {
     "data": {
      "text/markdown": [
       "@@centering"
      ],
      "text/plain": [
       "<IPython.core.display.Markdown object>"
      ]
     },
     "metadata": {},
     "output_type": "display_data"
    },
    {
     "data": {
      "text/markdown": [
       "@@includegraphics@qwidth=@@textwidthq@@:duration.pdf:@"
      ],
      "text/plain": [
       "<IPython.core.display.Markdown object>"
      ]
     },
     "metadata": {},
     "output_type": "display_data"
    },
    {
     "data": {
      "text/markdown": [
       "@@label@:duration:@"
      ],
      "text/plain": [
       "<IPython.core.display.Markdown object>"
      ]
     },
     "metadata": {},
     "output_type": "display_data"
    },
    {
     "data": {
      "text/markdown": [
       "@@caption{Distribution of the duration of all the captures per class.}"
      ],
      "text/plain": [
       "<IPython.core.display.Markdown object>"
      ]
     },
     "metadata": {},
     "output_type": "display_data"
    },
    {
     "data": {
      "text/markdown": [
       "@@end@:figure:@"
      ],
      "text/plain": [
       "<IPython.core.display.Markdown object>"
      ]
     },
     "metadata": {},
     "output_type": "display_data"
    },
    {
     "data": {
      "text/markdown": [
       "\n",
       "The capture duration is higly unbalanced. As we can see in Table @@ref@:duration:@ precisely:\n",
       "\n",
       "- The maximum duration for not-infected is just 6.5 hours respect the 71 days of the infected ones.\n",
       "- The average duration for not-infected is just 2.4 hours while the infected one is 18 days.\n"
      ],
      "text/plain": [
       "<IPython.core.display.Markdown object>"
      ]
     },
     "metadata": {},
     "output_type": "display_data"
    },
    {
     "data": {
      "text/markdown": [
       "@@begin@:table:@"
      ],
      "text/plain": [
       "<IPython.core.display.Markdown object>"
      ]
     },
     "metadata": {},
     "output_type": "display_data"
    },
    {
     "data": {
      "text/markdown": [
       "| dga          | mean    | std     | min     | 25%      | 50%     | 75%     | max     |\n",
       "|:-------------|:--------|:--------|:--------|:---------|:--------|:--------|:--------|\n",
       "| infected     | 18 days | 17 days | 1.4 min | 5.6 days | 13 days | 30 days | 71 days |\n",
       "| not-infected | 2.4 hr  | 1.8 hr  | 19 min  | 1.1 hr   | 1.9 hr  | 3.9 hr  | 6.5 hr  |"
      ],
      "text/plain": [
       "<IPython.core.display.Markdown object>"
      ]
     },
     "metadata": {},
     "output_type": "display_data"
    },
    {
     "data": {
      "text/markdown": [
       "@@label@:duration:@"
      ],
      "text/plain": [
       "<IPython.core.display.Markdown object>"
      ]
     },
     "metadata": {},
     "output_type": "display_data"
    },
    {
     "data": {
      "text/markdown": [
       "@@caption@:bo:@"
      ],
      "text/plain": [
       "<IPython.core.display.Markdown object>"
      ]
     },
     "metadata": {},
     "output_type": "display_data"
    },
    {
     "data": {
      "text/markdown": [
       "@@end@:table:@"
      ],
      "text/plain": [
       "<IPython.core.display.Markdown object>"
      ]
     },
     "metadata": {},
     "output_type": "display_data"
    }
   ],
   "source": [
    "pp(\"#### Captures duration\")\n",
    "\n",
    "TO_LATEX=True\n",
    "\n",
    "fig, axs = plt.subplots(1,2, figsize=(7, 2))\n",
    "hours = (1 * 60 * 60)\n",
    "tmp = DF[[\"duration\", \"dga\"]].copy()\n",
    "tmp[\"duration\"] = tmp[\"duration\"] / hours\n",
    "tmp[tmp[\"dga\"] == \"not-infected\"].plot.hist(\n",
    "    ax=axs[0],\n",
    "    bins=30,\n",
    "    legend=False,\n",
    "    title=\"not-infected\",\n",
    "    color=\"#0000FF66\"\n",
    ")\n",
    "axs[0].set_xlabel(\"1 Hour\")\n",
    "# axs[0].set_yticks([0,1,2,3])\n",
    "axs[0].set_xticks([0,1,2,3,4,5,6,7])\n",
    "hours = (12 * 60 * 60)\n",
    "tmp = DF[[\"duration\", \"dga\"]].copy()\n",
    "tmp[\"duration\"] = tmp[\"duration\"] / hours\n",
    "tmp[tmp[\"dga\"] == \"infected\"].plot.hist(\n",
    "    ax=axs[1],\n",
    "    legend=False,\n",
    "    bins=30,\n",
    "    title=\"infected\",\n",
    "    color=\"#FF000066\"\n",
    ")\n",
    "axs[1].set_xlabel(\"12 Hours\")\n",
    "axs[1].set_ylabel(None)\n",
    "axs[1].set_xticks([0,25,50,75,100,125,150])\n",
    "\n",
    "fig = Figure(fig, axs, Figures.DURATION, \"Distribution of the duration of all the captures per class.\")\n",
    "\n",
    "fig.show(-0.2)\n",
    "\n",
    "plt.close()\n",
    "\n",
    "hours = (1 * 60 * 60)\n",
    "tab_duration = DF[[\"duration\", \"dga\"]].copy()\n",
    "tab_duration[\"duration\"] = tab_duration[\"duration\"] / hours\n",
    "tab_duration = (\n",
    "    tab_duration\n",
    "       .groupby(\"dga\")\n",
    "       .describe()\n",
    "       .drop(columns=(\"duration\", \"count\"))\n",
    "       .map(ptime))\n",
    "tab_duration.columns = tab_duration.columns.droplevel(0)\n",
    "\n",
    "tab_duration = Table(tab_duration, Tables.DURATION, f\"bo\")\n",
    "\n",
    "tab_duration.show()\n",
    "\n",
    "pp(\n",
    "f\"\"\"\n",
    "The capture duration is higly unbalanced. As we can see in Table {tab_duration.label.ref()} precisely:\n",
    "\n",
    "- The maximum duration for {LNI} is just 6.5 hours respect the 71 days of the {LI} ones.\n",
    "- The average duration for {LNI} is just 2.4 hours while the {LI} one is 18 days.\n",
    "\"\"\")\n"
   ]
  }
 ],
 "metadata": {
  "kernelspec": {
   "display_name": "Python 3 (ipykernel)",
   "language": "python",
   "name": "python3"
  },
  "language_info": {
   "codemirror_mode": {
    "name": "ipython",
    "version": 3
   },
   "file_extension": ".py",
   "mimetype": "text/x-python",
   "name": "python",
   "nbconvert_exporter": "python",
   "pygments_lexer": "ipython3",
   "version": "3.12.0"
  }
 },
 "nbformat": 4,
 "nbformat_minor": 4
}
