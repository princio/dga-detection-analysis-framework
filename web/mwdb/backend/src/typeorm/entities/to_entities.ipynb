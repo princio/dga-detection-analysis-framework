{
 "cells": [
  {
   "cell_type": "code",
   "execution_count": 36,
   "metadata": {},
   "outputs": [
    {
     "name": "stdout",
     "output_type": "stream",
     "text": [
      "Dataset.ts Dataset True\n",
      "Dataset.ts Whitelist False\n",
      "Dataset.ts Ids False\n",
      "Dataset.ts Dn False\n",
      "Dataset.ts Malware False\n",
      "Dataset.ts Nn False\n",
      "Dataset.ts Pcap False\n",
      "Dataset.ts WhitelistDn False\n",
      "Dataset.ts DnNn False\n",
      "Dataset.ts WhitelistList_1 False\n",
      "Dataset.ts WhitelistList False\n",
      "Dataset.ts Message False\n"
     ]
    }
   ],
   "source": [
    "import re\n",
    "\n",
    "import os, shutil\n",
    "\n",
    "res = [\n",
    "    (r'\\n+', '±'),\n",
    "    (r'import \\{.*?;', ''),\n",
    "    (r'@.*?\\)±', ''),\n",
    "    (r' class ', ' interface '),\n",
    "    (r'±', '\\n'),\n",
    "    (r'^\\s+', '    '),\n",
    "]\n",
    "try:\n",
    "    shutil.rmtree(\"types\")\n",
    "except Exception as e:\n",
    "    print(e)\n",
    "    pass\n",
    "try:\n",
    "    os.mkdir(\"types\")\n",
    "except:\n",
    "    pass\n",
    "\n",
    "\n",
    "entities_names = []\n",
    "for _,_,entities in os.walk(\".\"):\n",
    "    for entity in entities:\n",
    "        if entity.endswith(\".ts\"):\n",
    "            entities_names.append(entity.removesuffix(\".ts\"))\n",
    "\n",
    "entities_names = list(set(entities_names))\n",
    "\n",
    "for root,dir,entities in os.walk(\".\"):\n",
    "    if root.find(\"types\") >= 0: continue\n",
    "    for entity in entities:\n",
    "        if not entity.endswith(\".d.ts\") and entity.endswith(\".ts\"):\n",
    "            with open(entity, 'r') as fp:\n",
    "                txt = fp.read()\n",
    "            bo = txt\n",
    "            for r, s in res:\n",
    "                bo = re.sub(r, s, bo, 0, flags=re.MULTILINE)\n",
    "\n",
    "            imports = []\n",
    "            for en in entities_names:\n",
    "                if entity.find(\"Dataset\") >= 0:\n",
    "                    print(entity, en, entity.find(en) >= 0)\n",
    "                if entity.find(en) >= 0:\n",
    "                    continue\n",
    "                if bo.find(en) >= 0:\n",
    "                    imports.append(f\"import {{ {en} }} from \\\"./{en}\\\";\\n\")\n",
    "            \n",
    "            bo = \"\\n\".join(imports) + \"\\n\" + bo\n",
    "\n",
    "            with open(f\"types/{entity.removesuffix('ts')}d.ts\", 'w') as fp:\n",
    "                fp.write(bo)"
   ]
  }
 ],
 "metadata": {
  "kernelspec": {
   "display_name": "scikitlearn",
   "language": "python",
   "name": "python3"
  },
  "language_info": {
   "codemirror_mode": {
    "name": "ipython",
    "version": 3
   },
   "file_extension": ".py",
   "mimetype": "text/x-python",
   "name": "python",
   "nbconvert_exporter": "python",
   "pygments_lexer": "ipython3",
   "version": "3.12.0"
  }
 },
 "nbformat": 4,
 "nbformat_minor": 2
}
